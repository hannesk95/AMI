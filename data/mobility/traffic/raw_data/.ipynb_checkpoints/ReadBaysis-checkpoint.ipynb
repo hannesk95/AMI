{
 "cells": [
  {
   "cell_type": "code",
   "execution_count": 1,
   "metadata": {},
   "outputs": [],
   "source": [
    "import numpy as np\n",
    "import pandas as pd"
   ]
  },
  {
   "cell_type": "code",
   "execution_count": 14,
   "metadata": {},
   "outputs": [
    {
     "name": "stdout",
     "output_type": "stream",
     "text": [
      "   Nr.  Zstnr   Str.   Abs.                            Name      Kfz  \\\n",
      "0  NaN    NaN    NaN    NaN                             NaN      NaN   \n",
      "5  3.0  9506*  A   3  140.0  AS-Aschaffenburg                58315.0   \n",
      "6  4.0  9727*  A   3  160.0  Goldbach (W)                    66589.0   \n",
      "7  5.0  9507*  A   3  180.0  AS Goldbach                     69032.0   \n",
      "8  6.0   9010  A   3  200.0  Hösbach (O)                     52651.0   \n",
      "\n",
      "      20/19      Lkw-%  Kfz Tag    Pt  Kfz Nacht    Pn   Tag-max      Datum  \\\n",
      "0       NaN        NaN      NaN   NaN        NaN   NaN       NaN        NaT   \n",
      "5   -27.8    26.670668   3178.0  23,2      934.0  50,4   87776.0 2020-03-06   \n",
      "6   -31.0    23.589482   3644.0  20,4     1036.0  45,8  100863.0 2020-03-06   \n",
      "7   -27.6    22.143354   3799.0  18,9     1031.0  46,1  106366.0 2020-03-06   \n",
      "8   -31.9    27.194165   2843.0  23,3      896.0  51,8   82193.0 2020-03-06   \n",
      "\n",
      "   Tag  Std-max    Datum.1 Tag.1   Std  \n",
      "0  NaN      NaN        NaT   NaN   NaN  \n",
      "5   FR   6994.0 2020-03-06    FR  16.0  \n",
      "6   FR   7839.0 2020-03-06    FR  16.0  \n",
      "7   FR   8190.0 2020-03-06    FR  16.0  \n",
      "8   FR   6403.0 2020-03-06    FR  15.0  \n"
     ]
    }
   ],
   "source": [
    "path = 'ZaehlstellenBaysis/2020/'\n",
    "df = pd.read_excel(path + 'monatsauswertung_maerz_2020.xlsx', 'Tab_ZIS', skiprows=1)\n",
    "df = df.drop([1,2,3,4], axis=0)\n",
    "print(df.head())"
   ]
  },
  {
   "cell_type": "code",
   "execution_count": null,
   "metadata": {},
   "outputs": [],
   "source": []
  },
  {
   "cell_type": "code",
   "execution_count": null,
   "metadata": {},
   "outputs": [],
   "source": []
  }
 ],
 "metadata": {
  "kernelspec": {
   "display_name": "Python 3",
   "language": "python",
   "name": "python3"
  },
  "language_info": {
   "codemirror_mode": {
    "name": "ipython",
    "version": 3
   },
   "file_extension": ".py",
   "mimetype": "text/x-python",
   "name": "python",
   "nbconvert_exporter": "python",
   "pygments_lexer": "ipython3",
   "version": "3.7.5"
  }
 },
 "nbformat": 4,
 "nbformat_minor": 4
}
