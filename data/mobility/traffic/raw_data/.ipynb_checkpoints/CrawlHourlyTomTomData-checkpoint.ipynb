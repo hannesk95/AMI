{
 "cells": [
  {
   "cell_type": "code",
   "execution_count": 2,
   "metadata": {},
   "outputs": [],
   "source": [
    "%matplotlib inline\n",
    "import matplotlib.pyplot as plt\n",
    "import pandas as pd\n",
    "import json\n",
    "import requests\n"
   ]
  },
  {
   "cell_type": "markdown",
   "metadata": {},
   "source": [
    "Crawling live data: \n",
    "https://towardsdatascience.com/scraping-live-traffic-data-in-3-lines-of-code-step-by-step-9b2cc7ddf31f"
   ]
  },
  {
   "cell_type": "markdown",
   "metadata": {},
   "source": [
    "############## For one city"
   ]
  },
  {
   "cell_type": "code",
   "execution_count": 26,
   "metadata": {},
   "outputs": [],
   "source": [
    "# retrieve json file for one city\n",
    "#url_hourly = \"https://api.midway.tomtom.com/ranking/liveHourly/DEU_munich\"\n",
    "#url_daily = \"https://api.midway.tomtom.com/ranking/dailyStats/DEU_munich\"\n",
    "#url_weekly = \"https://api.midway.tomtom.com/ranking/weeklyStats/DEU_munich\"\n",
    "#url_weather = \"https://api.weather.midway.tomtom.com/weather/live/DEU_munich\"\n"
   ]
  },
  {
   "cell_type": "markdown",
   "metadata": {},
   "source": [
    "############ Webcrawler for hourly data"
   ]
  },
  {
   "cell_type": "code",
   "execution_count": 2,
   "metadata": {},
   "outputs": [
    {
     "name": "stdout",
     "output_type": "stream",
     "text": [
      "                                           time  TrafficCongestion_hamburg  \\\n",
      "Time                                                                         \n",
      "2020-06-15 16:01:03.481 2020-06-15 16:01:03.481                         44   \n",
      "2020-06-15 17:01:03.106 2020-06-15 17:01:03.106                         33   \n",
      "2020-06-16 04:46:00.000 2020-06-16 04:46:00.000                         21   \n",
      "2020-06-16 05:45:59.317 2020-06-16 05:45:59.317                         34   \n",
      "2020-06-16 16:01:08.876 2020-06-16 16:01:08.876                         56   \n",
      "\n",
      "                         JamsDelay_min_hamburg  JamsLength_km_hamburg  \\\n",
      "Time                                                                    \n",
      "2020-06-15 16:01:03.481                  373.1                   48.3   \n",
      "2020-06-15 17:01:03.106                  261.2                   21.2   \n",
      "2020-06-16 04:46:00.000                   77.8                   34.5   \n",
      "2020-06-16 05:45:59.317                  201.0                   61.0   \n",
      "2020-06-16 16:01:08.876                  456.4                   86.5   \n",
      "\n",
      "                         JamsCount_hamburg  TrafficCongestion_berlin  \\\n",
      "Time                                                                   \n",
      "2020-06-15 16:01:03.481                 56                        35   \n",
      "2020-06-15 17:01:03.106                 36                        27   \n",
      "2020-06-16 04:46:00.000                 24                        26   \n",
      "2020-06-16 05:45:59.317                 63                        38   \n",
      "2020-06-16 16:01:08.876                 94                        38   \n",
      "\n",
      "                         JamsDelay_min_berlin  JamsLength_km_berlin  \\\n",
      "Time                                                                  \n",
      "2020-06-15 16:01:03.481                 319.4                  37.3   \n",
      "2020-06-15 17:01:03.106                 181.2                  16.3   \n",
      "2020-06-16 04:46:00.000                 290.2                  54.6   \n",
      "2020-06-16 05:45:59.317                 498.1                  79.7   \n",
      "2020-06-16 16:01:08.876                 402.3                  47.3   \n",
      "\n",
      "                         JamsCount_berlin  TrafficCongestion_wiesbaden  ...  \\\n",
      "Time                                                                    ...   \n",
      "2020-06-15 16:01:03.481                89                           39  ...   \n",
      "2020-06-15 17:01:03.106                40                           24  ...   \n",
      "2020-06-16 04:46:00.000                66                           17  ...   \n",
      "2020-06-16 05:45:59.317               114                           41  ...   \n",
      "2020-06-16 16:01:08.876               113                           36  ...   \n",
      "\n",
      "                         JamsLength_km_wuppertal  JamsCount_wuppertal  \\\n",
      "Time                                                                    \n",
      "2020-06-15 16:01:03.481                      1.4                    5   \n",
      "2020-06-15 17:01:03.106                      0.1                    1   \n",
      "2020-06-16 04:46:00.000                      1.3                    1   \n",
      "2020-06-16 05:45:59.317                      2.7                    7   \n",
      "2020-06-16 16:01:08.876                      0.8                    3   \n",
      "\n",
      "                         TrafficCongestion_ruhr-region-west  \\\n",
      "Time                                                          \n",
      "2020-06-15 16:01:03.481                                  20   \n",
      "2020-06-15 17:01:03.106                                  13   \n",
      "2020-06-16 04:46:00.000                                  13   \n",
      "2020-06-16 05:45:59.317                                  25   \n",
      "2020-06-16 16:01:08.876                                  21   \n",
      "\n",
      "                         JamsDelay_min_ruhr-region-west  \\\n",
      "Time                                                      \n",
      "2020-06-15 16:01:03.481                            40.3   \n",
      "2020-06-15 17:01:03.106                            26.2   \n",
      "2020-06-16 04:46:00.000                            27.6   \n",
      "2020-06-16 05:45:59.317                           131.5   \n",
      "2020-06-16 16:01:08.876                            63.3   \n",
      "\n",
      "                         JamsLength_km_ruhr-region-west  \\\n",
      "Time                                                      \n",
      "2020-06-15 16:01:03.481                             5.3   \n",
      "2020-06-15 17:01:03.106                             4.1   \n",
      "2020-06-16 04:46:00.000                            17.3   \n",
      "2020-06-16 05:45:59.317                            52.4   \n",
      "2020-06-16 16:01:08.876                             8.8   \n",
      "\n",
      "                         JamsCount_ruhr-region-west  \\\n",
      "Time                                                  \n",
      "2020-06-15 16:01:03.481                          11   \n",
      "2020-06-15 17:01:03.106                          10   \n",
      "2020-06-16 04:46:00.000                          13   \n",
      "2020-06-16 05:45:59.317                          48   \n",
      "2020-06-16 16:01:08.876                          23   \n",
      "\n",
      "                         TrafficCongestion_ruhr-region-east  \\\n",
      "Time                                                          \n",
      "2020-06-15 16:01:03.481                                  20   \n",
      "2020-06-15 17:01:03.106                                  13   \n",
      "2020-06-16 04:46:00.000                                  11   \n",
      "2020-06-16 05:45:59.317                                  24   \n",
      "2020-06-16 16:01:08.876                                  27   \n",
      "\n",
      "                         JamsDelay_min_ruhr-region-east  \\\n",
      "Time                                                      \n",
      "2020-06-15 16:01:03.481                            66.0   \n",
      "2020-06-15 17:01:03.106                            16.9   \n",
      "2020-06-16 04:46:00.000                            46.0   \n",
      "2020-06-16 05:45:59.317                           203.1   \n",
      "2020-06-16 16:01:08.876                           109.2   \n",
      "\n",
      "                         JamsLength_km_ruhr-region-east  \\\n",
      "Time                                                      \n",
      "2020-06-15 16:01:03.481                             9.3   \n",
      "2020-06-15 17:01:03.106                             1.4   \n",
      "2020-06-16 04:46:00.000                            13.3   \n",
      "2020-06-16 05:45:59.317                            44.4   \n",
      "2020-06-16 16:01:08.876                            21.9   \n",
      "\n",
      "                         JamsCount_ruhr-region-east  \n",
      "Time                                                 \n",
      "2020-06-15 16:01:03.481                          24  \n",
      "2020-06-15 17:01:03.106                           6  \n",
      "2020-06-16 04:46:00.000                          19  \n",
      "2020-06-16 05:45:59.317                          54  \n",
      "2020-06-16 16:01:08.876                          31  \n",
      "\n",
      "[5 rows x 101 columns]\n"
     ]
    }
   ],
   "source": [
    "\n",
    "pd.set_option(\"display.max_rows\", False)\n",
    "# create empty lists of append data\n",
    "\n",
    "cities_germany = [\"hamburg\", \"berlin\", \"wiesbaden\", \"munich\", \"nuremberg\", \"stuttgart\", \"bonn\", \"kassel\", \"bremen\", \"cologne\", \"kiel\", \"dresden\", \"dusseldorf\", \"leipzig\", \"freiburg\", \"karlsruhe\", \"augsburg\", \"monchengladbach\", \"mannheim\", \"munster\", \"hannover\", \"bielefeld\", \"wuppertal\", \"ruhr-region-west\", \"ruhr-region-east\"]\n",
    "#, \"frankfurt-am-main\" has no data for ratio to 2019\n",
    "\n",
    "#build common dataframe\n",
    "url_corona_munich = \"https://api.midway.tomtom.com/ranking/liveHourly/DEU_munich\"\n",
    "req = requests.get(url_corona_munich)\n",
    "json = req.json()\n",
    "#print(json)\n",
    "count = len(json[\"data\"])-1\n",
    "i=0\n",
    "time = []\n",
    "\n",
    "while i<=count:\n",
    "    #for corona data\n",
    "    time.append(json[\"data\"][i][\"UpdateTime\"])\n",
    "    i+=1\n",
    "df_hourly = pd.DataFrame({'time': pd.to_datetime(time, unit=\"ms\")}, index=time)\n",
    "df_hourly.index = pd.to_datetime(df_hourly.index, unit=\"ms\")\n",
    "df_hourly.index.name = \"Time\"\n",
    "\n",
    "\n",
    "url_corona = \"https://api.midway.tomtom.com/ranking/liveHourly/DEU_\"\n",
    "for city in cities_germany:\n",
    "    url_corona_city = url_corona + city\n",
    "    req = requests.get(url_corona_city)\n",
    "    json = req.json()\n",
    "    count = len(json[\"data\"])-1\n",
    "    \n",
    "    traffic_congestion = []\n",
    "    time = []\n",
    "    jams_delay = []\n",
    "    jams_count = []\n",
    "    jams_length = []\n",
    "\n",
    "    count = len(json[\"data\"])-1\n",
    "    # append each item in the json file to the empty lists\n",
    "    i=0\n",
    "    while i<=count:\n",
    "        #for hourly data\n",
    "        traffic_congestion.append(json[\"data\"][i][\"TrafficIndexLive\"])\n",
    "\n",
    "        jams_delay.append(json[\"data\"][i][\"JamsDelay\"])\n",
    "        jams_count.append(json[\"data\"][i][\"JamsCount\"])\n",
    "        jams_length.append(json[\"data\"][i][\"JamsLength\"])\n",
    "\n",
    "        time.append(json[\"data\"][i][\"UpdateTime\"])\n",
    "        i+=1\n",
    "    \n",
    "    # create dataframe with the traffic data \n",
    "    df = pd.DataFrame({\"TrafficCongestion_\"+city:traffic_congestion, \"JamsDelay_min_\"+city:jams_delay, \"JamsLength_km_\"+city:jams_length, \"JamsCount_\"+city:jams_count}, index=time)\n",
    "    df.index = pd.to_datetime(df.index, unit=\"ms\")\n",
    "    df.index.name = \"Time\"\n",
    "\n",
    "    df_hourly = pd.merge(df_hourly, df, left_index=True, right_index=True, how='inner')\n",
    "\n",
    "print(df_hourly.head())\n",
    "#df_hourly.to_csv('MunichhourlyData_200621.csv')\n"
   ]
  },
  {
   "cell_type": "code",
   "execution_count": 92,
   "metadata": {},
   "outputs": [
    {
     "data": {
      "text/plain": [
       "<matplotlib.legend.Legend at 0x1170230d0>"
      ]
     },
     "execution_count": 92,
     "metadata": {},
     "output_type": "execute_result"
    },
    {
     "data": {
      "image/png": "[encoded data removed]",
      "text/plain": [
       "<Figure size 432x288 with 1 Axes>"
      ]
     },
     "metadata": {},
     "output_type": "display_data"
    }
   ],
   "source": [
    "plt.style.use(\"ggplot\")\n",
    "ax = df.plot(color=\"Green\")\n",
    "plt.title(\"Munich Traffic\")\n",
    "plt.legend(loc=2)\n",
    "#plt.box(False)"
   ]
  },
  {
   "cell_type": "code",
   "execution_count": null,
   "metadata": {},
   "outputs": [],
   "source": []
  }
 ],
 "metadata": {
  "kernelspec": {
   "display_name": "Python 3",
   "language": "python",
   "name": "python3"
  },
  "language_info": {
   "codemirror_mode": {
    "name": "ipython",
    "version": 3
   },
   "file_extension": ".py",
   "mimetype": "text/x-python",
   "name": "python",
   "nbconvert_exporter": "python",
   "pygments_lexer": "ipython3",
   "version": "3.7.5"
  }
 },
 "nbformat": 4,
 "nbformat_minor": 4
}
