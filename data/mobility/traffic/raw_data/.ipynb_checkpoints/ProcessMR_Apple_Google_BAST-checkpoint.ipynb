{
 "cells": [
  {
   "cell_type": "code",
   "execution_count": 1,
   "metadata": {},
   "outputs": [],
   "source": [
    "import pandas as pd\n",
    "import numpy as np\n",
    "import datetime\n",
    "from datetime import date, timedelta"
   ]
  },
  {
   "cell_type": "markdown",
   "metadata": {},
   "source": [
    "Google"
   ]
  },
  {
   "cell_type": "code",
   "execution_count": 2,
   "metadata": {},
   "outputs": [
    {
     "name": "stderr",
     "output_type": "stream",
     "text": [
      "/usr/local/lib/python3.7/site-packages/IPython/core/interactiveshell.py:3063: DtypeWarning: Columns (3) have mixed types.Specify dtype option on import or set low_memory=False.\n",
      "  interactivity=interactivity, compiler=compiler, result=result)\n"
     ]
    }
   ],
   "source": [
    "#Google\n",
    "pathGoogle = \"MobilityTrends/Google/200610/\"\n",
    "df_daily = pd.read_csv(pathGoogle + 'Global_Mobility_Report.csv', encoding='latin-1', delimiter=',')\n",
    "df_daily = df_daily[df_daily['country_region_code'] == 'DE'] #reduce to Germany\n",
    "df_daily = df_daily[df_daily['sub_region_1'].isnull()] #reduce to only Germany and not Bundesländer\n",
    "\n",
    "#drop some unused columns\n",
    "df_daily = df_daily.drop('sub_region_1', axis = 1)\n",
    "df_daily = df_daily.drop('sub_region_2', axis = 1)\n",
    "df_daily = df_daily.drop('country_region_code', axis = 1)\n",
    "df_daily = df_daily.drop('country_region', axis = 1)\n",
    "\n",
    "df_monthly = df_daily\n",
    "df_daily = df_daily.set_index('date')\n",
    "\n",
    "#convert to monthly mean\n",
    "df_monthly.date = pd.to_datetime(df_monthly.date).dt.to_period('m')\n",
    "df_monthly = df_monthly.groupby('date').mean()"
   ]
  },
  {
   "cell_type": "code",
   "execution_count": 3,
   "metadata": {},
   "outputs": [],
   "source": [
    "#save daily dataframe\n",
    "df_daily.to_csv('GoogleMobilityReport_daily2020.csv')\n",
    "#save monthly dataframe\n",
    "df_monthly.to_csv('GoogleMobilityReport_monthly2020.csv')"
   ]
  },
  {
   "cell_type": "markdown",
   "metadata": {},
   "source": [
    "Apple"
   ]
  },
  {
   "cell_type": "code",
   "execution_count": 4,
   "metadata": {},
   "outputs": [],
   "source": [
    "#Apple\n",
    "#read Apple data and reduce it to Germany and driving\n",
    "pathApple = \"MobilityTrends/Apple/\"\n",
    "df_daily = pd.read_csv(pathApple + 'applemobilitytrends-2020-06-08.csv', encoding='latin-1', delimiter=',')\n",
    "df_daily = df_daily[df_daily['region'] == 'Germany']\n",
    "df_daily = df_daily[df_daily['transportation_type'] == 'driving'] \n",
    "\n",
    "#drop some unused columns\n",
    "df_daily = df_daily.drop(['geo_type', 'region', 'transportation_type', 'alternative_name', 'sub-region', 'country'], axis=1)\n",
    "\n",
    "#transpose dataframe\n",
    "df_daily = pd.melt(df_daily, var_name=\"date\", value_name=\"ValMobilityReport\")\n",
    "\n",
    "#reference baseline is in Apple data 100% but we are comparing at a reference line of 0%\n",
    "df_daily.ValMobilityReport = df_daily.ValMobilityReport - 100\n",
    "\n",
    "\n",
    "df_monthly = df_daily\n",
    "df_daily = df_daily.set_index('date')\n",
    "\n",
    "#convert to monthly mean\n",
    "df_monthly.date = pd.to_datetime(df_monthly.date).dt.to_period('m')\n",
    "df_monthly = df_monthly.groupby('date').mean()\n"
   ]
  },
  {
   "cell_type": "code",
   "execution_count": 5,
   "metadata": {},
   "outputs": [],
   "source": [
    "#save daily dataframe\n",
    "df_daily.to_csv('AppleMobilityReport_daily2020.csv')\n",
    "#save monthly dataframe\n",
    "df_monthly.to_csv('AppleMobilityReport_monthly2020.csv')"
   ]
  },
  {
   "cell_type": "markdown",
   "metadata": {},
   "source": [
    "BAST"
   ]
  },
  {
   "cell_type": "code",
   "execution_count": 6,
   "metadata": {},
   "outputs": [
    {
     "name": "stdout",
     "output_type": "stream",
     "text": [
      "You need to change the values given by the newest BAST mobility report by hand!\n"
     ]
    }
   ],
   "source": [
    "#Values from downloaded pdf taken by hand. Uncommenting and changig this code makes it able to update the data\n",
    "#18.03.-24.03. 25.03.-31.03. 01.04.-07.04. 08.04.-14.04. 15.04.-21.04. 22.04.-28.04. 29.04.-05.05. 06.05.-12.05. 13.05.-19.05.20.05.-26.05.\n",
    "#entspricht eigentlich nicht ganz der KW, da Datum immer von Mittwoch bis Dienstag\n",
    "print('You need to change the values given by the newest BAST mobility report by hand!')\n",
    "KW_BAST = np.array(('KW12', 'KW13', 'KW14', 'KW15', 'KW16', 'KW17', 'KW18', 'KW19', 'KW20'))\n",
    "date_start = np.array(['03/18/2020', '03/25/2020', '04/01/2020', '04/08/2020', '04/15/2020', '04/22/2020', '04/29/2020', '05/06/2020', '05/13/2020', '05/20/2020'])\n",
    "date_ende = np.array(['03/24/2020', '03/31/2020', '04/07/2020', '04/15/2020', '04/21/2020', '04/28/2020', '05/05/2020', '05/12/2020', '05/19/2020', '05/26/2020'])\n",
    "\n",
    "#KFZ\n",
    "val_BAST = np.array((-40, -47, -45, -54, -40, -35, -36, -28, -15, -9))\n",
    "\n",
    "#dataframe for interpolation\n",
    "df_dates = pd.DataFrame({\"date_start\":date_start, \"date_ende\":date_ende, 'val': val_BAST})\n",
    "df_dates.date_start = pd.to_datetime(df_dates.date_start)\n",
    "df_dates.date_ende = pd.to_datetime(df_dates.date_ende)\n",
    "\n",
    "#interpolate weeks, so every day of the week has same value\n",
    "dates = []\n",
    "val = []\n",
    "row, col = df_dates.shape\n",
    "for r in np.arange(0,row):\n",
    "    delta = df_dates.date_ende[r] - df_dates.date_start[r]\n",
    "    for i in range(delta.days):\n",
    "        dates.append(df_dates.date_start[r] + timedelta(days=i))\n",
    "        val.append(df_dates.val[r])\n",
    "\n",
    "#generate daily dataframe\n",
    "df_daily = pd.DataFrame({\"date\":dates, \"BASTMobilityReport_val\":val}, index=dates) #, index=date\n",
    "df_daily.index.name = \"Date\"\n",
    "\n",
    "df_monthly = df_daily\n",
    "df_monthly.date = pd.to_datetime(df_monthly.date).dt.to_period('m')\n",
    "df_monthly = df_monthly.groupby('date').mean()\n"
   ]
  },
  {
   "cell_type": "code",
   "execution_count": 7,
   "metadata": {},
   "outputs": [],
   "source": [
    "#save daily dataframe\n",
    "df_daily.to_csv('BASTMobilityReport_daily2020.csv')\n",
    "#save monthly dataframe\n",
    "df_monthly.to_csv('BASTMobilityReport_monthly2020.csv')"
   ]
  },
  {
   "cell_type": "code",
   "execution_count": null,
   "metadata": {},
   "outputs": [],
   "source": []
  }
 ],
 "metadata": {
  "kernelspec": {
   "display_name": "Python 3",
   "language": "python",
   "name": "python3"
  },
  "language_info": {
   "codemirror_mode": {
    "name": "ipython",
    "version": 3
   },
   "file_extension": ".py",
   "mimetype": "text/x-python",
   "name": "python",
   "nbconvert_exporter": "python",
   "pygments_lexer": "ipython3",
   "version": "3.7.5"
  }
 },
 "nbformat": 4,
 "nbformat_minor": 4
}
