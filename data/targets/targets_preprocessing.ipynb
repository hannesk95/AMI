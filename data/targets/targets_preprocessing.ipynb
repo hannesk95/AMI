{
 "cells": [
  {
   "cell_type": "markdown",
   "metadata": {},
   "source": [
    "# Preprocessing of target data"
   ]
  },
  {
   "cell_type": "markdown",
   "metadata": {},
   "source": [
    "### Load necessary libraries"
   ]
  },
  {
   "cell_type": "code",
   "execution_count": 1,
   "metadata": {},
   "outputs": [],
   "source": [
    "import numpy as np\n",
    "import matplotlib.pyplot as plt\n",
    "import seaborn as sns\n",
    "import pandas as pd"
   ]
  },
  {
   "cell_type": "markdown",
   "metadata": {},
   "source": [
    "### Define filepath of raw data and load raw file into dataframe"
   ]
  },
  {
   "cell_type": "code",
   "execution_count": 2,
   "metadata": {},
   "outputs": [],
   "source": [
    "filepath = './raw data/Öko-Institut Sektorale_Abgrenzung_Treibhausgasemissionen_Datenbasis_(Stand 17. Dez 19).xlsx'\n",
    "data = pd.read_excel(filepath, sheet_name='Tabelle 1-3')"
   ]
  },
  {
   "cell_type": "markdown",
   "metadata": {},
   "source": [
    "### Subselect only important data from overall file"
   ]
  },
  {
   "cell_type": "code",
   "execution_count": 3,
   "metadata": {},
   "outputs": [],
   "source": [
    "targets_1990_2017 = data.iloc[17, 5:33]\n",
    "targets_2018_2030 = data.iloc[17, 63:76]"
   ]
  },
  {
   "cell_type": "markdown",
   "metadata": {},
   "source": [
    "### Prepare time history entries and corresponding values (targets)"
   ]
  },
  {
   "cell_type": "code",
   "execution_count": 4,
   "metadata": {},
   "outputs": [],
   "source": [
    "targets_1990_2017 = targets_1990_2017.tolist()\n",
    "targets_2018_2030 = targets_2018_2030.tolist()\n",
    "targets_1990_2017.extend(targets_2018_2030)\n",
    "targets = targets_1990_2017\n",
    "years = np.arange(1990, 2031, 1)"
   ]
  },
  {
   "cell_type": "markdown",
   "metadata": {},
   "source": [
    "### Create dataframe in predefined style and save as .csv into file"
   ]
  },
  {
   "cell_type": "code",
   "execution_count": 5,
   "metadata": {},
   "outputs": [],
   "source": [
    "d = {'date': years, 'Mio.tonnes_CO2': targets}\n",
    "df = pd.DataFrame(data=d)\n",
    "df.to_csv('./Öko-Institut Sektorale_Abgrenzung_Treibhausgasemissionen_Datenbasis.csv')"
   ]
  }
 ],
 "metadata": {
  "kernelspec": {
   "display_name": "Python 3",
   "language": "python",
   "name": "python3"
  },
  "language_info": {
   "codemirror_mode": {
    "name": "ipython",
    "version": 3
   },
   "file_extension": ".py",
   "mimetype": "text/x-python",
   "name": "python",
   "nbconvert_exporter": "python",
   "pygments_lexer": "ipython3",
   "version": "3.7.7"
  }
 },
 "nbformat": 4,
 "nbformat_minor": 4
}
