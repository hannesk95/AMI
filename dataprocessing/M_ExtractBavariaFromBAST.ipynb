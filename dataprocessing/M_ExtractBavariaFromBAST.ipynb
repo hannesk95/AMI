{
 "cells": [
  {
   "cell_type": "code",
   "execution_count": 1,
   "metadata": {},
   "outputs": [],
   "source": [
    "import pandas as pd\n",
    "import numpy as np\n",
    "import matplotlib.pyplot as plt"
   ]
  },
  {
   "cell_type": "markdown",
   "metadata": {},
   "source": [
    "### Read raw data of BAYSIS and BAST traffic count stations\n",
    "Baysis contains the information which traffic count station is in Bavaria.\n",
    "BAST also contains these counting stations but they are not labeled."
   ]
  },
  {
   "cell_type": "code",
   "execution_count": 2,
   "metadata": {},
   "outputs": [],
   "source": [
    "df_Bast = pd.read_csv('../data/mobility/raw_data/ZaehlstellenBAST/BAST_CountingStations_monthly.csv',index_col='date')\n",
    "df_Baysis = pd.read_csv('../data/mobility/raw_data/ZaehlstellenBaysis/Baysis_CountingStations_monthly.csv',index_col='date')\n"
   ]
  },
  {
   "cell_type": "markdown",
   "metadata": {},
   "source": [
    "Drop all columns (stations) of the BAST dataset that are not included in the BAYSIS dataset and therefor not in Bavaria."
   ]
  },
  {
   "cell_type": "code",
   "execution_count": 3,
   "metadata": {},
   "outputs": [],
   "source": [
    "for column in df_Bast:\n",
    "    if column not in df_Baysis.columns:\n",
    "        df_Bast = df_Bast.drop(column,axis=1)"
   ]
  },
  {
   "cell_type": "markdown",
   "metadata": {},
   "source": [
    "Create new dataframe that contains the traffic information of Bavaria based on the german-wide BAST dataset."
   ]
  },
  {
   "cell_type": "code",
   "execution_count": 4,
   "metadata": {},
   "outputs": [],
   "source": [
    "df_BastBavaria = pd.DataFrame({'M_BAST_Bavaria_AverTotalVehicPerCountingStation':df_Bast.mean(axis=1)}, index=df_Bast.index)"
   ]
  },
  {
   "cell_type": "markdown",
   "metadata": {},
   "source": [
    "Save as csv"
   ]
  },
  {
   "cell_type": "code",
   "execution_count": 5,
   "metadata": {},
   "outputs": [],
   "source": [
    "df_BastBavaria.to_csv('../data/mobility/BAST_Bavaria_CountingStations_Feature_monthly.csv')"
   ]
  }
 ],
 "metadata": {
  "kernelspec": {
   "display_name": "Python 3",
   "language": "python",
   "name": "python3"
  },
  "language_info": {
   "codemirror_mode": {
    "name": "ipython",
    "version": 3
   },
   "file_extension": ".py",
   "mimetype": "text/x-python",
   "name": "python",
   "nbconvert_exporter": "python",
   "pygments_lexer": "ipython3",
   "version": "3.7.5"
  }
 },
 "nbformat": 4,
 "nbformat_minor": 4
}
