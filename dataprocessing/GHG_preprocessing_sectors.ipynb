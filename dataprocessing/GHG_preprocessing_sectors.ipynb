{
 "cells": [
  {
   "cell_type": "markdown",
   "metadata": {},
   "source": [
    "# Preprocessing of target data for each sector - Energy/Households, Mobility and Economy"
   ]
  },
  {
   "cell_type": "markdown",
   "metadata": {},
   "source": [
    "### Load necessary libraries"
   ]
  },
  {
   "cell_type": "code",
   "execution_count": 1,
   "metadata": {},
   "outputs": [],
   "source": [
    "import numpy as np\n",
    "import matplotlib.pyplot as plt\n",
    "import seaborn as sns\n",
    "import pandas as pd"
   ]
  },
  {
   "cell_type": "markdown",
   "metadata": {},
   "source": [
    "### Define filepath of raw data and load raw file into dataframe"
   ]
  },
  {
   "cell_type": "code",
   "execution_count": 2,
   "metadata": {},
   "outputs": [],
   "source": [
    "filepath = './raw data/Öko-Institut Sektorale_Abgrenzung_Treibhausgasemissionen_Datenbasis_(Stand 17. Dez 19).xlsx'\n",
    "data = pd.read_excel(filepath, sheet_name='Tabelle 1-3')"
   ]
  },
  {
   "cell_type": "markdown",
   "metadata": {},
   "source": [
    "### Subselect only necessary data from overall file"
   ]
  },
  {
   "cell_type": "code",
   "execution_count": 3,
   "metadata": {},
   "outputs": [
    {
     "name": "stdout",
     "output_type": "stream",
     "text": [
      "2018.2    313.289\n",
      "2019.2    300.638\n",
      "2020.2    287.987\n",
      "Name: 4, dtype: object\n"
     ]
    }
   ],
   "source": [
    "energiewirtschaft_1990_2017 = data.iloc[4, 5:33]\n",
    "energiewirtschaft_2018_2020 = data.iloc[4, 63:66]\n",
    "print(energiewirtschaft_2018_2020)"
   ]
  },
  {
   "cell_type": "code",
   "execution_count": 4,
   "metadata": {},
   "outputs": [
    {
     "name": "stdout",
     "output_type": "stream",
     "text": [
      "2018.2    169.102\n",
      "2019.2     171.53\n",
      "2020.2    173.958\n",
      "Name: 12, dtype: object\n"
     ]
    }
   ],
   "source": [
    "verkeher_1990_2017 = data.iloc[12, 5:33]\n",
    "verkeher_2018_2020 = data.iloc[12, 63:66]\n",
    "print(verkeher_2018_2020)"
   ]
  },
  {
   "cell_type": "code",
   "execution_count": 5,
   "metadata": {},
   "outputs": [
    {
     "name": "stdout",
     "output_type": "stream",
     "text": [
      "2018.2    204.058\n",
      "2019.2    209.271\n",
      "2020.2    214.484\n",
      "Name: 7, dtype: object\n"
     ]
    }
   ],
   "source": [
    "industrie_1990_2017 = data.iloc[7, 5:33]\n",
    "industrie_2018_2020 = data.iloc[7, 63:66]\n",
    "print(industrie_2018_2020)"
   ]
  },
  {
   "cell_type": "code",
   "execution_count": 6,
   "metadata": {},
   "outputs": [
    {
     "name": "stdout",
     "output_type": "stream",
     "text": [
      "2018.2     87.842\n",
      "2019.2    86.8251\n",
      "2020.2    85.8083\n",
      "Name: 9, dtype: object\n"
     ]
    }
   ],
   "source": [
    "haushalte_1990_2017 = data.iloc[9, 5:33]\n",
    "haushalte_2018_2020 = data.iloc[9, 63:66]\n",
    "print(haushalte_2018_2020)"
   ]
  },
  {
   "cell_type": "code",
   "execution_count": 7,
   "metadata": {},
   "outputs": [
    {
     "name": "stdout",
     "output_type": "stream",
     "text": [
      "2018.2    36.5521\n",
      "2019.2    36.6633\n",
      "2020.2    36.7745\n",
      "Name: 8, dtype: object\n"
     ]
    }
   ],
   "source": [
    "gewerbe_1990_2017 = data.iloc[8, 5:33]\n",
    "gewerbe_2018_2020 = data.iloc[8, 63:66]\n",
    "print(gewerbe_2018_2020)"
   ]
  },
  {
   "cell_type": "code",
   "execution_count": 8,
   "metadata": {},
   "outputs": [],
   "source": [
    "energiewirtschaft_1990_2017 = energiewirtschaft_1990_2017.tolist()\n",
    "energiewirtschaft_2018_2020 = energiewirtschaft_2018_2020.tolist()\n",
    "\n",
    "verkeher_1990_2017 = verkeher_1990_2017.tolist()\n",
    "verkeher_2018_2020 = verkeher_2018_2020.tolist()\n",
    "\n",
    "industrie_1990_2017 = industrie_1990_2017.tolist()\n",
    "industrie_2018_2020 = industrie_2018_2020.tolist()\n",
    "\n",
    "haushalte_1990_2017 = haushalte_1990_2017.tolist()\n",
    "haushalte_2018_2020 = haushalte_2018_2020.tolist()\n",
    "\n",
    "gewerbe_1990_2017 = gewerbe_1990_2017.tolist()\n",
    "gewerbe_2018_2020 = gewerbe_2018_2020.tolist()"
   ]
  },
  {
   "cell_type": "code",
   "execution_count": 9,
   "metadata": {},
   "outputs": [],
   "source": [
    "energiewirtschaft_1990_2017.extend(energiewirtschaft_2018_2020)\n",
    "verkeher_1990_2017.extend(verkeher_2018_2020)\n",
    "industrie_1990_2017.extend(industrie_2018_2020)\n",
    "haushalte_1990_2017.extend(haushalte_2018_2020)\n",
    "gewerbe_1990_2017.extend(gewerbe_2018_2020)"
   ]
  },
  {
   "cell_type": "code",
   "execution_count": 18,
   "metadata": {},
   "outputs": [
    {
     "name": "stdout",
     "output_type": "stream",
     "text": [
      "31\n",
      "31\n",
      "31\n",
      "31\n",
      "31\n",
      "[598.31181264 585.0753082  551.65708365 552.34160544 540.81609478\n",
      " 530.62558958 550.22840147 524.6308297  518.12336743 495.38640292\n",
      " 504.67116316 529.12323008 519.21865463 532.2843666  518.07943799\n",
      " 509.36913372 512.12815662 492.54866604 490.83637498 456.67668752\n",
      " 475.73187676 457.31824376 471.78608511 480.89435591 443.29014867\n",
      " 435.59028427 433.38953324 417.50573745 401.1306562  387.46287097\n",
      " 373.79508573]\n"
     ]
    }
   ],
   "source": [
    "print(len(energiewirtschaft_1990_2017))\n",
    "print(len(verkeher_1990_2017))\n",
    "print(len(industrie_1990_2017))\n",
    "print(len(haushalte_1990_2017))\n",
    "print(len(gewerbe_1990_2017))\n",
    "print(np.asarray(energiewirtschaft_1990_2017) + np.asarray(haushalte_1990_2017))\n",
    "years = np.arange(1990, 2021, 1)"
   ]
  },
  {
   "cell_type": "markdown",
   "metadata": {},
   "source": [
    "### Prepare time history entries and corresponding values (targets)"
   ]
  },
  {
   "cell_type": "code",
   "execution_count": 17,
   "metadata": {},
   "outputs": [
    {
     "ename": "NameError",
     "evalue": "name 'targets_1990_2017' is not defined",
     "output_type": "error",
     "traceback": [
      "\u001b[1;31m---------------------------------------------------------------------------\u001b[0m",
      "\u001b[1;31mNameError\u001b[0m                                 Traceback (most recent call last)",
      "\u001b[1;32m<ipython-input-17-c62f9947202f>\u001b[0m in \u001b[0;36m<module>\u001b[1;34m\u001b[0m\n\u001b[1;32m----> 1\u001b[1;33m \u001b[0mtargets_1990_2017\u001b[0m \u001b[1;33m=\u001b[0m \u001b[0mtargets_1990_2017\u001b[0m\u001b[1;33m.\u001b[0m\u001b[0mtolist\u001b[0m\u001b[1;33m(\u001b[0m\u001b[1;33m)\u001b[0m\u001b[1;33m\u001b[0m\u001b[1;33m\u001b[0m\u001b[0m\n\u001b[0m\u001b[0;32m      2\u001b[0m \u001b[0mtargets_2018_2020\u001b[0m \u001b[1;33m=\u001b[0m \u001b[0mtargets_2018_2020\u001b[0m\u001b[1;33m.\u001b[0m\u001b[0mtolist\u001b[0m\u001b[1;33m(\u001b[0m\u001b[1;33m)\u001b[0m\u001b[1;33m\u001b[0m\u001b[1;33m\u001b[0m\u001b[0m\n\u001b[0;32m      3\u001b[0m \u001b[0mtargets_2018_2030\u001b[0m \u001b[1;33m=\u001b[0m \u001b[0mtargets_2018_2030\u001b[0m\u001b[1;33m.\u001b[0m\u001b[0mtolist\u001b[0m\u001b[1;33m(\u001b[0m\u001b[1;33m)\u001b[0m\u001b[1;33m\u001b[0m\u001b[1;33m\u001b[0m\u001b[0m\n\u001b[0;32m      4\u001b[0m \u001b[0mtargets_1990_2017\u001b[0m\u001b[1;33m.\u001b[0m\u001b[0mextend\u001b[0m\u001b[1;33m(\u001b[0m\u001b[0mtargets_2018_2020\u001b[0m\u001b[1;33m)\u001b[0m\u001b[1;33m\u001b[0m\u001b[1;33m\u001b[0m\u001b[0m\n\u001b[0;32m      5\u001b[0m \u001b[1;31m#targets_1990_2017.extend(targets_2018_2030)\u001b[0m\u001b[1;33m\u001b[0m\u001b[1;33m\u001b[0m\u001b[1;33m\u001b[0m\u001b[0m\n",
      "\u001b[1;31mNameError\u001b[0m: name 'targets_1990_2017' is not defined"
     ]
    }
   ],
   "source": [
    "targets_1990_2017 = targets_1990_2017.tolist()\n",
    "targets_2018_2020 = targets_2018_2020.tolist()\n",
    "targets_2018_2030 = targets_2018_2030.tolist()\n",
    "targets_1990_2017.extend(targets_2018_2020)\n",
    "#targets_1990_2017.extend(targets_2018_2030)\n",
    "targets = targets_1990_2017\n",
    "years = np.arange(1990, 2021, 1)\n",
    "#years = np.arange(1990, 2031, 1)"
   ]
  },
  {
   "cell_type": "markdown",
   "metadata": {},
   "source": [
    "### Create dataframe in predefined style and save as .csv into file"
   ]
  },
  {
   "cell_type": "code",
   "execution_count": 19,
   "metadata": {},
   "outputs": [],
   "source": [
    "d = {'date': years, 'E_Mio.tonnes_CO2': np.asarray(energiewirtschaft_1990_2017) + np.asarray(haushalte_1990_2017), 'M_Mio.tonnes_CO2': verkeher_1990_2017, 'ECO_Mio.tonnes_CO2': np.asarray(industrie_1990_2017) + np.asarray(gewerbe_1990_2017)}\n",
    "df = pd.DataFrame(data=d)\n",
    "df.to_csv('./Oeko-Institut_Sektorale_Abgrenzung_Treibhausgasemissionen_Daten_Sektor.csv', index=False)"
   ]
  },
  {
   "cell_type": "code",
   "execution_count": null,
   "metadata": {},
   "outputs": [],
   "source": []
  }
 ],
 "metadata": {
  "kernelspec": {
   "display_name": "Python 3",
   "language": "python",
   "name": "python3"
  },
  "language_info": {
   "codemirror_mode": {
    "name": "ipython",
    "version": 3
   },
   "file_extension": ".py",
   "mimetype": "text/x-python",
   "name": "python",
   "nbconvert_exporter": "python",
   "pygments_lexer": "ipython3",
   "version": "3.7.7"
  }
 },
 "nbformat": 4,
 "nbformat_minor": 4
}
