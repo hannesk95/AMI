{
 "cells": [
  {
   "cell_type": "markdown",
   "metadata": {},
   "source": [
    "# Webcrawler for TomTom traffic congestion\n",
    "Source: https://www.tomtom.com/en_gb/traffic-index/ranking/\n",
    "Data of 25 cities in Germany is available"
   ]
  },
  {
   "cell_type": "code",
   "execution_count": 6,
   "metadata": {},
   "outputs": [],
   "source": [
    "%matplotlib inline\n",
    "import matplotlib.pyplot as plt\n",
    "import pandas as pd\n",
    "import json\n",
    "import requests\n",
    "import datetime as dt"
   ]
  },
  {
   "cell_type": "markdown",
   "metadata": {},
   "source": [
    "## Download data and process to monthly means"
   ]
  },
  {
   "cell_type": "code",
   "execution_count": 7,
   "metadata": {},
   "outputs": [],
   "source": [
    "cities_germany = [\"hamburg\", \"berlin\", \"wiesbaden\", \"munich\", \"nuremberg\", \"stuttgart\", \"bonn\", \"kassel\", \"bremen\", \"cologne\", \"kiel\", \"dresden\", \"dusseldorf\", \"leipzig\", \"freiburg\", \"karlsruhe\", \"augsburg\", \"monchengladbach\", \"mannheim\", \"munster\", \"hannover\", \"bielefeld\", \"wuppertal\", \"ruhr-region-west\", \"ruhr-region-east\"]\n",
    "#\"frankfurt-am-main\" has no data for ratio to 2019\n",
    "\n",
    "url_corona = \"https://api.midway.tomtom.com/ranking/dailyStats/DEU_\"\n",
    "\n",
    "#build common dataframe\n",
    "date = []\n",
    "weekday = []\n",
    "week = []\n",
    "url_corona_munich = \"https://api.midway.tomtom.com/ranking/dailyStats/DEU_munich\"\n",
    "req = requests.get(url_corona_munich)\n",
    "json = req.json()\n",
    "count = len(json)-1\n",
    "\n",
    "# append each item in the json file to the empty lists\n",
    "i=0\n",
    "while i<=count:\n",
    "    #for corona data\n",
    "    date.append(json[i][\"date\"])\n",
    "    weekday.append(json[i][\"weekday\"])\n",
    "    week.append(json[i][\"week\"])\n",
    "    i+=1\n",
    "df_daily = pd.DataFrame({\"date\":date, \"weekday\": weekday, \"week\": week}, index=date)\n",
    "df_daily.index.name = \"Date\"\n",
    "\n",
    "    \n",
    "for city in cities_germany:\n",
    "    url_corona_city = url_corona + city\n",
    "    req = requests.get(url_corona_city)\n",
    "    json = req.json()\n",
    "\n",
    "    pd.set_option(\"display.max_rows\", False)\n",
    "    # create empty lists of append data\n",
    "    traffic_congestion = []\n",
    "    date = []\n",
    "    traffic_diffRatio_to2019 = []\n",
    "    weekday = []\n",
    "    week = []\n",
    "\n",
    "    count = len(json)-1\n",
    "\n",
    "    # append each item in the json file to the empty lists\n",
    "    i=0\n",
    "    while i<=count:\n",
    "        #for corona data\n",
    "        traffic_congestion.append(json[i][\"congestion\"])\n",
    "        date.append(json[i][\"date\"])\n",
    "        traffic_diffRatio_to2019.append(json[i][\"diffRatio\"])\n",
    "        weekday.append(json[i][\"weekday\"])\n",
    "        week.append(json[i][\"week\"])\n",
    "        i+=1\n",
    "\n",
    "    # create dataframe with the traffic data \n",
    "    df = pd.DataFrame({\"M_TT_TrafficCongestion_\" + city:traffic_congestion, \"M_TT_TrafficDiffRatio20_19_\" + city:traffic_diffRatio_to2019}, index=date)\n",
    "    df.index.name = \"Date\"\n",
    "\n",
    "    df_daily = pd.merge(df_daily, df, left_index=True, right_index=True, how='inner')\n",
    "  \n",
    "#convert to monthly mean\n",
    "df_monthly = df_daily\n",
    "df_monthly.date = pd.to_datetime(df_monthly.date).dt.to_period('m')\n",
    "df_monthly = df_monthly.groupby('date').mean()\n"
   ]
  },
  {
   "cell_type": "markdown",
   "metadata": {},
   "source": [
    "### Save dataframes as csv"
   ]
  },
  {
   "cell_type": "code",
   "execution_count": 8,
   "metadata": {},
   "outputs": [],
   "source": [
    "#save daily dataframe\n",
    "df_daily.to_csv('data/mobility/raw_data/MobilityTrends/TomTom/SingleCitiesGermanyTomTom_daily2020.csv')\n",
    "#save monthly dataframe\n",
    "df_monthly.to_csv('data/mobility/raw_data/MobilityTrends/TomTom/SingleCitiesGermanyTomTom_monthly2020.csv')\n"
   ]
  },
  {
   "cell_type": "markdown",
   "metadata": {},
   "source": [
    "### Calculate a new feature by taking the mean of all cities. This feauture should represent the average city traffic congestion in Germany"
   ]
  },
  {
   "cell_type": "code",
   "execution_count": 9,
   "metadata": {},
   "outputs": [],
   "source": [
    "#dataframe to take the mean of the traffic congestion\n",
    "df_featureCongestion = df_monthly\n",
    "#drop all ratio columns\n",
    "for column in df_featureCongestion:\n",
    "    if 'TrafficCongestion' not in column:\n",
    "        df_featureCongestion = df_featureCongestion.drop(column, axis=1)\n",
    "\n",
    "#mean cities and reduce dataframe to this one column that represents the average city congestion in Germany\n",
    "df_featureCongestion['M_TomTomAverageCityCongestion'] = df_featureCongestion.mean(axis=1)\n",
    "df_featureCongestion = df_featureCongestion[['M_TomTomAverageCityCongestion']]\n",
    "\n",
    "\n",
    "\n",
    "#dataframe to take the mean of the difference from 2020 to 2019\n",
    "df_featureRatio = df_monthly\n",
    "#drop all congestion columns\n",
    "for column in df_featureRatio:\n",
    "    if 'TrafficDiffRatio20_19' not in column:\n",
    "        df_featureRatio = df_featureRatio.drop(column, axis=1)\n",
    "\n",
    "#mean cities and reduce dataframe to this one column that represents the average city congestion difference from 2020 to 2019 in Germany\n",
    "df_featureRatio['M_TomTomAverageDiffRatio_20_To_29'] = df_featureRatio.mean(axis=1)\n",
    "df_featureRatio = df_featureRatio[['M_TomTomAverageDiffRatio_20_To_29']]\n",
    "\n",
    "\n",
    "#generate one dataframe with both: traffic congestion and difference from 2020 to 2019\n",
    "df_feature = df_featureCongestion\n",
    "df_feature['M_TomTomAverageDiffRatio_20_To_29'] = df_featureRatio['M_TomTomAverageDiffRatio_20_To_29'].values"
   ]
  },
  {
   "cell_type": "markdown",
   "metadata": {},
   "source": [
    "### Save feature dataframe"
   ]
  },
  {
   "cell_type": "code",
   "execution_count": 10,
   "metadata": {},
   "outputs": [],
   "source": [
    "df_feature.to_csv('data/mobility/AverageOfCitiesGermanyTomTom_monthly.csv')"
   ]
  },
  {
   "cell_type": "markdown",
   "metadata": {},
   "source": [
    "## Some plots"
   ]
  },
  {
   "cell_type": "markdown",
   "metadata": {},
   "source": [
    "### Average city congestion Germany"
   ]
  },
  {
   "cell_type": "code",
   "execution_count": 13,
   "metadata": {},
   "outputs": [
    {
     "data": {
      "image/png": "[encoded data removed]",
      "text/plain": [
       "<Figure size 432x288 with 1 Axes>"
      ]
     },
     "metadata": {},
     "output_type": "display_data"
    }
   ],
   "source": [
    "plt.style.use(\"ggplot\")\n",
    "df_feature.M_TomTomAverageCityCongestion.plot()\n",
    "plt.title(\"Average city congestion of all cities in Germany\")\n",
    "plt.legend(loc=2)\n",
    "plt.box(False)"
   ]
  },
  {
   "cell_type": "markdown",
   "metadata": {},
   "source": [
    "### All cities"
   ]
  },
  {
   "cell_type": "code",
   "execution_count": null,
   "metadata": {},
   "outputs": [],
   "source": [
    "#monthly plot\n",
    "plt.style.use(\"ggplot\")\n",
    "for column in df_monthly:\n",
    "    if \"M_TT_TrafficDiffRatio20_19_\" in column:\n",
    "        ax = df_monthly[column].plot()\n",
    "#ax = df_monthly[\"traffic_diffRatio_to2019_munich\"].plot(color=\"Green\")\n",
    "plt.title(\"traffic_diffRatio_to2019\")\n",
    "#plt.legend(loc=2)\n",
    "plt.box(False)\n"
   ]
  }
 ],
 "metadata": {
  "kernelspec": {
   "display_name": "Python 3",
   "language": "python",
   "name": "python3"
  },
  "language_info": {
   "codemirror_mode": {
    "name": "ipython",
    "version": 3
   },
   "file_extension": ".py",
   "mimetype": "text/x-python",
   "name": "python",
   "nbconvert_exporter": "python",
   "pygments_lexer": "ipython3",
   "version": "3.7.5"
  }
 },
 "nbformat": 4,
 "nbformat_minor": 4
}
