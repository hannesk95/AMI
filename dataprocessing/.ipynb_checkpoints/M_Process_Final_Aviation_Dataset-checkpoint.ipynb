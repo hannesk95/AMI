{
 "cells": [
  {
   "cell_type": "code",
   "execution_count": 1,
   "metadata": {},
   "outputs": [],
   "source": [
    "import pandas as pd\n",
    "import numpy as np\n",
    "import openpyxl"
   ]
  },
  {
   "cell_type": "markdown",
   "metadata": {},
   "source": [
    "# GENESIS data"
   ]
  },
  {
   "cell_type": "markdown",
   "metadata": {},
   "source": [
    "Prepare workbook for preprocessing"
   ]
  },
  {
   "cell_type": "code",
   "execution_count": 2,
   "metadata": {},
   "outputs": [
    {
     "name": "stdout",
     "output_type": "stream",
     "text": [
      "     0     1          2        3          4      5        6       7      8   \\\n",
      "0  2011  None  Insgesamt    Start  Insgesamt  79066  6317075  176163  78053   \n",
      "1  2011  None  Insgesamt  Landung  Insgesamt  78857  6523942  159196  77947   \n",
      "2  2012  None  Insgesamt    Start  Insgesamt  77119  6457080  163985  75792   \n",
      "3  2012  None  Insgesamt  Landung  Insgesamt  76995  6647581  148354  75796   \n",
      "4  2013  None  Insgesamt    Start  Insgesamt  70449  6165292  169570  69075   \n",
      "\n",
      "        9   ...      31     32       33      34     35       36      37  \\\n",
      "0  6303610  ...  193433  98088  9322018  202033  86033  7339992  196797   \n",
      "1  6224288  ...  173576  98213  9648513  178389  86247  7753619  175923   \n",
      "2  6437701  ...  195415  96304  9423748  201864  81629  7216753  203397   \n",
      "3  6330295  ...  172108  96503  9811052  174387  81784  7610018  183495   \n",
      "4  6259454  ...  190747  92606  9624282  204897  78080  7271698  207427   \n",
      "\n",
      "      38       39      40  \n",
      "0  77580  7000250  194253  \n",
      "1  77764  6938514  168234  \n",
      "2  70817  6730211  186853  \n",
      "3  70892  6636541  166781  \n",
      "4  69523  6886254  190721  \n",
      "\n",
      "[5 rows x 41 columns]\n"
     ]
    }
   ],
   "source": [
    "wb = openpyxl.load_workbook(filename='../data/mobility/raw_data/Luftverkehr_Frankfurt_insgesamt_monatlich.xlsx', \n",
    "                   read_only=True)\n",
    "\n",
    "ws = wb['46421-0012']\n",
    "\n",
    "# Read the cell values into a list of lists\n",
    "data_rows = []\n",
    "for row in ws['A10':'AO369']:\n",
    "    data_cols = []\n",
    "    for cell in row:\n",
    "        data_cols.append(cell.value)\n",
    "    data_rows.append(data_cols)\n",
    "\n",
    "df1_tmp = pd.DataFrame(data_rows)\n",
    "#print(df.head())\n",
    "\n",
    "#drop rows of uniportant data\n",
    "drop1 = 0\n",
    "for n in range(10):\n",
    "    df1_tmp = df1_tmp.drop(np.arange(drop1, drop1+26), axis=0)\n",
    "    drop2 = drop1+27\n",
    "    df1_tmp = df1_tmp.drop(np.arange(drop2, drop2+8), axis=0)\n",
    "    drop1 = drop2+9\n",
    "\n",
    "#rename columns and rows rows\n",
    "df1_tmp.index = [0, 1, 2, 3, 4, 5, 6, 7, 8, 9, 10, 11, 12, 13, 14, 15, 16, 17, 18, 19]\n",
    "print(df1_tmp.head())\n",
    "\n",
    "d = {'...':'','-':''}\n",
    "df1_tmp = df1_tmp.replace(d)"
   ]
  },
  {
   "cell_type": "code",
   "execution_count": 3,
   "metadata": {},
   "outputs": [
    {
     "name": "stderr",
     "output_type": "stream",
     "text": [
      "C:\\ProgramData\\Anaconda3\\lib\\site-packages\\ipykernel_launcher.py:21: SettingWithCopyWarning: \n",
      "A value is trying to be set on a copy of a slice from a DataFrame\n",
      "\n",
      "See the caveats in the documentation: http://pandas.pydata.org/pandas-docs/stable/user_guide/indexing.html#returning-a-view-versus-a-copy\n",
      "C:\\ProgramData\\Anaconda3\\lib\\site-packages\\pandas\\core\\indexing.py:205: SettingWithCopyWarning: \n",
      "A value is trying to be set on a copy of a slice from a DataFrame\n",
      "\n",
      "See the caveats in the documentation: http://pandas.pydata.org/pandas-docs/stable/user_guide/indexing.html#returning-a-view-versus-a-copy\n",
      "  self._setitem_with_indexer(indexer, value)\n",
      "C:\\ProgramData\\Anaconda3\\lib\\site-packages\\ipykernel_launcher.py:16: SettingWithCopyWarning: \n",
      "A value is trying to be set on a copy of a slice from a DataFrame\n",
      "\n",
      "See the caveats in the documentation: http://pandas.pydata.org/pandas-docs/stable/user_guide/indexing.html#returning-a-view-versus-a-copy\n",
      "  app.launch_new_instance()\n",
      "C:\\ProgramData\\Anaconda3\\lib\\site-packages\\ipykernel_launcher.py:17: SettingWithCopyWarning: \n",
      "A value is trying to be set on a copy of a slice from a DataFrame\n",
      "\n",
      "See the caveats in the documentation: http://pandas.pydata.org/pandas-docs/stable/user_guide/indexing.html#returning-a-view-versus-a-copy\n",
      "C:\\ProgramData\\Anaconda3\\lib\\site-packages\\ipykernel_launcher.py:18: SettingWithCopyWarning: \n",
      "A value is trying to be set on a copy of a slice from a DataFrame\n",
      "\n",
      "See the caveats in the documentation: http://pandas.pydata.org/pandas-docs/stable/user_guide/indexing.html#returning-a-view-versus-a-copy\n"
     ]
    }
   ],
   "source": [
    "year = np.zeros(120,)\n",
    "month = np.zeros(120,)\n",
    "#example values\n",
    "values = np.zeros(120,)\n",
    "\n",
    "#create dataframe in wrong format\n",
    "df1 = pd.DataFrame({'year': year, 'month': month, 'M_AviationTotalStarts': values, 'M_AviationTotalLandings': values})\n",
    "#print(df.head())\n",
    "\n",
    "idx_df1 = 0\n",
    "idx_df1_tmp = 0\n",
    "\n",
    "for y in range(2011,2021):\n",
    "    col_df1_tmp = 5\n",
    "    for m in range(1,13):\n",
    "        df1.year[idx_df1] = y\n",
    "        df1.month[idx_df1] = m\n",
    "        df1.M_AviationTotalStarts[idx_df1] = df1_tmp[col_df1_tmp][idx_df1_tmp]\n",
    "        #df2.M_AviationTotalPassengernumberStarts[idx_df2] = df[col_df+1][idx_df]\n",
    "        #df2.M_AviationTotalWeightFreightsStarts[idx_df2] = df[col_df+2][idx_df]\n",
    "        df1.M_AviationTotalLandings[idx_df1] = df1_tmp[col_df1_tmp][idx_df1_tmp+1]\n",
    "        #df2.M_AviationTotalPassengernumberLandings[idx_df2] = df[col_df+1][idx_df+1]\n",
    "        #df2.M_AviationTotalWeightFreightsLandings[idx_df2] = df[col_df+2][idx_df+1]\n",
    "        \n",
    "        col_df1_tmp = col_df1_tmp+3\n",
    "        idx_df1 = idx_df1+1\n",
    "        \n",
    "    idx_df1_tmp = idx_df1_tmp+2\n",
    "df1['M_AviationTotalStarts'] = pd.to_numeric(df1['M_AviationTotalStarts'])\n",
    "#print(df1.head())\n",
    "        "
   ]
  },
  {
   "cell_type": "markdown",
   "metadata": {},
   "source": [
    "Combine year and month in one cell"
   ]
  },
  {
   "cell_type": "code",
   "execution_count": 4,
   "metadata": {},
   "outputs": [
    {
     "name": "stdout",
     "output_type": "stream",
     "text": [
      "   M_AviationTotalStarts M_AviationTotalLandings    date\n",
      "0                79066.0                   78857  2011-1\n",
      "1                78053.0                   77947  2011-2\n",
      "2                90877.0                   90670  2011-3\n",
      "3                89391.0                   89174  2011-4\n",
      "4                99138.0                   99151  2011-5\n"
     ]
    }
   ],
   "source": [
    "#change datatype of year and month to change 2019.0 to 2019\n",
    "df1.year = df1.year.astype('int16')\n",
    "df1.month = df1.month.astype('int16')\n",
    "\n",
    "#new column in format: yyyy-month as datatype string\n",
    "df1['date'] = df1.year.astype('str') + '-' + df1.month.astype('str')\n",
    "\n",
    "#drop old columns of year and month\n",
    "df1 = df1.drop(['year', 'month'], axis=1)\n",
    "\n",
    "#show df.head()\n",
    "print(df1.head())"
   ]
  },
  {
   "cell_type": "markdown",
   "metadata": {},
   "source": [
    "Use the date column as index"
   ]
  },
  {
   "cell_type": "code",
   "execution_count": 5,
   "metadata": {},
   "outputs": [
    {
     "name": "stdout",
     "output_type": "stream",
     "text": [
      "         M_AviationTotalStarts M_AviationTotalLandings\n",
      "date                                                  \n",
      "2011-01                79066.0                   78857\n",
      "2011-02                78053.0                   77947\n",
      "2011-03                90877.0                   90670\n",
      "2011-04                89391.0                   89174\n",
      "2011-05                99138.0                   99151\n"
     ]
    }
   ],
   "source": [
    "#change of datatype of column date to datetime with monthly period\n",
    "df1.date = pd.to_datetime(df1.date).dt.to_period('m')\n",
    "\n",
    "#set index of dataframe to date\n",
    "df1 = df1.set_index('date')\n",
    "\n",
    "#show df.head()\n",
    "print(df1.head())"
   ]
  },
  {
   "cell_type": "code",
   "execution_count": 6,
   "metadata": {},
   "outputs": [
    {
     "name": "stdout",
     "output_type": "stream",
     "text": [
      "        M_AviationTotalStartsAndLandings\n",
      "date                                    \n",
      "2011-01                           157923\n",
      "2011-02                           156000\n",
      "2011-03                           181547\n",
      "2011-04                           178565\n",
      "2011-05                           198289\n"
     ]
    }
   ],
   "source": [
    "#Add Starts and Landings and drop them\n",
    "df1['M_AviationTotalStartsAndLandings'] = df1['M_AviationTotalStarts'] + df1['M_AviationTotalLandings']\n",
    "df1= df1.drop(['M_AviationTotalStarts', 'M_AviationTotalLandings'], axis=1)\n",
    "print(df1.head())"
   ]
  },
  {
   "cell_type": "markdown",
   "metadata": {},
   "source": [
    "Test Plot"
   ]
  },
  {
   "cell_type": "code",
   "execution_count": 7,
   "metadata": {},
   "outputs": [
    {
     "data": {
      "text/plain": [
       "<matplotlib.axes._subplots.AxesSubplot at 0x1abd66b4048>"
      ]
     },
     "execution_count": 7,
     "metadata": {},
     "output_type": "execute_result"
    }
   ],
   "source": [
    "df1.M_AviationTotalStartsAndLandings.plot()"
   ]
  },
  {
   "cell_type": "markdown",
   "metadata": {},
   "source": [
    "# OAG data"
   ]
  },
  {
   "cell_type": "code",
   "execution_count": 8,
   "metadata": {},
   "outputs": [
    {
     "ename": "FileNotFoundError",
     "evalue": "[Errno 2] No such file or directory: 'raw_data\\\\OAG_planed flights.xlsx'",
     "output_type": "error",
     "traceback": [
      "\u001b[1;31m---------------------------------------------------------------------------\u001b[0m",
      "\u001b[1;31mFileNotFoundError\u001b[0m                         Traceback (most recent call last)",
      "\u001b[1;32m<ipython-input-8-0dcbd39a67c3>\u001b[0m in \u001b[0;36m<module>\u001b[1;34m\u001b[0m\n\u001b[0;32m      1\u001b[0m wb = openpyxl.load_workbook(filename='raw_data\\OAG_planed flights.xlsx', \n\u001b[1;32m----> 2\u001b[1;33m                    read_only=True)\n\u001b[0m\u001b[0;32m      3\u001b[0m \u001b[1;33m\u001b[0m\u001b[0m\n\u001b[0;32m      4\u001b[0m \u001b[0mws\u001b[0m \u001b[1;33m=\u001b[0m \u001b[0mwb\u001b[0m\u001b[1;33m[\u001b[0m\u001b[1;34m' Summary Table'\u001b[0m\u001b[1;33m]\u001b[0m\u001b[1;33m\u001b[0m\u001b[1;33m\u001b[0m\u001b[0m\n\u001b[0;32m      5\u001b[0m \u001b[1;33m\u001b[0m\u001b[0m\n",
      "\u001b[1;32mC:\\ProgramData\\Anaconda3\\lib\\site-packages\\openpyxl\\reader\\excel.py\u001b[0m in \u001b[0;36mload_workbook\u001b[1;34m(filename, read_only, keep_vba, data_only, keep_links)\u001b[0m\n\u001b[0;32m    314\u001b[0m     \"\"\"\n\u001b[0;32m    315\u001b[0m     reader = ExcelReader(filename, read_only, keep_vba,\n\u001b[1;32m--> 316\u001b[1;33m                         data_only, keep_links)\n\u001b[0m\u001b[0;32m    317\u001b[0m     \u001b[0mreader\u001b[0m\u001b[1;33m.\u001b[0m\u001b[0mread\u001b[0m\u001b[1;33m(\u001b[0m\u001b[1;33m)\u001b[0m\u001b[1;33m\u001b[0m\u001b[1;33m\u001b[0m\u001b[0m\n\u001b[0;32m    318\u001b[0m     \u001b[1;32mreturn\u001b[0m \u001b[0mreader\u001b[0m\u001b[1;33m.\u001b[0m\u001b[0mwb\u001b[0m\u001b[1;33m\u001b[0m\u001b[1;33m\u001b[0m\u001b[0m\n",
      "\u001b[1;32mC:\\ProgramData\\Anaconda3\\lib\\site-packages\\openpyxl\\reader\\excel.py\u001b[0m in \u001b[0;36m__init__\u001b[1;34m(self, fn, read_only, keep_vba, data_only, keep_links)\u001b[0m\n\u001b[0;32m    122\u001b[0m     def __init__(self,  fn, read_only=False, keep_vba=KEEP_VBA,\n\u001b[0;32m    123\u001b[0m                   data_only=False, keep_links=True):\n\u001b[1;32m--> 124\u001b[1;33m         \u001b[0mself\u001b[0m\u001b[1;33m.\u001b[0m\u001b[0marchive\u001b[0m \u001b[1;33m=\u001b[0m \u001b[0m_validate_archive\u001b[0m\u001b[1;33m(\u001b[0m\u001b[0mfn\u001b[0m\u001b[1;33m)\u001b[0m\u001b[1;33m\u001b[0m\u001b[1;33m\u001b[0m\u001b[0m\n\u001b[0m\u001b[0;32m    125\u001b[0m         \u001b[0mself\u001b[0m\u001b[1;33m.\u001b[0m\u001b[0mvalid_files\u001b[0m \u001b[1;33m=\u001b[0m \u001b[0mself\u001b[0m\u001b[1;33m.\u001b[0m\u001b[0marchive\u001b[0m\u001b[1;33m.\u001b[0m\u001b[0mnamelist\u001b[0m\u001b[1;33m(\u001b[0m\u001b[1;33m)\u001b[0m\u001b[1;33m\u001b[0m\u001b[1;33m\u001b[0m\u001b[0m\n\u001b[0;32m    126\u001b[0m         \u001b[0mself\u001b[0m\u001b[1;33m.\u001b[0m\u001b[0mread_only\u001b[0m \u001b[1;33m=\u001b[0m \u001b[0mread_only\u001b[0m\u001b[1;33m\u001b[0m\u001b[1;33m\u001b[0m\u001b[0m\n",
      "\u001b[1;32mC:\\ProgramData\\Anaconda3\\lib\\site-packages\\openpyxl\\reader\\excel.py\u001b[0m in \u001b[0;36m_validate_archive\u001b[1;34m(filename)\u001b[0m\n\u001b[0;32m     94\u001b[0m             \u001b[1;32mraise\u001b[0m \u001b[0mInvalidFileException\u001b[0m\u001b[1;33m(\u001b[0m\u001b[0mmsg\u001b[0m\u001b[1;33m)\u001b[0m\u001b[1;33m\u001b[0m\u001b[1;33m\u001b[0m\u001b[0m\n\u001b[0;32m     95\u001b[0m \u001b[1;33m\u001b[0m\u001b[0m\n\u001b[1;32m---> 96\u001b[1;33m     \u001b[0marchive\u001b[0m \u001b[1;33m=\u001b[0m \u001b[0mZipFile\u001b[0m\u001b[1;33m(\u001b[0m\u001b[0mfilename\u001b[0m\u001b[1;33m,\u001b[0m \u001b[1;34m'r'\u001b[0m\u001b[1;33m)\u001b[0m\u001b[1;33m\u001b[0m\u001b[1;33m\u001b[0m\u001b[0m\n\u001b[0m\u001b[0;32m     97\u001b[0m     \u001b[1;32mreturn\u001b[0m \u001b[0marchive\u001b[0m\u001b[1;33m\u001b[0m\u001b[1;33m\u001b[0m\u001b[0m\n\u001b[0;32m     98\u001b[0m \u001b[1;33m\u001b[0m\u001b[0m\n",
      "\u001b[1;32mC:\\ProgramData\\Anaconda3\\lib\\zipfile.py\u001b[0m in \u001b[0;36m__init__\u001b[1;34m(self, file, mode, compression, allowZip64, compresslevel)\u001b[0m\n\u001b[0;32m   1205\u001b[0m             \u001b[1;32mwhile\u001b[0m \u001b[1;32mTrue\u001b[0m\u001b[1;33m:\u001b[0m\u001b[1;33m\u001b[0m\u001b[1;33m\u001b[0m\u001b[0m\n\u001b[0;32m   1206\u001b[0m                 \u001b[1;32mtry\u001b[0m\u001b[1;33m:\u001b[0m\u001b[1;33m\u001b[0m\u001b[1;33m\u001b[0m\u001b[0m\n\u001b[1;32m-> 1207\u001b[1;33m                     \u001b[0mself\u001b[0m\u001b[1;33m.\u001b[0m\u001b[0mfp\u001b[0m \u001b[1;33m=\u001b[0m \u001b[0mio\u001b[0m\u001b[1;33m.\u001b[0m\u001b[0mopen\u001b[0m\u001b[1;33m(\u001b[0m\u001b[0mfile\u001b[0m\u001b[1;33m,\u001b[0m \u001b[0mfilemode\u001b[0m\u001b[1;33m)\u001b[0m\u001b[1;33m\u001b[0m\u001b[1;33m\u001b[0m\u001b[0m\n\u001b[0m\u001b[0;32m   1208\u001b[0m                 \u001b[1;32mexcept\u001b[0m \u001b[0mOSError\u001b[0m\u001b[1;33m:\u001b[0m\u001b[1;33m\u001b[0m\u001b[1;33m\u001b[0m\u001b[0m\n\u001b[0;32m   1209\u001b[0m                     \u001b[1;32mif\u001b[0m \u001b[0mfilemode\u001b[0m \u001b[1;32min\u001b[0m \u001b[0mmodeDict\u001b[0m\u001b[1;33m:\u001b[0m\u001b[1;33m\u001b[0m\u001b[1;33m\u001b[0m\u001b[0m\n",
      "\u001b[1;31mFileNotFoundError\u001b[0m: [Errno 2] No such file or directory: 'raw_data\\\\OAG_planed flights.xlsx'"
     ]
    }
   ],
   "source": [
    "wb = openpyxl.load_workbook(filename='raw_data\\OAG_planed flights.xlsx', \n",
    "                   read_only=True)\n",
    "\n",
    "ws = wb[' Summary Table']\n",
    "\n",
    "# Read the cell values into a list of lists\n",
    "data_rows = []\n",
    "for row in ws['B7':'L11']:\n",
    "    data_cols = []\n",
    "    for cell in row:\n",
    "        data_cols.append(cell.value)\n",
    "    data_rows.append(data_cols)\n",
    "\n",
    "df2_tmp = pd.DataFrame(data_rows)\n",
    "\n",
    "\n",
    "df2_tmp = df2_tmp.drop(np.arange(1, 4), axis=0)\n",
    "df2_tmp = df2_tmp.drop(0, axis=1)\n",
    "df2_tmp.columns = df2_tmp.iloc[0]\n",
    "df2_tmp = df2_tmp.drop(df2_tmp.index[0])\n",
    "print(df2_tmp)"
   ]
  },
  {
   "cell_type": "code",
   "execution_count": null,
   "metadata": {},
   "outputs": [],
   "source": [
    "import datetime as dt\n",
    "import calendar\n",
    "\n",
    "new_col = calendar.month_name[df2_tmp.columns[-1].month]\n",
    "df2_tmp[new_col] = 0\n",
    "i = 0\n",
    "for col in df2_tmp.columns:\n",
    "    if type(col) is not str:\n",
    "        df2_tmp[new_col] = df2_tmp[new_col] + df2_tmp[col][4]\n",
    "        i = i+1\n",
    "        df2_tmp = df2_tmp.drop(col, axis=1)\n",
    "df2_tmp.June = df2_tmp.June / i\n",
    "print(df2_tmp)"
   ]
  },
  {
   "cell_type": "code",
   "execution_count": null,
   "metadata": {},
   "outputs": [],
   "source": [
    "n_months = df2_tmp.shape[1]\n",
    "year = np.zeros(n_months,)\n",
    "year[:] = 2020 \n",
    "month = np.arange(1,n_months + 1)\n",
    "#example values\n",
    "#values = np.empty(12,)\n",
    "#values[:] = np.nan\n",
    "\n",
    "#create dataframe in wrong format\n",
    "df2 = pd.DataFrame({'year': year, 'month': month, 'M_DifferencePercent': df2_tmp.values[0]})\n",
    "print(df2.head())"
   ]
  },
  {
   "cell_type": "markdown",
   "metadata": {},
   "source": [
    "Combine year and month in one cell"
   ]
  },
  {
   "cell_type": "code",
   "execution_count": null,
   "metadata": {},
   "outputs": [],
   "source": [
    "#change datatype of year and month to change 2019.0 to 2019\n",
    "df2.year = df2.year.astype('int16')\n",
    "df2.month = df2.month.astype('int16')\n",
    "\n",
    "#new column in format: yyyy-month as datatype string\n",
    "df2['date'] = df2.year.astype('str') + '-' + df2.month.astype('str')\n",
    "\n",
    "#drop old columns of year and month\n",
    "df2 = df2.drop(['year', 'month'], axis=1)\n",
    "\n",
    "#show df.head()\n",
    "print(df2.head())"
   ]
  },
  {
   "cell_type": "markdown",
   "metadata": {},
   "source": [
    "Use the date column as index"
   ]
  },
  {
   "cell_type": "code",
   "execution_count": null,
   "metadata": {},
   "outputs": [],
   "source": [
    "#change of datatype of column date to datetime with monthly period\n",
    "df2.date = pd.to_datetime(df2.date).dt.to_period('m')\n",
    "\n",
    "#set index of dataframe to date\n",
    "df2 = df2.set_index('date')\n",
    "\n",
    "#show df.head()\n",
    "print(df2.head())"
   ]
  },
  {
   "cell_type": "code",
   "execution_count": null,
   "metadata": {},
   "outputs": [],
   "source": [
    "df2.M_DifferencePercent.plot()"
   ]
  },
  {
   "cell_type": "markdown",
   "metadata": {},
   "source": [
    "# Combine both dataframes"
   ]
  },
  {
   "cell_type": "code",
   "execution_count": null,
   "metadata": {},
   "outputs": [],
   "source": [
    "df1['M_AviationTotalStartsAndLandings']['2019-01']"
   ]
  },
  {
   "cell_type": "code",
   "execution_count": null,
   "metadata": {},
   "outputs": [],
   "source": [
    "# Aproximate values for 2020\n",
    "df2['M_AviationTotalStartsAndLandings'] = df1['M_AviationTotalStartsAndLandings'][df2.index-12].values * (1+df2['M_DifferencePercent'])\n",
    "print(df2.head(12))"
   ]
  },
  {
   "cell_type": "code",
   "execution_count": null,
   "metadata": {},
   "outputs": [],
   "source": [
    "# Compare dataframes\n",
    "df1.M_AviationTotalStartsAndLandings['2020-01':'2020-06'].plot()\n",
    "df2.M_AviationTotalStartsAndLandings['2020-01':'2020-06'].plot()"
   ]
  },
  {
   "cell_type": "code",
   "execution_count": null,
   "metadata": {},
   "outputs": [],
   "source": [
    "# Add missing values to df1\n",
    "for i in df2.index:\n",
    "    if np.isnan(df1['M_AviationTotalStartsAndLandings'][i]):\n",
    "        df1['M_AviationTotalStartsAndLandings'][i] = df2['M_AviationTotalStartsAndLandings'][i]"
   ]
  },
  {
   "cell_type": "code",
   "execution_count": null,
   "metadata": {},
   "outputs": [],
   "source": [
    "df1.M_AviationTotalStartsAndLandings.plot()"
   ]
  },
  {
   "cell_type": "markdown",
   "metadata": {},
   "source": [
    "Save dateframe in csv format"
   ]
  },
  {
   "cell_type": "code",
   "execution_count": null,
   "metadata": {},
   "outputs": [],
   "source": [
    "df1.to_csv('../data/mobility/Aviation_Final_monthly.csv')"
   ]
  },
  {
   "cell_type": "code",
   "execution_count": null,
   "metadata": {},
   "outputs": [],
   "source": []
  }
 ],
 "metadata": {
  "kernelspec": {
   "display_name": "Python 3",
   "language": "python",
   "name": "python3"
  },
  "language_info": {
   "codemirror_mode": {
    "name": "ipython",
    "version": 3
   },
   "file_extension": ".py",
   "mimetype": "text/x-python",
   "name": "python",
   "nbconvert_exporter": "python",
   "pygments_lexer": "ipython3",
   "version": "3.7.4"
  }
 },
 "nbformat": 4,
 "nbformat_minor": 2
}
