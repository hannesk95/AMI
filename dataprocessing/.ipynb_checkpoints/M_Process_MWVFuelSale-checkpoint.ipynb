{
 "cells": [
  {
   "cell_type": "markdown",
   "metadata": {},
   "source": [
    "## Fuel sale data \n",
    "https://www.mwv.de/publikationen/jahresberichte/ \\\n",
    "E.g. Jahresbericht 2019: Page: 75: Monthly fuel sales tables "
   ]
  },
  {
   "cell_type": "code",
   "execution_count": 1,
   "metadata": {},
   "outputs": [],
   "source": [
    "import numpy as np\n",
    "import pandas as pd\n",
    "import matplotlib.pyplot as plt\n",
    "import seaborn as sns\n",
    "from scipy import stats"
   ]
  },
  {
   "cell_type": "code",
   "execution_count": 2,
   "metadata": {},
   "outputs": [],
   "source": [
    "#timespan for dataframe index\n",
    "ind = pd.date_range(start='1/2000', end='1/2019', freq='M').to_period('m')"
   ]
  },
  {
   "cell_type": "markdown",
   "metadata": {},
   "source": [
    "# Diesel"
   ]
  },
  {
   "cell_type": "code",
   "execution_count": 3,
   "metadata": {},
   "outputs": [],
   "source": [
    "df_diesel2012_2018 = pd.read_csv('../data/mobility/raw_data/MWV_FuelSale/DieselKraftstoff_monatlAbsatzInTsdTonnen_2012_2018.csv', delimiter=' ', index_col='Monat')\n",
    "df_diesel2006_2012 = pd.read_csv('../data/mobility/raw_data/MWV_FuelSale/DieselKraftstoff_monatlAbsatzInTsdTonnen_2006_2012.csv', delimiter=' ', index_col='Monat', encoding='latin-1')\n",
    "df_diesel2000_2006 = pd.read_csv('../data/mobility/raw_data/MWV_FuelSale/DieselKraftstoff_monatlAbsatzInTsdTonnen_2000_2006.csv', delimiter=' ', index_col='Monat', encoding='latin-1')\n",
    "\n",
    "#preprocess dataframes\n",
    "df_diesel2006_2012 = df_diesel2006_2012.drop('2012', axis=1)\n",
    "df_diesel2000_2006 = df_diesel2000_2006.drop('2006', axis=1)\n",
    "\n",
    "#data from 2012 until 2018 has a . as a separator which is like a comma in english -> multiply by 1000\n",
    "for column in df_diesel2012_2018:\n",
    "    df_diesel2012_2018[column] = df_diesel2012_2018[column].values * 1000\n",
    "    \n",
    "df_diesel = pd.concat([df_diesel2000_2006, df_diesel2006_2012, df_diesel2012_2018],axis=1)"
   ]
  },
  {
   "cell_type": "code",
   "execution_count": 4,
   "metadata": {},
   "outputs": [
    {
     "data": {
      "text/html": [
       "<div>\n",
       "<style scoped>\n",
       "    .dataframe tbody tr th:only-of-type {\n",
       "        vertical-align: middle;\n",
       "    }\n",
       "\n",
       "    .dataframe tbody tr th {\n",
       "        vertical-align: top;\n",
       "    }\n",
       "\n",
       "    .dataframe thead th {\n",
       "        text-align: right;\n",
       "    }\n",
       "</style>\n",
       "<table border=\"1\" class=\"dataframe\">\n",
       "  <thead>\n",
       "    <tr style=\"text-align: right;\">\n",
       "      <th></th>\n",
       "      <th>2000</th>\n",
       "      <th>2001</th>\n",
       "      <th>2002</th>\n",
       "      <th>2003</th>\n",
       "      <th>2004</th>\n",
       "      <th>2005</th>\n",
       "      <th>2006</th>\n",
       "      <th>2007</th>\n",
       "      <th>2008</th>\n",
       "      <th>2009</th>\n",
       "      <th>2010</th>\n",
       "      <th>2011</th>\n",
       "      <th>2012</th>\n",
       "      <th>2013</th>\n",
       "      <th>2014</th>\n",
       "      <th>2015</th>\n",
       "      <th>2016</th>\n",
       "      <th>2017</th>\n",
       "      <th>2018</th>\n",
       "    </tr>\n",
       "    <tr>\n",
       "      <th>Monat</th>\n",
       "      <th></th>\n",
       "      <th></th>\n",
       "      <th></th>\n",
       "      <th></th>\n",
       "      <th></th>\n",
       "      <th></th>\n",
       "      <th></th>\n",
       "      <th></th>\n",
       "      <th></th>\n",
       "      <th></th>\n",
       "      <th></th>\n",
       "      <th></th>\n",
       "      <th></th>\n",
       "      <th></th>\n",
       "      <th></th>\n",
       "      <th></th>\n",
       "      <th></th>\n",
       "      <th></th>\n",
       "      <th></th>\n",
       "    </tr>\n",
       "  </thead>\n",
       "  <tbody>\n",
       "    <tr>\n",
       "      <th>Januar</th>\n",
       "      <td>1717</td>\n",
       "      <td>1940</td>\n",
       "      <td>1999</td>\n",
       "      <td>1858</td>\n",
       "      <td>1980</td>\n",
       "      <td>1987</td>\n",
       "      <td>2033</td>\n",
       "      <td>2002</td>\n",
       "      <td>2265</td>\n",
       "      <td>2206</td>\n",
       "      <td>2085</td>\n",
       "      <td>2311</td>\n",
       "      <td>2437.0</td>\n",
       "      <td>2517.0</td>\n",
       "      <td>2691.0</td>\n",
       "      <td>2627.0</td>\n",
       "      <td>2680.0</td>\n",
       "      <td>2954.0</td>\n",
       "      <td>2791.0</td>\n",
       "    </tr>\n",
       "    <tr>\n",
       "      <th>Februar</th>\n",
       "      <td>2100</td>\n",
       "      <td>1968</td>\n",
       "      <td>2099</td>\n",
       "      <td>2090</td>\n",
       "      <td>2088</td>\n",
       "      <td>2033</td>\n",
       "      <td>2004</td>\n",
       "      <td>2084</td>\n",
       "      <td>2315</td>\n",
       "      <td>2248</td>\n",
       "      <td>2189</td>\n",
       "      <td>2443</td>\n",
       "      <td>2511.0</td>\n",
       "      <td>2487.0</td>\n",
       "      <td>2623.0</td>\n",
       "      <td>2607.0</td>\n",
       "      <td>2849.0</td>\n",
       "      <td>2802.0</td>\n",
       "      <td>2826.0</td>\n",
       "    </tr>\n",
       "    <tr>\n",
       "      <th>Maerz</th>\n",
       "      <td>2503</td>\n",
       "      <td>2449</td>\n",
       "      <td>2345</td>\n",
       "      <td>2322</td>\n",
       "      <td>2585</td>\n",
       "      <td>2270</td>\n",
       "      <td>2369</td>\n",
       "      <td>2484</td>\n",
       "      <td>2338</td>\n",
       "      <td>2598</td>\n",
       "      <td>2825</td>\n",
       "      <td>2824</td>\n",
       "      <td>2950.0</td>\n",
       "      <td>2763.0</td>\n",
       "      <td>3018.0</td>\n",
       "      <td>3082.0</td>\n",
       "      <td>3167.0</td>\n",
       "      <td>3466.0</td>\n",
       "      <td>3119.0</td>\n",
       "    </tr>\n",
       "    <tr>\n",
       "      <th>April</th>\n",
       "      <td>2278</td>\n",
       "      <td>2260</td>\n",
       "      <td>2467</td>\n",
       "      <td>2359</td>\n",
       "      <td>2442</td>\n",
       "      <td>2517</td>\n",
       "      <td>2238</td>\n",
       "      <td>2313</td>\n",
       "      <td>2634</td>\n",
       "      <td>2651</td>\n",
       "      <td>2691</td>\n",
       "      <td>2652</td>\n",
       "      <td>2740.0</td>\n",
       "      <td>3045.0</td>\n",
       "      <td>2964.0</td>\n",
       "      <td>3026.0</td>\n",
       "      <td>3262.0</td>\n",
       "      <td>3146.0</td>\n",
       "      <td>3183.0</td>\n",
       "    </tr>\n",
       "    <tr>\n",
       "      <th>Mai</th>\n",
       "      <td>2699</td>\n",
       "      <td>2514</td>\n",
       "      <td>2363</td>\n",
       "      <td>2378</td>\n",
       "      <td>2279</td>\n",
       "      <td>2418</td>\n",
       "      <td>2518</td>\n",
       "      <td>2453</td>\n",
       "      <td>2452</td>\n",
       "      <td>2530</td>\n",
       "      <td>2654</td>\n",
       "      <td>2917</td>\n",
       "      <td>2892.0</td>\n",
       "      <td>2884.0</td>\n",
       "      <td>3022.0</td>\n",
       "      <td>2925.0</td>\n",
       "      <td>3091.0</td>\n",
       "      <td>3346.0</td>\n",
       "      <td>3153.0</td>\n",
       "    </tr>\n",
       "  </tbody>\n",
       "</table>\n",
       "</div>"
      ],
      "text/plain": [
       "         2000  2001  2002  2003  2004  2005  2006  2007  2008  2009  2010  \\\n",
       "Monat                                                                       \n",
       "Januar   1717  1940  1999  1858  1980  1987  2033  2002  2265  2206  2085   \n",
       "Februar  2100  1968  2099  2090  2088  2033  2004  2084  2315  2248  2189   \n",
       "Maerz    2503  2449  2345  2322  2585  2270  2369  2484  2338  2598  2825   \n",
       "April    2278  2260  2467  2359  2442  2517  2238  2313  2634  2651  2691   \n",
       "Mai      2699  2514  2363  2378  2279  2418  2518  2453  2452  2530  2654   \n",
       "\n",
       "         2011    2012    2013    2014    2015    2016    2017    2018  \n",
       "Monat                                                                  \n",
       "Januar   2311  2437.0  2517.0  2691.0  2627.0  2680.0  2954.0  2791.0  \n",
       "Februar  2443  2511.0  2487.0  2623.0  2607.0  2849.0  2802.0  2826.0  \n",
       "Maerz    2824  2950.0  2763.0  3018.0  3082.0  3167.0  3466.0  3119.0  \n",
       "April    2652  2740.0  3045.0  2964.0  3026.0  3262.0  3146.0  3183.0  \n",
       "Mai      2917  2892.0  2884.0  3022.0  2925.0  3091.0  3346.0  3153.0  "
      ]
     },
     "execution_count": 4,
     "metadata": {},
     "output_type": "execute_result"
    }
   ],
   "source": [
    "df_diesel.head()"
   ]
  },
  {
   "cell_type": "code",
   "execution_count": 5,
   "metadata": {},
   "outputs": [],
   "source": [
    "val = []\n",
    "for column in df_diesel:\n",
    "    if column != 'Monat':\n",
    "        val = np.append(val, np.array(df_diesel[column].values))\n"
   ]
  },
  {
   "cell_type": "code",
   "execution_count": 6,
   "metadata": {},
   "outputs": [],
   "source": [
    "df_diesel = pd.DataFrame({'DieselFuelSale': val}, index=ind)\n",
    "df_diesel.index.name = 'date'"
   ]
  },
  {
   "cell_type": "code",
   "execution_count": 7,
   "metadata": {},
   "outputs": [
    {
     "data": {
      "text/html": [
       "<div>\n",
       "<style scoped>\n",
       "    .dataframe tbody tr th:only-of-type {\n",
       "        vertical-align: middle;\n",
       "    }\n",
       "\n",
       "    .dataframe tbody tr th {\n",
       "        vertical-align: top;\n",
       "    }\n",
       "\n",
       "    .dataframe thead th {\n",
       "        text-align: right;\n",
       "    }\n",
       "</style>\n",
       "<table border=\"1\" class=\"dataframe\">\n",
       "  <thead>\n",
       "    <tr style=\"text-align: right;\">\n",
       "      <th></th>\n",
       "      <th>DieselFuelSale</th>\n",
       "    </tr>\n",
       "    <tr>\n",
       "      <th>date</th>\n",
       "      <th></th>\n",
       "    </tr>\n",
       "  </thead>\n",
       "  <tbody>\n",
       "    <tr>\n",
       "      <th>2000-01</th>\n",
       "      <td>1717.0</td>\n",
       "    </tr>\n",
       "    <tr>\n",
       "      <th>2000-02</th>\n",
       "      <td>2100.0</td>\n",
       "    </tr>\n",
       "    <tr>\n",
       "      <th>2000-03</th>\n",
       "      <td>2503.0</td>\n",
       "    </tr>\n",
       "    <tr>\n",
       "      <th>2000-04</th>\n",
       "      <td>2278.0</td>\n",
       "    </tr>\n",
       "    <tr>\n",
       "      <th>2000-05</th>\n",
       "      <td>2699.0</td>\n",
       "    </tr>\n",
       "  </tbody>\n",
       "</table>\n",
       "</div>"
      ],
      "text/plain": [
       "         DieselFuelSale\n",
       "date                   \n",
       "2000-01          1717.0\n",
       "2000-02          2100.0\n",
       "2000-03          2503.0\n",
       "2000-04          2278.0\n",
       "2000-05          2699.0"
      ]
     },
     "execution_count": 7,
     "metadata": {},
     "output_type": "execute_result"
    }
   ],
   "source": [
    "df_diesel.head()"
   ]
  },
  {
   "cell_type": "code",
   "execution_count": 8,
   "metadata": {},
   "outputs": [
    {
     "data": {
      "text/plain": [
       "<matplotlib.axes._subplots.AxesSubplot at 0x124728590>"
      ]
     },
     "execution_count": 8,
     "metadata": {},
     "output_type": "execute_result"
    },
    {
     "data": {
      "image/png": "[encoded data removed]",
      "text/plain": [
       "<Figure size 576x432 with 1 Axes>"
      ]
     },
     "metadata": {
      "needs_background": "light"
     },
     "output_type": "display_data"
    }
   ],
   "source": [
    "df_diesel.plot(figsize=(8,6))"
   ]
  },
  {
   "cell_type": "markdown",
   "metadata": {},
   "source": [
    "## Sektorenverteilung bei Diesel"
   ]
  },
  {
   "cell_type": "code",
   "execution_count": 9,
   "metadata": {},
   "outputs": [
    {
     "data": {
      "text/html": [
       "<div>\n",
       "<style scoped>\n",
       "    .dataframe tbody tr th:only-of-type {\n",
       "        vertical-align: middle;\n",
       "    }\n",
       "\n",
       "    .dataframe tbody tr th {\n",
       "        vertical-align: top;\n",
       "    }\n",
       "\n",
       "    .dataframe thead th {\n",
       "        text-align: right;\n",
       "    }\n",
       "</style>\n",
       "<table border=\"1\" class=\"dataframe\">\n",
       "  <thead>\n",
       "    <tr style=\"text-align: right;\">\n",
       "      <th></th>\n",
       "      <th>RatioStrasseToGesamt</th>\n",
       "    </tr>\n",
       "  </thead>\n",
       "  <tbody>\n",
       "    <tr>\n",
       "      <th>2000</th>\n",
       "      <td>0.891847</td>\n",
       "    </tr>\n",
       "    <tr>\n",
       "      <th>2001</th>\n",
       "      <td>0.894903</td>\n",
       "    </tr>\n",
       "    <tr>\n",
       "      <th>2002</th>\n",
       "      <td>0.899026</td>\n",
       "    </tr>\n",
       "    <tr>\n",
       "      <th>2003</th>\n",
       "      <td>0.898297</td>\n",
       "    </tr>\n",
       "    <tr>\n",
       "      <th>2004</th>\n",
       "      <td>0.903077</td>\n",
       "    </tr>\n",
       "  </tbody>\n",
       "</table>\n",
       "</div>"
      ],
      "text/plain": [
       "      RatioStrasseToGesamt\n",
       "2000              0.891847\n",
       "2001              0.894903\n",
       "2002              0.899026\n",
       "2003              0.898297\n",
       "2004              0.903077"
      ]
     },
     "execution_count": 9,
     "metadata": {},
     "output_type": "execute_result"
    }
   ],
   "source": [
    "df_dieselSektoren2012_2016 = pd.read_csv('../data/mobility/raw_data/MWV_FuelSale/SektoralerVerbrauchDiesel_2012_2016.csv', delimiter=' ', index_col='Sektor')\n",
    "df_dieselSektoren2006_2012 = pd.read_csv('../data/mobility/raw_data/MWV_FuelSale/SektoralerVerbrauchDiesel_2006_2012.csv', delimiter=' ', index_col='Sektor')\n",
    "df_dieselSektoren2000_2006 = pd.read_csv('../data/mobility/raw_data/MWV_FuelSale/SektoralerVerbrauchDiesel_2000_2006.csv', delimiter=' ', index_col='Sektor')\n",
    "\n",
    "df_dieselSektoren2006_2012 = df_dieselSektoren2006_2012.drop('2012', axis=1)\n",
    "df_dieselSektoren2000_2006 = df_dieselSektoren2000_2006.drop('2006', axis=1)\n",
    "\n",
    "var = ['Strassenverkehr', 'Gesamt']\n",
    "#df_dieselSektoren2012_2016 = df_dieselSektoren2012_2016[df_dieselSektoren2012_2016.index == 'Strassenverkehr']\n",
    "#df_dieselSektoren2006_2012 = df_dieselSektoren2006_2012[df_dieselSektoren2006_2012.index == 'Strassenverkehr']\n",
    "#df_dieselSektoren2000_2006 = df_dieselSektoren2000_2006[df_dieselSektoren2000_2006.index == 'Strassenverkehr']\n",
    "\n",
    "df_dieselSektoren2006_2012.head()\n",
    "\n",
    "df_SektorenDiesel = pd.concat([df_dieselSektoren2000_2006, df_dieselSektoren2006_2012, df_dieselSektoren2012_2016], axis=1)\n",
    "df_SektorenDiesel = df_SektorenDiesel.dropna(axis=0)\n",
    "\n",
    "#df_SektorenDiesel['RatioStrasseToGesamt'] = df_SektorenDiesel[df_SektorenDiesel.index == 'Strassenverkehr'] / df_SektorenDiesel[df_SektorenDiesel.index == 'Gesamt']\n",
    "df_SektorenDiesel['2012']['Strassenverkehr']\n",
    "\n",
    "RatioStrasseToGesamt = []\n",
    "for column in df_SektorenDiesel:\n",
    "    RatioStrasseToGesamt = np.append(RatioStrasseToGesamt,(df_SektorenDiesel[column]['Strassenverkehr'] / df_SektorenDiesel[column]['Gesamt']))\n",
    "\n",
    "years = np.array(df_SektorenDiesel.columns)\n",
    "df_SektorenDiesel = pd.DataFrame({'RatioStrasseToGesamt': RatioStrasseToGesamt}, index=years)\n",
    "\n",
    "#df_SektorenDiesel.head()\n",
    "df_SektorenDiesel.head()"
   ]
  },
  {
   "cell_type": "markdown",
   "metadata": {},
   "source": [
    "## only take x percent of diesel sales that correspond to street traffic "
   ]
  },
  {
   "cell_type": "code",
   "execution_count": 10,
   "metadata": {},
   "outputs": [],
   "source": [
    "#create array with 12 values per year\n",
    "monthlyRatioStrass = []\n",
    "for year in df_SektorenDiesel.index:\n",
    "    for k in range(0,12):\n",
    "        monthlyRatioStrass.append(df_SektorenDiesel.RatioStrasseToGesamt[year])\n",
    "        \n",
    "# no data for 2017 and 2018 -> take ratio of 2016\n",
    "for k in range(0,24):\n",
    "        monthlyRatioStrass.append(df_SektorenDiesel.RatioStrasseToGesamt['2016'])\n"
   ]
  },
  {
   "cell_type": "code",
   "execution_count": 11,
   "metadata": {},
   "outputs": [],
   "source": [
    "old = df_diesel.DieselFuelSale\n",
    "df_diesel.DieselFuelSale = df_diesel.DieselFuelSale * monthlyRatioStrass"
   ]
  },
  {
   "cell_type": "markdown",
   "metadata": {},
   "source": [
    "# Benzin"
   ]
  },
  {
   "cell_type": "code",
   "execution_count": 12,
   "metadata": {},
   "outputs": [],
   "source": [
    "df_benzin2012_2018 = pd.read_csv('../data/mobility/raw_data/MWV_FuelSale/OttoKraftstoff_monatlAbsatzInTsdTonnen_2012_2018.csv', delimiter=' ', index_col='Monat')\n",
    "df_benzin2006_2012 = pd.read_csv('../data/mobility/raw_data/MWV_FuelSale/OttoKraftstoff_monatlAbsatzInTsdTonnen_2006_2012.csv', delimiter=' ', index_col='Monat', encoding='latin-1')\n",
    "df_benzin2000_2006 = pd.read_csv('../data/mobility/raw_data/MWV_FuelSale/OttoKraftstoff_monatlAbsatzInTsdTonnen_2000_2006.csv', delimiter=' ', index_col='Monat', encoding='latin-1')\n",
    "\n",
    "#preprocess dataframes\n",
    "df_benzin2006_2012 = df_benzin2006_2012.drop('2012', axis=1)\n",
    "df_benzin2000_2006 = df_benzin2000_2006.drop('2006', axis=1)\n",
    "\n",
    "#data from 2012 until 2018 has a . as a separator which is like a comma in english -> multiply by 1000\n",
    "for column in df_benzin2012_2018:\n",
    "    df_benzin2012_2018[column] = df_benzin2012_2018[column].values * 1000\n",
    "    \n",
    "df_benzin = pd.concat([df_benzin2000_2006, df_benzin2006_2012, df_benzin2012_2018],axis=1)"
   ]
  },
  {
   "cell_type": "code",
   "execution_count": 13,
   "metadata": {},
   "outputs": [],
   "source": [
    "val = []\n",
    "for column in df_benzin:\n",
    "    if column != 'Monat':\n",
    "        val = np.append(val, np.array(df_benzin[column].values))"
   ]
  },
  {
   "cell_type": "code",
   "execution_count": 14,
   "metadata": {},
   "outputs": [],
   "source": [
    "df_benzin = pd.DataFrame({'BenzinFuelSale': val}, index=ind)\n",
    "df_benzin.index.name = 'date'"
   ]
  },
  {
   "cell_type": "code",
   "execution_count": 15,
   "metadata": {},
   "outputs": [
    {
     "data": {
      "text/plain": [
       "<matplotlib.axes._subplots.AxesSubplot at 0x126a145d0>"
      ]
     },
     "execution_count": 15,
     "metadata": {},
     "output_type": "execute_result"
    },
    {
     "data": {
      "image/png": "[encoded data removed]",
      "text/plain": [
       "<Figure size 576x432 with 1 Axes>"
      ]
     },
     "metadata": {
      "needs_background": "light"
     },
     "output_type": "display_data"
    }
   ],
   "source": [
    "df_benzin.plot(figsize=(8,6))"
   ]
  },
  {
   "cell_type": "markdown",
   "metadata": {},
   "source": [
    "# CO2 calculation\n",
    "\n",
    "CO2 pro Liter Kraftstoff: \\\n",
    "https://www.deutsche-handwerks-zeitung.de/kraftstoffverbrauch-in-co2-ausstoss-umrechnen/150/3097/57956#:~:text=Ein%20Liter%20Benzin%20entspricht%202.320,Gramm%20CO2%20angesetzt%20werden. \\\n",
    "\n",
    "Umrechnung tonnen Kraftstoff in Liter: \\\n",
    "1 Liter Benzin: 2.320 Gramm CO2 \\\n",
    "1 Liter Diesel: 2.650 Gramm CO2 \n",
    "\n",
    "\n",
    "\n",
    "Tonnen Kraftstoff in Liter \\\n",
    "1 t Benzin:\t1.333,33 l\t\\\n",
    "1 t Diesel:\t1.190,47 l\t\n",
    "\n"
   ]
  },
  {
   "cell_type": "code",
   "execution_count": 21,
   "metadata": {},
   "outputs": [],
   "source": [
    "df1 = df_benzin\n",
    "df2 = df_diesel"
   ]
  },
  {
   "cell_type": "code",
   "execution_count": 22,
   "metadata": {},
   "outputs": [],
   "source": [
    "df = pd.concat([df1, df2],axis=1)"
   ]
  },
  {
   "cell_type": "code",
   "execution_count": 23,
   "metadata": {},
   "outputs": [
    {
     "data": {
      "text/html": [
       "<div>\n",
       "<style scoped>\n",
       "    .dataframe tbody tr th:only-of-type {\n",
       "        vertical-align: middle;\n",
       "    }\n",
       "\n",
       "    .dataframe tbody tr th {\n",
       "        vertical-align: top;\n",
       "    }\n",
       "\n",
       "    .dataframe thead th {\n",
       "        text-align: right;\n",
       "    }\n",
       "</style>\n",
       "<table border=\"1\" class=\"dataframe\">\n",
       "  <thead>\n",
       "    <tr style=\"text-align: right;\">\n",
       "      <th></th>\n",
       "      <th>BenzinFuelSale</th>\n",
       "      <th>M_KFZ</th>\n",
       "      <th>M_SV</th>\n",
       "      <th>M_PKW</th>\n",
       "      <th>DieselFuelSale</th>\n",
       "    </tr>\n",
       "    <tr>\n",
       "      <th>date</th>\n",
       "      <th></th>\n",
       "      <th></th>\n",
       "      <th></th>\n",
       "      <th></th>\n",
       "      <th></th>\n",
       "    </tr>\n",
       "  </thead>\n",
       "  <tbody>\n",
       "    <tr>\n",
       "      <th>2003-01</th>\n",
       "      <td>1888.0</td>\n",
       "      <td>9.392795e+05</td>\n",
       "      <td>147258.069892</td>\n",
       "      <td>792021.460314</td>\n",
       "      <td>1669.035070</td>\n",
       "    </tr>\n",
       "    <tr>\n",
       "      <th>2003-02</th>\n",
       "      <td>1949.0</td>\n",
       "      <td>9.304566e+05</td>\n",
       "      <td>145590.651613</td>\n",
       "      <td>784865.938413</td>\n",
       "      <td>1877.439880</td>\n",
       "    </tr>\n",
       "    <tr>\n",
       "      <th>2003-03</th>\n",
       "      <td>2196.0</td>\n",
       "      <td>1.048648e+06</td>\n",
       "      <td>162096.791398</td>\n",
       "      <td>886550.899941</td>\n",
       "      <td>2085.844689</td>\n",
       "    </tr>\n",
       "    <tr>\n",
       "      <th>2003-04</th>\n",
       "      <td>2222.0</td>\n",
       "      <td>1.053978e+06</td>\n",
       "      <td>163423.132258</td>\n",
       "      <td>890554.837579</td>\n",
       "      <td>2119.081663</td>\n",
       "    </tr>\n",
       "    <tr>\n",
       "      <th>2003-05</th>\n",
       "      <td>2293.0</td>\n",
       "      <td>1.069978e+06</td>\n",
       "      <td>163692.503226</td>\n",
       "      <td>906285.542829</td>\n",
       "      <td>2136.149299</td>\n",
       "    </tr>\n",
       "  </tbody>\n",
       "</table>\n",
       "</div>"
      ],
      "text/plain": [
       "         BenzinFuelSale         M_KFZ           M_SV          M_PKW  \\\n",
       "date                                                                  \n",
       "2003-01          1888.0  9.392795e+05  147258.069892  792021.460314   \n",
       "2003-02          1949.0  9.304566e+05  145590.651613  784865.938413   \n",
       "2003-03          2196.0  1.048648e+06  162096.791398  886550.899941   \n",
       "2003-04          2222.0  1.053978e+06  163423.132258  890554.837579   \n",
       "2003-05          2293.0  1.069978e+06  163692.503226  906285.542829   \n",
       "\n",
       "         DieselFuelSale  \n",
       "date                     \n",
       "2003-01     1669.035070  \n",
       "2003-02     1877.439880  \n",
       "2003-03     2085.844689  \n",
       "2003-04     2119.081663  \n",
       "2003-05     2136.149299  "
      ]
     },
     "execution_count": 23,
     "metadata": {},
     "output_type": "execute_result"
    },
    {
     "data": {
      "image/png": "[encoded data removed]",
      "text/plain": [
       "<Figure size 432x288 with 1 Axes>"
      ]
     },
     "metadata": {
      "needs_background": "light"
     },
     "output_type": "display_data"
    }
   ],
   "source": [
    "df.plot()\n",
    "df.head()"
   ]
  },
  {
   "cell_type": "markdown",
   "metadata": {},
   "source": [
    "## Berechnung CO2 Werte"
   ]
  },
  {
   "cell_type": "code",
   "execution_count": 24,
   "metadata": {},
   "outputs": [],
   "source": [
    "TsdTonnes = 1000 #fuel sale is in 1000 tonnes\n",
    "TonneInLiterBenzin = 1333.33\n",
    "TonneInLiterDiesel = 1190.47\n",
    "LiterInCO2Benzin = 2.320\n",
    "LiterInCO2Diesel = 2.650\n",
    "\n",
    "df['BenzinFuelSale_CO2'] = df.BenzinFuelSale.values * TsdTonnes * TonneInLiterBenzin * LiterInCO2Benzin # CO2 in kg\n",
    "df['DieselFuelSale_CO2'] = df.DieselFuelSale.values * TsdTonnes * TonneInLiterDiesel * LiterInCO2Diesel # CO2 in kg"
   ]
  },
  {
   "cell_type": "code",
   "execution_count": 25,
   "metadata": {},
   "outputs": [],
   "source": [
    "df['Kraftstoff_CO2'] = (df['BenzinFuelSale_CO2'] + df['DieselFuelSale_CO2']) / 1000 #in tons"
   ]
  },
  {
   "cell_type": "markdown",
   "metadata": {},
   "source": [
    "## Save data"
   ]
  },
  {
   "cell_type": "code",
   "execution_count": 57,
   "metadata": {},
   "outputs": [],
   "source": [
    "df_save = df[['BenzinFuelSale', 'BenzinFuelSale_CO2', 'DieselFuelSale', 'DieselFuelSale_CO2']]\n",
    "\n",
    "df_save = df_save.rename(columns={'BenzinFuelSale': 'BenzinFuelSale_InTsdTonnes', \n",
    "                                  'BenzinFuelSale_CO2': 'BenzinFuelSale_CO2inTonnes', \n",
    "                                  'DieselFuelSale': 'DieselFuelSale_InTsdTonnes', \n",
    "                                  'DieselFuelSale_CO2': 'DieselFuelSale_CO2inTonnes'})\n",
    "df_save.index.name = 'date'\n",
    "df_save.to_csv('../data/mobility/M_MWVFuelSale.csv')"
   ]
  },
  {
   "cell_type": "code",
   "execution_count": null,
   "metadata": {},
   "outputs": [],
   "source": []
  }
 ],
 "metadata": {
  "kernelspec": {
   "display_name": "Python 3",
   "language": "python",
   "name": "python3"
  },
  "language_info": {
   "codemirror_mode": {
    "name": "ipython",
    "version": 3
   },
   "file_extension": ".py",
   "mimetype": "text/x-python",
   "name": "python",
   "nbconvert_exporter": "python",
   "pygments_lexer": "ipython3",
   "version": "3.7.5"
  }
 },
 "nbformat": 4,
 "nbformat_minor": 4
}
