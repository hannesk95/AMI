{
 "cells": [
  {
   "cell_type": "code",
   "execution_count": 1,
   "metadata": {},
   "outputs": [],
   "source": [
    "import pandas as pd\n",
    "import numpy as np\n",
    "import datetime as dt"
   ]
  },
  {
   "cell_type": "code",
   "execution_count": 2,
   "metadata": {},
   "outputs": [
    {
     "name": "stdout",
     "output_type": "stream",
     "text": [
      "         Deutschland       fremd\n",
      "date                            \n",
      "2011-01    2290912.0  21139202.0\n",
      "2011-02    2029008.0  17342809.0\n",
      "2011-03    2207955.0  19158437.0\n",
      "2011-04    2198525.0  18988716.0\n",
      "2011-05    2784340.0  20470142.0\n",
      "         M_ShipsGermanFlag  M_ShipsForeignFlag\n",
      "date                                          \n",
      "2011-01          2290912.0          21139202.0\n",
      "2011-02          2029008.0          17342809.0\n",
      "2011-03          2207955.0          19158437.0\n",
      "2011-04          2198525.0          18988716.0\n",
      "2011-05          2784340.0          20470142.0\n"
     ]
    }
   ],
   "source": [
    "df = pd.read_csv('../data/mobility/raw_data\\Sehfahrtstatistik_monatlich.csv', encoding='latin-1', delimiter=';', skiprows=9)\n",
    "df = df.drop(0)\n",
    "\n",
    "d = {'...':'','-':''}\n",
    "df = df.replace(d)\n",
    "\n",
    "df['Deutschland'] = pd.to_numeric(df['Deutschland']) + pd.to_numeric(df['Deutschland.1']) + pd.to_numeric(df['Deutschland.2'])\n",
    "df['fremd'] = pd.to_numeric(df['Schiffe fremder Flagge']) + pd.to_numeric(df['Schiffe fremder Flagge.1']) + pd.to_numeric(df['Schiffe fremder Flagge.2'])\n",
    "\n",
    "# Add year and month in excel csv!!\n",
    "df = df[['Deutschland', 'fremd', 'year', 'month']]\n",
    "\n",
    "d = {'Januar':1, 'Februar':2, 'März':3, 'April':4, 'Mai':5, 'Juni':6, 'Juli':7, 'August':8, \n",
    "    'September':9, 'Oktober':10, 'November':11, 'Dezember':12, }\n",
    "df.month = df.month.map(d)\n",
    "df.month = df.month.fillna(3)\n",
    "\n",
    "df = df.dropna(axis=0)\n",
    "df = df.reset_index()\n",
    "\n",
    "df.year = df.year.astype('int16')\n",
    "df.month = df.month.astype('int16')\n",
    "df['date'] = df.year.astype(str) + '-' + df.month.astype(str)\n",
    "\n",
    "df.date = pd.to_datetime(df.date).dt.to_period('m') \n",
    "df = df[['Deutschland', 'fremd', 'date']]\n",
    "\n",
    "df = df.groupby('date').sum()\n",
    "print(df.head())\n",
    "\n",
    "#Rename Features (columns)\n",
    "df.columns = ['M_ShipsGermanFlag', 'M_ShipsForeignFlag']\n",
    "print(df.head())"
   ]
  },
  {
   "cell_type": "code",
   "execution_count": 3,
   "metadata": {},
   "outputs": [
    {
     "data": {
      "text/plain": [
       "<matplotlib.axes._subplots.AxesSubplot at 0x1b58de71f88>"
      ]
     },
     "execution_count": 3,
     "metadata": {},
     "output_type": "execute_result"
    }
   ],
   "source": [
    "df.M_ShipsGermanFlag.plot()\n",
    "df.M_ShipsForeignFlag.plot()"
   ]
  },
  {
   "cell_type": "code",
   "execution_count": 4,
   "metadata": {},
   "outputs": [],
   "source": [
    "df.to_csv('../data/mobility/Seafaring_Statistics_monthly.csv')"
   ]
  },
  {
   "cell_type": "code",
   "execution_count": null,
   "metadata": {},
   "outputs": [],
   "source": []
  }
 ],
 "metadata": {
  "kernelspec": {
   "display_name": "Python 3",
   "language": "python",
   "name": "python3"
  },
  "language_info": {
   "codemirror_mode": {
    "name": "ipython",
    "version": 3
   },
   "file_extension": ".py",
   "mimetype": "text/x-python",
   "name": "python",
   "nbconvert_exporter": "python",
   "pygments_lexer": "ipython3",
   "version": "3.7.4"
  }
 },
 "nbformat": 4,
 "nbformat_minor": 4
}
