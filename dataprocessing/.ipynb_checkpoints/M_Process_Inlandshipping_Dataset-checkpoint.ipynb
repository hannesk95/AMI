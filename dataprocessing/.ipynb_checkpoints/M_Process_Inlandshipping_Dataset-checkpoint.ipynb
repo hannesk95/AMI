{
 "cells": [
  {
   "cell_type": "code",
   "execution_count": 1,
   "metadata": {},
   "outputs": [],
   "source": [
    "import pandas as pd\n",
    "import numpy as np\n",
    "import openpyxl"
   ]
  },
  {
   "cell_type": "markdown",
   "metadata": {},
   "source": [
    "Prepare workbook for preprocessing"
   ]
  },
  {
   "cell_type": "code",
   "execution_count": 2,
   "metadata": {},
   "outputs": [
    {
     "name": "stdout",
     "output_type": "stream",
     "text": [
      "   year    month  M_InlandShippingTotalTransportPerformance\n",
      "0  1991   Januar                                       4815\n",
      "1  1991  Februar                                       3335\n",
      "2  1991     März                                       5370\n",
      "3  1991    April                                       5183\n",
      "4  1991      Mai                                       5306\n"
     ]
    }
   ],
   "source": [
    "wb = openpyxl.load_workbook(filename='../data/mobility/raw_data/Güterverkehr der Binnenschifffahrt_monatlich.xlsx', \n",
    "                   read_only=True)\n",
    "\n",
    "ws = wb['Güterverkehr der Binnenschifffa']\n",
    "\n",
    "# Read the cell values into a list of lists\n",
    "data_rows = []\n",
    "for row in ws['A10':'K359']:\n",
    "    data_cols = []\n",
    "    for cell in row:\n",
    "        data_cols.append(cell.value)\n",
    "    data_rows.append(data_cols)\n",
    "\n",
    "df = pd.DataFrame(data_rows)\n",
    "#print(df.head())\n",
    "\n",
    "#calculate a total value of transport performance [mil. t*km]\n",
    "df[10] = df[3] + df[5] + df[7] + df[9]\n",
    "\n",
    "#drop columns of uniportant data\n",
    "df = df.drop(np.arange(2,10), axis=1)\n",
    "#print(df.head())\n",
    "\n",
    "#rename column names\n",
    "df.columns = ['year', 'month', 'M_InlandShippingTotalTransportPerformance']\n",
    "print(df.head())"
   ]
  },
  {
   "cell_type": "markdown",
   "metadata": {},
   "source": [
    "Mapping dictionary for month name and number"
   ]
  },
  {
   "cell_type": "code",
   "execution_count": 3,
   "metadata": {},
   "outputs": [
    {
     "name": "stdout",
     "output_type": "stream",
     "text": [
      "   year  month  M_InlandShippingTotalTransportPerformance\n",
      "0  1991      1                                       4815\n",
      "1  1991      2                                       3335\n",
      "2  1991      3                                       5370\n",
      "3  1991      4                                       5183\n",
      "4  1991      5                                       5306\n"
     ]
    }
   ],
   "source": [
    "In [3]: d = {'Januar':1, 'Februar':2, 'März':3, 'April':4, 'Mai':5, 'Juni':6, 'Juli':7, 'August':8, \n",
    "             'September':9, 'Oktober':10, 'November':11, 'Dezember':12, }\n",
    "df.month = df.month.map(d)\n",
    "print(df.head())"
   ]
  },
  {
   "cell_type": "markdown",
   "metadata": {},
   "source": [
    "Combine year and month in one cell"
   ]
  },
  {
   "cell_type": "code",
   "execution_count": 4,
   "metadata": {},
   "outputs": [
    {
     "name": "stdout",
     "output_type": "stream",
     "text": [
      "   M_InlandShippingTotalTransportPerformance    date\n",
      "0                                       4815  1991-1\n",
      "1                                       3335  1991-2\n",
      "2                                       5370  1991-3\n",
      "3                                       5183  1991-4\n",
      "4                                       5306  1991-5\n"
     ]
    }
   ],
   "source": [
    "#change datatype of year and month to change 2019.0 to 2019\n",
    "df.year = df.year.astype('int16')\n",
    "df.month = df.month.astype('int16')\n",
    "\n",
    "#new column in format: yyyy-month as datatype string\n",
    "df['date'] = df.year.astype('str') + '-' + df.month.astype('str')\n",
    "\n",
    "#drop old columns of year and month\n",
    "df = df.drop(['year', 'month'], axis=1)\n",
    "\n",
    "#show df.head()\n",
    "print(df.head())"
   ]
  },
  {
   "cell_type": "markdown",
   "metadata": {},
   "source": [
    "Use the date column as index"
   ]
  },
  {
   "cell_type": "code",
   "execution_count": 5,
   "metadata": {},
   "outputs": [
    {
     "name": "stdout",
     "output_type": "stream",
     "text": [
      "         M_InlandShippingTotalTransportPerformance\n",
      "date                                              \n",
      "1991-01                                       4815\n",
      "1991-02                                       3335\n",
      "1991-03                                       5370\n",
      "1991-04                                       5183\n",
      "1991-05                                       5306\n"
     ]
    }
   ],
   "source": [
    "#change of datatype of column date to datetime with monthly period\n",
    "df.date = pd.to_datetime(df.date).dt.to_period('m')\n",
    "\n",
    "#set index of dataframe to date\n",
    "df = df.set_index('date')\n",
    "\n",
    "#show df.head()\n",
    "print(df.head())"
   ]
  },
  {
   "cell_type": "markdown",
   "metadata": {},
   "source": [
    "Test plot"
   ]
  },
  {
   "cell_type": "code",
   "execution_count": 6,
   "metadata": {},
   "outputs": [
    {
     "data": {
      "text/plain": [
       "<matplotlib.axes._subplots.AxesSubplot at 0x228ace06c08>"
      ]
     },
     "execution_count": 6,
     "metadata": {},
     "output_type": "execute_result"
    }
   ],
   "source": [
    "df.M_InlandShippingTotalTransportPerformance.plot()"
   ]
  },
  {
   "cell_type": "markdown",
   "metadata": {},
   "source": [
    "Save dateframe in csv format"
   ]
  },
  {
   "cell_type": "code",
   "execution_count": 7,
   "metadata": {},
   "outputs": [],
   "source": [
    "df.to_csv('../data/mobility/Shipping_InlandFreightTransport.csv')"
   ]
  },
  {
   "cell_type": "code",
   "execution_count": null,
   "metadata": {},
   "outputs": [],
   "source": []
  }
 ],
 "metadata": {
  "kernelspec": {
   "display_name": "Python 3",
   "language": "python",
   "name": "python3"
  },
  "language_info": {
   "codemirror_mode": {
    "name": "ipython",
    "version": 3
   },
   "file_extension": ".py",
   "mimetype": "text/x-python",
   "name": "python",
   "nbconvert_exporter": "python",
   "pygments_lexer": "ipython3",
   "version": "3.7.4"
  }
 },
 "nbformat": 4,
 "nbformat_minor": 2
}
