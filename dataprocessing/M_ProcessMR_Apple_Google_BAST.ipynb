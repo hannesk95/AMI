{
 "cells": [
  {
   "cell_type": "code",
   "execution_count": 16,
   "metadata": {},
   "outputs": [],
   "source": [
    "import pandas as pd\n",
    "import numpy as np\n",
    "import datetime\n",
    "from datetime import date, timedelta"
   ]
  },
  {
   "cell_type": "markdown",
   "metadata": {},
   "source": [
    "### Google\n",
    "Source: https://www.google.com/covid19/mobility/"
   ]
  },
  {
   "cell_type": "code",
   "execution_count": 19,
   "metadata": {},
   "outputs": [
    {
     "name": "stderr",
     "output_type": "stream",
     "text": [
      "/usr/local/lib/python3.7/site-packages/IPython/core/interactiveshell.py:3063: DtypeWarning: Columns (3) have mixed types.Specify dtype option on import or set low_memory=False.\n",
      "  interactivity=interactivity, compiler=compiler, result=result)\n"
     ]
    }
   ],
   "source": [
    "\n",
    "#Google\n",
    "pathGoogle = \"../data/mobility/raw_data/MobilityTrends/Google/\"\n",
    "df_daily = pd.read_csv(pathGoogle + 'Global_Mobility_Report.csv', encoding='latin-1', delimiter=',')\n",
    "df_daily = df_daily[df_daily['country_region_code'] == 'DE'] #reduce to Germany\n",
    "df_daily = df_daily[df_daily['sub_region_1'].isnull()] #reduce to only Germany and not Bundesländer\n",
    "\n",
    "#drop some unused columns\n",
    "df_daily = df_daily.drop(['sub_region_1', 'sub_region_2', 'country_region_code', 'country_region', 'iso_3166_2_code', 'census_fips_code'], axis = 1)\n",
    "\n",
    "#shorten column name\n",
    "for column in df_daily:\n",
    "    if '_percent_change_from_baseline' in column:\n",
    "        df_daily.rename(columns={column:column.replace('_percent_change_from_baseline','')},inplace=True)\n",
    "\n",
    "#rename columns to our standard\n",
    "df_daily.rename(columns={'retail_and_recreation': 'M_GoogleMR_RetailRecreation',\n",
    "                        'grocery_and_pharmacy': 'M_GoogleMR_GroceryPharmacy',\n",
    "                        'parks': 'M_GoogleMR_Parks',\n",
    "                        'transit_stations': 'M_GoogleMR_TransitStations',\n",
    "                        'workplaces': 'M_GoogleMR_Workplaces',\n",
    "                        'residential': 'M_GoogleMR_Residential'\n",
    "                        }, inplace=True)\n",
    "        \n",
    "#process monthly means    \n",
    "df_monthly = df_daily\n",
    "df_daily = df_daily.set_index('date')\n",
    "df_monthly.date = pd.to_datetime(df_monthly.date).dt.to_period('m')\n",
    "df_monthly = df_monthly.groupby('date').mean()\n"
   ]
  },
  {
   "cell_type": "code",
   "execution_count": 20,
   "metadata": {},
   "outputs": [],
   "source": [
    "#save daily dataframe\n",
    "df_daily.to_csv('../data/mobility/raw_data/MobilityTrends/Google/GoogleMobilityReport_daily2020.csv')\n",
    "#save monthly dataframe\n",
    "df_monthly.to_csv('../data/mobility/GoogleMobilityReport_monthly.csv')"
   ]
  },
  {
   "cell_type": "markdown",
   "metadata": {},
   "source": [
    "### Apple\n",
    "Source: https://www.apple.com/covid19/mobility"
   ]
  },
  {
   "cell_type": "code",
   "execution_count": 21,
   "metadata": {},
   "outputs": [],
   "source": [
    "#Apple\n",
    "#read Apple data and reduce it to Germany and driving\n",
    "pathApple = \"../data/mobility/raw_data/MobilityTrends/Apple/\"\n",
    "df_daily = pd.read_csv(pathApple + 'applemobilitytrends-2020-06-23.csv', encoding='latin-1', delimiter=',')\n",
    "df_daily = df_daily[df_daily['region'] == 'Germany']\n",
    "df_daily = df_daily[df_daily['transportation_type'] == 'driving'] \n",
    "\n",
    "#drop some unused columns\n",
    "df_daily = df_daily.drop(['geo_type', 'region', 'transportation_type', 'alternative_name', 'sub-region', 'country'], axis=1)\n",
    "\n",
    "#transpose dataframe\n",
    "df_daily = pd.melt(df_daily, var_name=\"date\", value_name=\"M_AppleMobRep_DiffRatioDriving\")\n",
    "\n",
    "#reference baseline is in Apple data 100% but we are comparing at a reference line of 0%\n",
    "df_daily.M_AppleMobRep_DiffRatioDriving = df_daily.M_AppleMobRep_DiffRatioDriving - 100\n",
    "\n",
    "#process to monthly means\n",
    "df_monthly = df_daily\n",
    "df_daily = df_daily.set_index('date')\n",
    "\n",
    "df_monthly.date = pd.to_datetime(df_monthly.date).dt.to_period('m')\n",
    "df_monthly = df_monthly.groupby('date').mean()\n"
   ]
  },
  {
   "cell_type": "code",
   "execution_count": 22,
   "metadata": {},
   "outputs": [],
   "source": [
    "#save daily dataframe\n",
    "df_daily.to_csv('../data/mobility/raw_data/MobilityTrends/Apple/AppleMobilityReport_daily2020.csv')\n",
    "#save monthly dataframe\n",
    "df_monthly.to_csv('../data/mobility/AppleMobilityReport_monthly.csv')"
   ]
  },
  {
   "cell_type": "markdown",
   "metadata": {},
   "source": [
    "### BAST\n",
    "Source: https://www.bast.de/BASt_2017/DE/Statistik/Verkehrsdaten/Verkehrsbarometer.html"
   ]
  },
  {
   "cell_type": "code",
   "execution_count": 14,
   "metadata": {},
   "outputs": [],
   "source": [
    "#alues from downloaded pdf taken manually and stored in raw_data in a excel file. Uncommenting and changig this code makes it able to update the data\n",
    "\n",
    "df_dates = pd.read_csv('../data/mobility/raw_data/MobilityTrends/BAST/BAST_rawdata.csv', delimiter=';')\n",
    "#KFZ\n",
    "val_BAST = np.array(df.val_BAST.values)\n",
    "\n",
    "#dataframe for interpolation\n",
    "df_dates.date_start = pd.to_datetime(df_dates.date_start)\n",
    "df_dates.date_ende = pd.to_datetime(df_dates.date_ende)\n",
    "\n",
    "#interpolate weeks, so every day of the week has same value\n",
    "dates = []\n",
    "val = []\n",
    "row, col = df_dates.shape\n",
    "for r in np.arange(0,row):\n",
    "    delta = df_dates.date_ende[r] - df_dates.date_start[r]\n",
    "    for i in range(delta.days):\n",
    "        dates.append(df_dates.date_start[r] + timedelta(days=i))\n",
    "        val.append(df_dates.val_BAST[r])\n",
    "\n",
    "#generate daily dataframe\n",
    "df_daily = pd.DataFrame({\"date\":dates, \"M_BASTMobRep_Proz\":val}, index=dates) #, index=date\n",
    "df_daily.index.name = \"Date\"\n",
    "\n",
    "#process to monthly means\n",
    "df_monthly = df_daily\n",
    "df_monthly.date = pd.to_datetime(df_monthly.date).dt.to_period('m')\n",
    "df_monthly = df_monthly.groupby('date').mean()"
   ]
  },
  {
   "cell_type": "code",
   "execution_count": 15,
   "metadata": {},
   "outputs": [],
   "source": [
    "#save daily dataframe\n",
    "df_daily.to_csv('../data/mobility/raw_data/MobilityTrends/BAST/BASTMobilityReport_daily.csv')\n",
    "#save monthly dataframe\n",
    "df_monthly.to_csv('../data/mobility/BASTMobilityReport_monthly.csv')"
   ]
  },
  {
   "cell_type": "code",
   "execution_count": null,
   "metadata": {},
   "outputs": [],
   "source": []
  }
 ],
 "metadata": {
  "kernelspec": {
   "display_name": "Python 3",
   "language": "python",
   "name": "python3"
  },
  "language_info": {
   "codemirror_mode": {
    "name": "ipython",
    "version": 3
   },
   "file_extension": ".py",
   "mimetype": "text/x-python",
   "name": "python",
   "nbconvert_exporter": "python",
   "pygments_lexer": "ipython3",
   "version": "3.7.5"
  }
 },
 "nbformat": 4,
 "nbformat_minor": 4
}
