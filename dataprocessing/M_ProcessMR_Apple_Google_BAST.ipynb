{
 "cells": [
  {
   "cell_type": "code",
   "execution_count": 1,
   "metadata": {},
   "outputs": [],
   "source": [
    "import pandas as pd\n",
    "import numpy as np\n",
    "import datetime\n",
    "from datetime import date, timedelta"
   ]
  },
  {
   "cell_type": "markdown",
   "metadata": {},
   "source": [
    "### Google\n",
    "Source: https://www.google.com/covid19/mobility/"
   ]
  },
  {
   "cell_type": "code",
   "execution_count": 2,
   "metadata": {},
   "outputs": [
    {
     "name": "stderr",
     "output_type": "stream",
     "text": [
      "/usr/local/lib/python3.7/site-packages/IPython/core/interactiveshell.py:3063: DtypeWarning: Columns (3) have mixed types.Specify dtype option on import or set low_memory=False.\n",
      "  interactivity=interactivity, compiler=compiler, result=result)\n"
     ]
    }
   ],
   "source": [
    "\n",
    "#Google\n",
    "pathGoogle = \"../data/mobility/raw_data/MobilityTrends/Google/\"\n",
    "df_daily = pd.read_csv(pathGoogle + 'Global_Mobility_Report.csv', encoding='latin-1', delimiter=',')\n",
    "df_daily = df_daily[df_daily['country_region_code'] == 'DE'] #reduce to Germany\n",
    "df_daily = df_daily[df_daily['sub_region_1'].isnull()] #reduce to only Germany and not Bundesländer\n",
    "\n",
    "#drop some unused columns\n",
    "df_daily = df_daily.drop(['sub_region_1', 'sub_region_2', 'country_region_code', 'country_region', 'iso_3166_2_code', 'census_fips_code'], axis = 1)\n",
    "\n",
    "#shorten column name\n",
    "for column in df_daily:\n",
    "    if '_percent_change_from_baseline' in column:\n",
    "        df_daily.rename(columns={column:column.replace('_percent_change_from_baseline','')},inplace=True)\n",
    "\n",
    "#rename columns to our standard\n",
    "df_daily.rename(columns={'retail_and_recreation': 'M_GoogleMR_RetailRecreation',\n",
    "                        'grocery_and_pharmacy': 'M_GoogleMR_GroceryPharmacy',\n",
    "                        'parks': 'M_GoogleMR_Parks',\n",
    "                        'transit_stations': 'M_GoogleMR_TransitStations',\n",
    "                        'workplaces': 'M_GoogleMR_Workplaces',\n",
    "                        'residential': 'M_GoogleMR_Residential'\n",
    "                        }, inplace=True)\n",
    "\n",
    "#process monthly means    \n",
    "df_monthly = df_daily\n",
    "df_daily = df_daily.set_index('date')\n",
    "df_monthly.date = pd.to_datetime(df_monthly.date).dt.to_period('m')\n",
    "df_monthly = df_monthly.groupby('date').mean()\n",
    "\n",
    "#create ratio values instead of prozentual\n",
    "df_daily = df_daily.div(100)\n",
    "df_monthly = df_monthly.div(100)"
   ]
  },
  {
   "cell_type": "code",
   "execution_count": 3,
   "metadata": {},
   "outputs": [],
   "source": [
    "#save daily dataframe\n",
    "df_daily.to_csv('../data/mobility/raw_data/MobilityTrends/Google/GoogleMobilityReport_daily2020.csv')\n",
    "#save monthly dataframe\n",
    "df_monthly.to_csv('../data/mobility/GoogleMobilityReport_monthly.csv')"
   ]
  },
  {
   "cell_type": "markdown",
   "metadata": {},
   "source": [
    "### Apple\n",
    "Source: https://www.apple.com/covid19/mobility"
   ]
  },
  {
   "cell_type": "code",
   "execution_count": 4,
   "metadata": {},
   "outputs": [],
   "source": [
    "#Apple\n",
    "#read Apple data and reduce it to Germany and driving\n",
    "pathApple = \"../data/mobility/raw_data/MobilityTrends/Apple/\"\n",
    "df_daily = pd.read_csv(pathApple + 'applemobilitytrends-2020-06-23.csv', encoding='latin-1', delimiter=',')\n",
    "df_daily = df_daily[df_daily['region'] == 'Germany']\n",
    "df_daily = df_daily[df_daily['transportation_type'] == 'driving'] \n",
    "\n",
    "#drop some unused columns\n",
    "df_daily = df_daily.drop(['geo_type', 'region', 'transportation_type', 'alternative_name', 'sub-region', 'country'], axis=1)\n",
    "\n",
    "#transpose dataframe\n",
    "df_daily = pd.melt(df_daily, var_name=\"date\", value_name=\"M_AppleMobRep_DiffRatioDriving\")\n",
    "\n",
    "#reference baseline is in Apple data 100% but we are comparing at a reference line of 0%\n",
    "df_daily.M_AppleMobRep_DiffRatioDriving = df_daily.M_AppleMobRep_DiffRatioDriving - 100\n",
    "\n",
    "#process to monthly means\n",
    "df_monthly = df_daily\n",
    "df_daily = df_daily.set_index('date')\n",
    "\n",
    "df_monthly.date = pd.to_datetime(df_monthly.date).dt.to_period('m')\n",
    "df_monthly = df_monthly.groupby('date').mean()\n",
    "\n",
    "#create ratio values instead of prozentual\n",
    "df_daily = df_daily.div(100)\n",
    "df_monthly = df_monthly.div(100)"
   ]
  },
  {
   "cell_type": "code",
   "execution_count": 5,
   "metadata": {},
   "outputs": [],
   "source": [
    "#save daily dataframe\n",
    "df_daily.to_csv('../data/mobility/raw_data/MobilityTrends/Apple/AppleMobilityReport_daily2020.csv')\n",
    "#save monthly dataframe\n",
    "df_monthly.to_csv('../data/mobility/AppleMobilityReport_monthly.csv')"
   ]
  },
  {
   "cell_type": "markdown",
   "metadata": {},
   "source": [
    "### BAST\n",
    "Source: https://www.bast.de/BASt_2017/DE/Statistik/Verkehrsdaten/Verkehrsbarometer.html"
   ]
  },
  {
   "cell_type": "code",
   "execution_count": 6,
   "metadata": {},
   "outputs": [],
   "source": [
    "#alues from downloaded pdf taken manually and stored in raw_data in a excel file. Uncommenting and changig this code makes it able to update the data\n",
    "\n",
    "df_dates = pd.read_excel('../data/mobility/raw_data/MobilityTrends/BAST/MobilityTrends_BAST_rawdata.xls')\n",
    "\n",
    "#KFZ\n",
    "val_BAST_KFZ = np.array(df_dates.val_BAST_KFZ.values)\n",
    "val_BAST_SV = np.array(df_dates.val_BAST_SV.values)\n",
    "val_BAST_LV = np.array(df_dates.val_BAST_LV.values)\n",
    "\n",
    "#dataframe for interpolation\n",
    "df_dates.date_start = pd.to_datetime(df_dates.date_start)\n",
    "df_dates.date_ende = pd.to_datetime(df_dates.date_ende)\n",
    "\n",
    "#interpolate weeks, so every day of the week has same value\n",
    "dates = []\n",
    "val_KFZ = []\n",
    "val_SV = []\n",
    "val_LV = []\n",
    "row, col = df_dates.shape\n",
    "for r in np.arange(0,row):\n",
    "    delta = df_dates.date_ende[r] - df_dates.date_start[r]\n",
    "    for i in range(delta.days):\n",
    "        dates.append(df_dates.date_start[r] + timedelta(days=i))\n",
    "        val_KFZ.append(df_dates.val_BAST_KFZ[r])\n",
    "        val_SV.append(df_dates.val_BAST_SV[r])\n",
    "        val_LV.append(df_dates.val_BAST_LV[r])\n",
    "\n",
    "#generate daily dataframe\n",
    "df_daily = pd.DataFrame({\"date\":dates, \n",
    "                         \"M_BASTMobRep_DiffRatio_KFZ\":val_KFZ,\n",
    "                         \"M_BASTMobRep_DiffRatio_SV\":val_SV,\n",
    "                         \"M_BASTMobRep_DiffRatio_LV\":val_LV,\n",
    "                        }, index=dates) #, index=date\n",
    "\n",
    "\n",
    "#process to monthly means\n",
    "df_monthly = df_daily\n",
    "df_monthly.date = pd.to_datetime(df_monthly.date).dt.to_period('m')\n",
    "df_monthly = df_monthly.groupby('date').mean()\n",
    "\n",
    "df_daily = df_daily.set_index('date')\n",
    "\n",
    "#create ratio values instead of prozentual\n",
    "df_daily = df_daily.div(100)\n",
    "df_monthly = df_monthly.div(100)"
   ]
  },
  {
   "cell_type": "code",
   "execution_count": 7,
   "metadata": {},
   "outputs": [
    {
     "data": {
      "text/html": [
       "<div>\n",
       "<style scoped>\n",
       "    .dataframe tbody tr th:only-of-type {\n",
       "        vertical-align: middle;\n",
       "    }\n",
       "\n",
       "    .dataframe tbody tr th {\n",
       "        vertical-align: top;\n",
       "    }\n",
       "\n",
       "    .dataframe thead th {\n",
       "        text-align: right;\n",
       "    }\n",
       "</style>\n",
       "<table border=\"1\" class=\"dataframe\">\n",
       "  <thead>\n",
       "    <tr style=\"text-align: right;\">\n",
       "      <th></th>\n",
       "      <th>M_BASTMobRep_DiffRatio_KFZ</th>\n",
       "      <th>M_BASTMobRep_DiffRatio_SV</th>\n",
       "      <th>M_BASTMobRep_DiffRatio_LV</th>\n",
       "    </tr>\n",
       "    <tr>\n",
       "      <th>date</th>\n",
       "      <th></th>\n",
       "      <th></th>\n",
       "      <th></th>\n",
       "    </tr>\n",
       "  </thead>\n",
       "  <tbody>\n",
       "    <tr>\n",
       "      <th>2020-03</th>\n",
       "      <td>-0.435000</td>\n",
       "      <td>-0.070000</td>\n",
       "      <td>-0.500000</td>\n",
       "    </tr>\n",
       "    <tr>\n",
       "      <th>2020-04</th>\n",
       "      <td>-0.455294</td>\n",
       "      <td>-0.256471</td>\n",
       "      <td>-0.489412</td>\n",
       "    </tr>\n",
       "    <tr>\n",
       "      <th>2020-05</th>\n",
       "      <td>-0.209630</td>\n",
       "      <td>-0.142593</td>\n",
       "      <td>-0.226667</td>\n",
       "    </tr>\n",
       "    <tr>\n",
       "      <th>2020-06</th>\n",
       "      <td>-0.103158</td>\n",
       "      <td>0.027895</td>\n",
       "      <td>-0.114737</td>\n",
       "    </tr>\n",
       "  </tbody>\n",
       "</table>\n",
       "</div>"
      ],
      "text/plain": [
       "         M_BASTMobRep_DiffRatio_KFZ  M_BASTMobRep_DiffRatio_SV  \\\n",
       "date                                                             \n",
       "2020-03                   -0.435000                  -0.070000   \n",
       "2020-04                   -0.455294                  -0.256471   \n",
       "2020-05                   -0.209630                  -0.142593   \n",
       "2020-06                   -0.103158                   0.027895   \n",
       "\n",
       "         M_BASTMobRep_DiffRatio_LV  \n",
       "date                                \n",
       "2020-03                  -0.500000  \n",
       "2020-04                  -0.489412  \n",
       "2020-05                  -0.226667  \n",
       "2020-06                  -0.114737  "
      ]
     },
     "execution_count": 7,
     "metadata": {},
     "output_type": "execute_result"
    }
   ],
   "source": [
    "df_monthly.head(10)"
   ]
  },
  {
   "cell_type": "code",
   "execution_count": 8,
   "metadata": {},
   "outputs": [],
   "source": [
    "#save daily dataframe\n",
    "df_daily.to_csv('../data/mobility/raw_data/MobilityTrends/BAST/BASTMobilityReport_daily.csv')\n",
    "#save monthly dataframe\n",
    "df_monthly.to_csv('../data/mobility/BASTMobilityReport_monthly.csv')"
   ]
  },
  {
   "cell_type": "code",
   "execution_count": null,
   "metadata": {},
   "outputs": [],
   "source": []
  }
 ],
 "metadata": {
  "kernelspec": {
   "display_name": "Python 3",
   "language": "python",
   "name": "python3"
  },
  "language_info": {
   "codemirror_mode": {
    "name": "ipython",
    "version": 3
   },
   "file_extension": ".py",
   "mimetype": "text/x-python",
   "name": "python",
   "nbconvert_exporter": "python",
   "pygments_lexer": "ipython3",
   "version": "3.7.5"
  }
 },
 "nbformat": 4,
 "nbformat_minor": 4
}
