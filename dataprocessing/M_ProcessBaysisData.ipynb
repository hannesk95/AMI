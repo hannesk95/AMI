{
 "cells": [
  {
   "cell_type": "markdown",
   "metadata": {},
   "source": [
    "# Process Baysis traffic count data\n",
    "Source: https://www.baysis.bayern.de/web/content/verkehrsdaten/dauerzaehlstellen.aspx"
   ]
  },
  {
   "cell_type": "code",
   "execution_count": 7,
   "metadata": {},
   "outputs": [],
   "source": [
    "import numpy as np\n",
    "import pandas as pd\n",
    "import matplotlib.pyplot as plt\n",
    "import os\n",
    "from os.path import isfile, join"
   ]
  },
  {
   "cell_type": "code",
   "execution_count": 8,
   "metadata": {},
   "outputs": [],
   "source": [
    "#path to downloaded data\n",
    "path = 'mobility/traffic/raw_data/ZaehlstellenBaysis/raw/'"
   ]
  },
  {
   "cell_type": "markdown",
   "metadata": {},
   "source": [
    "## Change file name of Baysis data"
   ]
  },
  {
   "cell_type": "code",
   "execution_count": 23,
   "metadata": {},
   "outputs": [],
   "source": [
    "files = [f for f in os.listdir(path) if f.endswith(\".xlsx\") and\n",
    "                  isfile(join(path, f)) and not f.startswith('.')]\n",
    "\n",
    "#loop over files and replace word for month by number of month\n",
    "for f in files:\n",
    "    try:\n",
    "        if 'januar' in f:\n",
    "            month_name = 'januar'\n",
    "            month = '01'\n",
    "        elif 'februar' in f:\n",
    "            month_name = 'februar'\n",
    "            month = '02'\n",
    "        elif 'maerz' in f:\n",
    "            month_name = 'maerz'\n",
    "            month = '03'\n",
    "        elif 'april' in f:\n",
    "            month_name = 'april'\n",
    "            month = '04'\n",
    "        elif 'mai' in f:\n",
    "            month_name = 'mai'\n",
    "            month = '05'\n",
    "        elif 'juni' in f:\n",
    "            month_name = 'juni'\n",
    "            month = '06'\n",
    "        elif 'juli' in f:\n",
    "            month_name = 'juli'\n",
    "            month = '07'\n",
    "        elif 'august' in f:\n",
    "            month_name = 'august'\n",
    "            month = '08'\n",
    "        elif 'september' in f:\n",
    "            month_name = 'september'\n",
    "            month = '09'\n",
    "        elif 'oktober' in f:\n",
    "            month_name = 'oktober'\n",
    "            month = '10'\n",
    "        elif 'november' in f:\n",
    "            month_name = 'november'\n",
    "            month = '11'\n",
    "        elif 'dezember' in f:\n",
    "            month_name = 'dezember'\n",
    "            month = '12'\n",
    "\n",
    "        os.rename(path + f, path + f.replace(month_name,month))\n",
    "    except:\n",
    "        print(f + ' ' + 'already processed!')\n"
   ]
  },
  {
   "cell_type": "markdown",
   "metadata": {},
   "source": [
    "## Read Baysis data and create Pandas dataframe"
   ]
  },
  {
   "cell_type": "code",
   "execution_count": 9,
   "metadata": {},
   "outputs": [
    {
     "name": "stdout",
     "output_type": "stream",
     "text": [
      "2017-01 :  Series([], Name: Zstnr, dtype: float64)\n"
     ]
    }
   ],
   "source": [
    "files = [f for f in os.listdir(path) if f.endswith(\".xlsx\") and\n",
    "                  isfile(join(path, f)) and not f.startswith('.')]\n",
    "\n",
    "df_all = pd.DataFrame()\n",
    "\n",
    "#loop over all available files\n",
    "for f in files:\n",
    "    try:\n",
    "        #read file and drop some rows\n",
    "        df = pd.read_excel(path + f, 'Tab_ZIS', skiprows=1)\n",
    "        df = df.drop([0,1,2], axis=0)\n",
    "    \n",
    "        #get year and month information\n",
    "        year_month = f[-9:-5] + '-' + f[-12:-10]\n",
    "\n",
    "        #reduce to important columns and dropna\n",
    "        df = df[['Zstnr', 'Kfz', 'Str.']]\n",
    "        df = df.dropna()\n",
    "        df.Zstnr = df.Zstnr.str.replace('*', '')\n",
    "\n",
    "        #possibility to drop K and S street types because BAST data is only available for B and A street types\n",
    "        #it is not done because in the feature value it is basically just a bias offset and with K and S datatype it matches more the Germany wide data\n",
    "        \"\"\"\n",
    "        row, col = df.shape\n",
    "        df = df.reset_index(drop=True)\n",
    "        for i in range(0,row):\n",
    "            if 'K' in df['Str.'][i] or 'S' in df['Str.'][i]:\n",
    "                df = df.drop(i,axis=0)\n",
    "        df = df.drop('Str.', axis=1)\n",
    "        \"\"\"\n",
    "        df = df.reset_index(drop=True)\n",
    "        row, col = df.shape\n",
    "\n",
    "        #transpose dataframe\n",
    "        nr = np.array(df.Zstnr, 'str')\n",
    "        kfz = np.array(df['Kfz'])\n",
    "\n",
    "        df = pd.DataFrame()\n",
    "        for i in range(0,len(nr)):\n",
    "            df[nr[i]] = [kfz[i]]\n",
    "\n",
    "        #save date information in dataframe\n",
    "        df['date'] = year_month\n",
    "\n",
    "        #append it to general dataframe\n",
    "        df_all = df_all.append(df)\n",
    "    except:\n",
    "        print(year_month, ': ', df.Zstnr)\n",
    "\n",
    "#date as index\n",
    "df_all.date = pd.to_datetime(df_all.date).dt.to_period('m')    \n",
    "df_all.index = df_all.date\n",
    "df_all = df_all.sort_index(axis=0)"
   ]
  },
  {
   "cell_type": "markdown",
   "metadata": {},
   "source": [
    "## Baysis data values are DTV (durchschnittliche tägliche Verkehrsstärke) which means average number of vehicles per day in the corresponding month -> need to change it to total numbers of vehicles per month\n",
    "\n",
    "Weight DTV with number of days in each month. This is not negligible because we have to weight e.g. January with 31 days stronger than Febraury with 28/29 days."
   ]
  },
  {
   "cell_type": "code",
   "execution_count": 10,
   "metadata": {},
   "outputs": [],
   "source": [
    "#arrays with number of days of each month (data is only available for Feb 2017 until March 2020)\n",
    "days_arr_2017 = np.array([28,31,30,31,30,31,31,30,31,30,31])\n",
    "days_arr_2018 = np.array([31,28,31,30,31,30,31,31,30,31,30,31])\n",
    "days_arr_2019 = np.array([31,28,31,30,31,30,31,31,30,31,30,31])\n",
    "days_arr_2020 = np.array([31,29,31])\n",
    "days_arr = np.append(days_arr_2017, days_arr_2018)\n",
    "days_arr = np.append(days_arr, days_arr_2019)\n",
    "days_arr = np.append(days_arr, days_arr_2020)\n",
    "\n",
    "#weight each column with number of days\n",
    "for column in df_all:\n",
    "    if column != 'date':\n",
    "        df_all[column] = df_all[column].values * days_arr\n"
   ]
  },
  {
   "cell_type": "code",
   "execution_count": 11,
   "metadata": {},
   "outputs": [],
   "source": [
    "#save csv with monthly data and each station separately\n",
    "df_all.to_csv('data/mobility/raw_data/ZaehlstellenBaysis/Baysis_CountingStations_monthly.csv')"
   ]
  },
  {
   "cell_type": "markdown",
   "metadata": {},
   "source": [
    "## Create csv with feature data\n",
    "Because we do not want to have each counting station as a feature and also not all counting stations are available for the whole time the values of the counting stations are averaged to one feature."
   ]
  },
  {
   "cell_type": "code",
   "execution_count": 12,
   "metadata": {},
   "outputs": [
    {
     "data": {
      "text/plain": [
       "<matplotlib.axes._subplots.AxesSubplot at 0x115afb250>"
      ]
     },
     "execution_count": 12,
     "metadata": {},
     "output_type": "execute_result"
    },
    {
     "data": {
      "image/png": "[encoded data removed]",
      "text/plain": [
       "<Figure size 432x288 with 1 Axes>"
      ]
     },
     "metadata": {
      "needs_background": "light"
     },
     "output_type": "display_data"
    }
   ],
   "source": [
    "#create feature that has the average number of vehicles in the corresponding month per station\n",
    "df_feature = df_all\n",
    "df_feature['M_BaysisCount_AverTotalVehicPerCountingStation'] = df_feature.mean(axis=1, skipna=True)\n",
    "df_feature = df_feature[['M_BaysisCount_AverTotalVehicPerCountingStation']]\n",
    "\n",
    "#save feature csv\n",
    "df_feature.to_csv('data/mobility/Baysis_CountingStations_Feature_monthly.csv')\n",
    "\n",
    "#Plot the feature\n",
    "df_feature.plot()"
   ]
  },
  {
   "cell_type": "code",
   "execution_count": null,
   "metadata": {},
   "outputs": [],
   "source": []
  }
 ],
 "metadata": {
  "kernelspec": {
   "display_name": "Python 3",
   "language": "python",
   "name": "python3"
  },
  "language_info": {
   "codemirror_mode": {
    "name": "ipython",
    "version": 3
   },
   "file_extension": ".py",
   "mimetype": "text/x-python",
   "name": "python",
   "nbconvert_exporter": "python",
   "pygments_lexer": "ipython3",
   "version": "3.7.5"
  }
 },
 "nbformat": 4,
 "nbformat_minor": 4
}
