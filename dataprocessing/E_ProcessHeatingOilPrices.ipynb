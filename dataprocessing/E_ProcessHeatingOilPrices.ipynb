{
  "nbformat": 4,
  "nbformat_minor": 0,
  "metadata": {
    "colab": {
      "name": "E_ProcessHeatingOilPrices.ipynb",
      "provenance": []
    },
    "kernelspec": {
      "name": "python3",
      "display_name": "Python 3"
    }
  },
  "cells": [
    {
      "cell_type": "markdown",
      "metadata": {
        "id": "tkieDsAP1o-c",
        "colab_type": "text"
      },
      "source": [
        "###Data processing\n",
        "Heating oil prices\n",
        "\n",
        "Group to monthly representation and save as CSV in right format"
      ]
    },
    {
      "cell_type": "code",
      "metadata": {
        "id": "WvGvWmcYvsH0",
        "colab_type": "code",
        "colab": {}
      },
      "source": [
        "# Import necessary packages\n",
        "import pandas as pd\n",
        "import datetime"
      ],
      "execution_count": 45,
      "outputs": []
    },
    {
      "cell_type": "code",
      "metadata": {
        "id": "qwoKnvbfvZOn",
        "colab_type": "code",
        "colab": {}
      },
      "source": [
        "df = pd.read_csv('HeatingOilPricesUSD.csv')\n",
        "df.date = pd.to_datetime(df.date).dt.to_period('m')\n",
        "df = df.groupby('date').mean()\n",
        "df.to_csv('HeatingOilPricesUSDmonthly.csv')"
      ],
      "execution_count": 46,
      "outputs": []
    }
  ]
}