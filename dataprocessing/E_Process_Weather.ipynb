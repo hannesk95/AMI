{
 "cells": [
  {
   "cell_type": "markdown",
   "metadata": {},
   "source": [
    "# Data Preprocessing - Weather Germany\n",
    "Weather data of Germany as a whole and of all its states for mean temperature, percipitation and sunshine duration. Values are averaged for the region. In the final database, only the values for Germany will be saved, however the values for the states will be exported here as well."
   ]
  },
  {
   "cell_type": "code",
   "execution_count": 19,
   "metadata": {},
   "outputs": [],
   "source": [
    "# Installing the packages\n",
    "import os\n",
    "import numpy as np\n",
    "import pandas as pd\n",
    "import datetime"
   ]
  },
  {
   "cell_type": "code",
   "execution_count": 20,
   "metadata": {
    "tags": []
   },
   "outputs": [],
   "source": [
    "dataframe = []\n",
    "feature = ['tm', 'rr', 'sd']\n",
    "directory = ['air_temperature_mean', 'precipitation', 'sunshine_duration'] \n",
    "loc = ['be', 'bb', 'bw', 'by', 'he', 'mv', 'ni', 'hh', 'nw', 'rp', 'sh', 'sl', \n",
    "       'sn', 'st', 'st_th', 'th', 'de']\n",
    "nums = ['01', '02', '03', '04', '05', '06', '07', '08', '09', '10', '11', '12']\n",
    "for d, feat in enumerate(feature):\n",
    "    df = None\n",
    "    for i, val in enumerate(nums):\n",
    "        if df is None:\n",
    "            df = pd.read_table(\n",
    "                f'../data/energy_households/raw_data/Wetter/'\n",
    "                f'{directory[d]}/regional_averages_{feat}_{val}.txt', delimiter=';')\n",
    "            # Delete the last column without wanted information\n",
    "            df.drop(df.columns[len(df.columns)-1], axis=1, inplace=True)\n",
    "            # Set header\n",
    "            df_header = df.iloc[0]\n",
    "            df_data = df.iloc[1:].index\n",
    "            df = pd.DataFrame([list(item) for item in df_data], \n",
    "                                columns=df_header.name)\n",
    "        else:\n",
    "            new_df = pd.read_table(\n",
    "                f'../data/energy_households/raw_data/Wetter/'\n",
    "                f'{directory[d]}/regional_averages_{feat}_{val}.txt', delimiter=';')\n",
    "            # Delete the last column without wanted information\n",
    "            new_df.drop(new_df.columns[len(new_df.columns)-1], axis=1,\n",
    "                        inplace=True)\n",
    "            # Set header\n",
    "            new_df_header = new_df.iloc[0]\n",
    "            new_df_data = new_df.iloc[1:].index\n",
    "            new_proper_df = pd.DataFrame([list(item) for item in new_df_data], \n",
    "                            columns=new_df_header.name)\n",
    "            df = df.append(new_proper_df)\n",
    "    # Change date format\n",
    "    df.Jahr = df.Jahr.astype('int16')\n",
    "    df.Monat = df.Monat.astype('int16')\n",
    "    df['date'] = df.Jahr.astype('str') + '-' + df.Monat.astype('str')\n",
    "    df = df.drop(['Jahr', 'Monat'], axis=1)\n",
    "    df.date = pd.to_datetime(df.date).dt.to_period('m')\n",
    "    df = df.set_index('date')\n",
    "    df = df.sort_index()\n",
    "    # Crop old years\n",
    "    df = df[df.index >= \"1990-01\"]\n",
    "\n",
    "    # More readable feature names\n",
    "    if feat == 'tm':\n",
    "        feature_name = 'temperature_mean'\n",
    "    elif feat == 'rr':\n",
    "        feature_name = 'precipitation'\n",
    "    else:\n",
    "        feature_name = 'sunshine_duration'\n",
    "\n",
    "    df.to_csv(f'../data/energy_households/E_Process_Weather_{feature_name}.csv')"
   ]
  },
  {
   "cell_type": "code",
   "execution_count": null,
   "metadata": {},
   "outputs": [],
   "source": []
  }
 ],
 "metadata": {
  "language_info": {
   "codemirror_mode": {
    "name": "ipython",
    "version": 3
   },
   "file_extension": ".py",
   "mimetype": "text/x-python",
   "name": "python",
   "nbconvert_exporter": "python",
   "pygments_lexer": "ipython3",
   "version": "3.6.9-final"
  },
  "orig_nbformat": 2,
  "kernelspec": {
   "name": "python36964bita99338fb0c754bcf96341ca2ac15c640",
   "display_name": "Python 3.6.9 64-bit"
  }
 },
 "nbformat": 4,
 "nbformat_minor": 2
}