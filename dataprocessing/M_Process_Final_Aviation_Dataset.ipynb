{
 "cells": [
  {
   "cell_type": "code",
   "execution_count": 1,
   "metadata": {},
   "outputs": [],
   "source": [
    "import pandas as pd\n",
    "import numpy as np\n",
    "import openpyxl"
   ]
  },
  {
   "cell_type": "markdown",
   "metadata": {},
   "source": [
    "# GENESIS data"
   ]
  },
  {
   "cell_type": "markdown",
   "metadata": {},
   "source": [
    "Prepare workbook for preprocessing"
   ]
  },
  {
   "cell_type": "code",
   "execution_count": 2,
   "metadata": {},
   "outputs": [
    {
     "name": "stdout",
     "output_type": "stream",
     "text": [
      "     0     1          2        3          4      5        6       7      8   \\\n",
      "0  2011  None  Insgesamt    Start  Insgesamt  79066  6317075  176163  78053   \n",
      "1  2011  None  Insgesamt  Landung  Insgesamt  78857  6523942  159196  77947   \n",
      "2  2012  None  Insgesamt    Start  Insgesamt  77119  6457080  163985  75792   \n",
      "3  2012  None  Insgesamt  Landung  Insgesamt  76995  6647581  148354  75796   \n",
      "4  2013  None  Insgesamt    Start  Insgesamt  70449  6165292  169570  69075   \n",
      "\n",
      "        9   ...      31     32       33      34     35       36      37  \\\n",
      "0  6303610  ...  193433  98088  9322018  202033  86033  7339992  196797   \n",
      "1  6224288  ...  173576  98213  9648513  178389  86247  7753619  175923   \n",
      "2  6437701  ...  195415  96304  9423748  201864  81629  7216753  203397   \n",
      "3  6330295  ...  172108  96503  9811052  174387  81784  7610018  183495   \n",
      "4  6259454  ...  190747  92606  9624282  204897  78080  7271698  207427   \n",
      "\n",
      "      38       39      40  \n",
      "0  77580  7000250  194253  \n",
      "1  77764  6938514  168234  \n",
      "2  70817  6730211  186853  \n",
      "3  70892  6636541  166781  \n",
      "4  69523  6886254  190721  \n",
      "\n",
      "[5 rows x 41 columns]\n"
     ]
    }
   ],
   "source": [
    "wb = openpyxl.load_workbook(filename='../data/mobility/raw_data/Luftverkehr_Frankfurt_insgesamt_monatlich.xlsx', \n",
    "                   read_only=True)\n",
    "\n",
    "ws = wb['46421-0012']\n",
    "\n",
    "# Read the cell values into a list of lists\n",
    "data_rows = []\n",
    "for row in ws['A10':'AO369']:\n",
    "    data_cols = []\n",
    "    for cell in row:\n",
    "        data_cols.append(cell.value)\n",
    "    data_rows.append(data_cols)\n",
    "\n",
    "df1_tmp = pd.DataFrame(data_rows)\n",
    "#print(df.head())\n",
    "\n",
    "#drop rows of uniportant data\n",
    "drop1 = 0\n",
    "for n in range(10):\n",
    "    df1_tmp = df1_tmp.drop(np.arange(drop1, drop1+26), axis=0)\n",
    "    drop2 = drop1+27\n",
    "    df1_tmp = df1_tmp.drop(np.arange(drop2, drop2+8), axis=0)\n",
    "    drop1 = drop2+9\n",
    "\n",
    "#rename columns and rows rows\n",
    "df1_tmp.index = [0, 1, 2, 3, 4, 5, 6, 7, 8, 9, 10, 11, 12, 13, 14, 15, 16, 17, 18, 19]\n",
    "print(df1_tmp.head())\n",
    "\n",
    "d = {'...':'','-':''}\n",
    "df1_tmp = df1_tmp.replace(d)"
   ]
  },
  {
   "cell_type": "code",
   "execution_count": 3,
   "metadata": {},
   "outputs": [
    {
     "name": "stderr",
     "output_type": "stream",
     "text": [
      "C:\\ProgramData\\Anaconda3\\lib\\site-packages\\ipykernel_launcher.py:21: SettingWithCopyWarning: \n",
      "A value is trying to be set on a copy of a slice from a DataFrame\n",
      "\n",
      "See the caveats in the documentation: http://pandas.pydata.org/pandas-docs/stable/user_guide/indexing.html#returning-a-view-versus-a-copy\n",
      "C:\\ProgramData\\Anaconda3\\lib\\site-packages\\pandas\\core\\indexing.py:205: SettingWithCopyWarning: \n",
      "A value is trying to be set on a copy of a slice from a DataFrame\n",
      "\n",
      "See the caveats in the documentation: http://pandas.pydata.org/pandas-docs/stable/user_guide/indexing.html#returning-a-view-versus-a-copy\n",
      "  self._setitem_with_indexer(indexer, value)\n",
      "C:\\ProgramData\\Anaconda3\\lib\\site-packages\\ipykernel_launcher.py:16: SettingWithCopyWarning: \n",
      "A value is trying to be set on a copy of a slice from a DataFrame\n",
      "\n",
      "See the caveats in the documentation: http://pandas.pydata.org/pandas-docs/stable/user_guide/indexing.html#returning-a-view-versus-a-copy\n",
      "  app.launch_new_instance()\n",
      "C:\\ProgramData\\Anaconda3\\lib\\site-packages\\ipykernel_launcher.py:17: SettingWithCopyWarning: \n",
      "A value is trying to be set on a copy of a slice from a DataFrame\n",
      "\n",
      "See the caveats in the documentation: http://pandas.pydata.org/pandas-docs/stable/user_guide/indexing.html#returning-a-view-versus-a-copy\n",
      "C:\\ProgramData\\Anaconda3\\lib\\site-packages\\ipykernel_launcher.py:18: SettingWithCopyWarning: \n",
      "A value is trying to be set on a copy of a slice from a DataFrame\n",
      "\n",
      "See the caveats in the documentation: http://pandas.pydata.org/pandas-docs/stable/user_guide/indexing.html#returning-a-view-versus-a-copy\n"
     ]
    }
   ],
   "source": [
    "year = np.zeros(120,)\n",
    "month = np.zeros(120,)\n",
    "#example values\n",
    "values = np.zeros(120,)\n",
    "\n",
    "#create dataframe in wrong format\n",
    "df1 = pd.DataFrame({'year': year, 'month': month, 'M_AviationTotalStarts': values, 'M_AviationTotalLandings': values})\n",
    "#print(df.head())\n",
    "\n",
    "idx_df1 = 0\n",
    "idx_df1_tmp = 0\n",
    "\n",
    "for y in range(2011,2021):\n",
    "    col_df1_tmp = 5\n",
    "    for m in range(1,13):\n",
    "        df1.year[idx_df1] = y\n",
    "        df1.month[idx_df1] = m\n",
    "        df1.M_AviationTotalStarts[idx_df1] = df1_tmp[col_df1_tmp][idx_df1_tmp]\n",
    "        #df2.M_AviationTotalPassengernumberStarts[idx_df2] = df[col_df+1][idx_df]\n",
    "        #df2.M_AviationTotalWeightFreightsStarts[idx_df2] = df[col_df+2][idx_df]\n",
    "        df1.M_AviationTotalLandings[idx_df1] = df1_tmp[col_df1_tmp][idx_df1_tmp+1]\n",
    "        #df2.M_AviationTotalPassengernumberLandings[idx_df2] = df[col_df+1][idx_df+1]\n",
    "        #df2.M_AviationTotalWeightFreightsLandings[idx_df2] = df[col_df+2][idx_df+1]\n",
    "        \n",
    "        col_df1_tmp = col_df1_tmp+3\n",
    "        idx_df1 = idx_df1+1\n",
    "        \n",
    "    idx_df1_tmp = idx_df1_tmp+2\n",
    "df1['M_AviationTotalStarts'] = pd.to_numeric(df1['M_AviationTotalStarts'])\n",
    "#print(df1.head())\n",
    "        "
   ]
  },
  {
   "cell_type": "markdown",
   "metadata": {},
   "source": [
    "Combine year and month in one cell"
   ]
  },
  {
   "cell_type": "code",
   "execution_count": 4,
   "metadata": {},
   "outputs": [
    {
     "name": "stdout",
     "output_type": "stream",
     "text": [
      "   M_AviationTotalStarts M_AviationTotalLandings    date\n",
      "0                79066.0                   78857  2011-1\n",
      "1                78053.0                   77947  2011-2\n",
      "2                90877.0                   90670  2011-3\n",
      "3                89391.0                   89174  2011-4\n",
      "4                99138.0                   99151  2011-5\n"
     ]
    }
   ],
   "source": [
    "#change datatype of year and month to change 2019.0 to 2019\n",
    "df1.year = df1.year.astype('int16')\n",
    "df1.month = df1.month.astype('int16')\n",
    "\n",
    "#new column in format: yyyy-month as datatype string\n",
    "df1['date'] = df1.year.astype('str') + '-' + df1.month.astype('str')\n",
    "\n",
    "#drop old columns of year and month\n",
    "df1 = df1.drop(['year', 'month'], axis=1)\n",
    "\n",
    "#show df.head()\n",
    "print(df1.head())"
   ]
  },
  {
   "cell_type": "markdown",
   "metadata": {},
   "source": [
    "Use the date column as index"
   ]
  },
  {
   "cell_type": "code",
   "execution_count": 5,
   "metadata": {},
   "outputs": [
    {
     "name": "stdout",
     "output_type": "stream",
     "text": [
      "         M_AviationTotalStarts M_AviationTotalLandings\n",
      "date                                                  \n",
      "2011-01                79066.0                   78857\n",
      "2011-02                78053.0                   77947\n",
      "2011-03                90877.0                   90670\n",
      "2011-04                89391.0                   89174\n",
      "2011-05                99138.0                   99151\n"
     ]
    }
   ],
   "source": [
    "#change of datatype of column date to datetime with monthly period\n",
    "df1.date = pd.to_datetime(df1.date).dt.to_period('m')\n",
    "\n",
    "#set index of dataframe to date\n",
    "df1 = df1.set_index('date')\n",
    "\n",
    "#show df.head()\n",
    "print(df1.head())"
   ]
  },
  {
   "cell_type": "code",
   "execution_count": 6,
   "metadata": {},
   "outputs": [
    {
     "name": "stdout",
     "output_type": "stream",
     "text": [
      "        M_AviationTotalStartsAndLandings\n",
      "date                                    \n",
      "2011-01                           157923\n",
      "2011-02                           156000\n",
      "2011-03                           181547\n",
      "2011-04                           178565\n",
      "2011-05                           198289\n"
     ]
    }
   ],
   "source": [
    "#Add Starts and Landings and drop them\n",
    "df1['M_AviationTotalStartsAndLandings'] = df1['M_AviationTotalStarts'] + df1['M_AviationTotalLandings']\n",
    "df1= df1.drop(['M_AviationTotalStarts', 'M_AviationTotalLandings'], axis=1)\n",
    "print(df1.head())"
   ]
  },
  {
   "cell_type": "markdown",
   "metadata": {},
   "source": [
    "Test Plot"
   ]
  },
  {
   "cell_type": "code",
   "execution_count": 7,
   "metadata": {},
   "outputs": [
    {
     "data": {
      "text/plain": [
       "<matplotlib.axes._subplots.AxesSubplot at 0x12921fe8a08>"
      ]
     },
     "execution_count": 7,
     "metadata": {},
     "output_type": "execute_result"
    }
   ],
   "source": [
    "df1.M_AviationTotalStartsAndLandings.plot()"
   ]
  },
  {
   "cell_type": "markdown",
   "metadata": {},
   "source": [
    "# OAG data"
   ]
  },
  {
   "cell_type": "code",
   "execution_count": 8,
   "metadata": {},
   "outputs": [
    {
     "name": "stdout",
     "output_type": "stream",
     "text": [
      "0    January   February    March    April      May  2020-06-01 00:00:00  \\\n",
      "4 -0.0854731 -0.0687385 -0.30723 -0.92905 -0.912995           -0.913618   \n",
      "\n",
      "0 2020-06-08 00:00:00 2020-06-15 00:00:00 2020-06-22 00:00:00  \\\n",
      "4            -0.88762           -0.849156           -0.837677   \n",
      "\n",
      "0 2020-06-29 00:00:00  \n",
      "4           -0.762457  \n"
     ]
    }
   ],
   "source": [
    "wb = openpyxl.load_workbook(filename='../data/mobility/raw_data/OAG_planed flights.xlsx', \n",
    "                   read_only=True)\n",
    "\n",
    "ws = wb[' Summary Table']\n",
    "\n",
    "# Read the cell values into a list of lists\n",
    "data_rows = []\n",
    "for row in ws['B7':'L11']:\n",
    "    data_cols = []\n",
    "    for cell in row:\n",
    "        data_cols.append(cell.value)\n",
    "    data_rows.append(data_cols)\n",
    "\n",
    "df2_tmp = pd.DataFrame(data_rows)\n",
    "\n",
    "\n",
    "df2_tmp = df2_tmp.drop(np.arange(1, 4), axis=0)\n",
    "df2_tmp = df2_tmp.drop(0, axis=1)\n",
    "df2_tmp.columns = df2_tmp.iloc[0]\n",
    "df2_tmp = df2_tmp.drop(df2_tmp.index[0])\n",
    "print(df2_tmp)"
   ]
  },
  {
   "cell_type": "code",
   "execution_count": 9,
   "metadata": {},
   "outputs": [
    {
     "name": "stdout",
     "output_type": "stream",
     "text": [
      "0    January   February    March    April      May       June\n",
      "4 -0.0854731 -0.0687385 -0.30723 -0.92905 -0.912995 -0.850106\n"
     ]
    }
   ],
   "source": [
    "import datetime as dt\n",
    "import calendar\n",
    "\n",
    "new_col = calendar.month_name[df2_tmp.columns[-1].month]\n",
    "df2_tmp[new_col] = 0\n",
    "i = 0\n",
    "for col in df2_tmp.columns:\n",
    "    if type(col) is not str:\n",
    "        df2_tmp[new_col] = df2_tmp[new_col] + df2_tmp[col][4]\n",
    "        i = i+1\n",
    "        df2_tmp = df2_tmp.drop(col, axis=1)\n",
    "df2_tmp.June = df2_tmp.June / i\n",
    "print(df2_tmp)"
   ]
  },
  {
   "cell_type": "code",
   "execution_count": 10,
   "metadata": {},
   "outputs": [
    {
     "name": "stdout",
     "output_type": "stream",
     "text": [
      "     year  month M_DifferencePercent\n",
      "0  2020.0      1          -0.0854731\n",
      "1  2020.0      2          -0.0687385\n",
      "2  2020.0      3            -0.30723\n",
      "3  2020.0      4            -0.92905\n",
      "4  2020.0      5           -0.912995\n"
     ]
    }
   ],
   "source": [
    "n_months = df2_tmp.shape[1]\n",
    "year = np.zeros(n_months,)\n",
    "year[:] = 2020 \n",
    "month = np.arange(1,n_months + 1)\n",
    "#example values\n",
    "#values = np.empty(12,)\n",
    "#values[:] = np.nan\n",
    "\n",
    "#create dataframe in wrong format\n",
    "df2 = pd.DataFrame({'year': year, 'month': month, 'M_DifferencePercent': df2_tmp.values[0]})\n",
    "print(df2.head())"
   ]
  },
  {
   "cell_type": "markdown",
   "metadata": {},
   "source": [
    "Combine year and month in one cell"
   ]
  },
  {
   "cell_type": "code",
   "execution_count": 11,
   "metadata": {},
   "outputs": [
    {
     "name": "stdout",
     "output_type": "stream",
     "text": [
      "  M_DifferencePercent    date\n",
      "0          -0.0854731  2020-1\n",
      "1          -0.0687385  2020-2\n",
      "2            -0.30723  2020-3\n",
      "3            -0.92905  2020-4\n",
      "4           -0.912995  2020-5\n"
     ]
    }
   ],
   "source": [
    "#change datatype of year and month to change 2019.0 to 2019\n",
    "df2.year = df2.year.astype('int16')\n",
    "df2.month = df2.month.astype('int16')\n",
    "\n",
    "#new column in format: yyyy-month as datatype string\n",
    "df2['date'] = df2.year.astype('str') + '-' + df2.month.astype('str')\n",
    "\n",
    "#drop old columns of year and month\n",
    "df2 = df2.drop(['year', 'month'], axis=1)\n",
    "\n",
    "#show df.head()\n",
    "print(df2.head())"
   ]
  },
  {
   "cell_type": "markdown",
   "metadata": {},
   "source": [
    "Use the date column as index"
   ]
  },
  {
   "cell_type": "code",
   "execution_count": 12,
   "metadata": {},
   "outputs": [
    {
     "name": "stdout",
     "output_type": "stream",
     "text": [
      "        M_DifferencePercent\n",
      "date                       \n",
      "2020-01          -0.0854731\n",
      "2020-02          -0.0687385\n",
      "2020-03            -0.30723\n",
      "2020-04            -0.92905\n",
      "2020-05           -0.912995\n"
     ]
    }
   ],
   "source": [
    "#change of datatype of column date to datetime with monthly period\n",
    "df2.date = pd.to_datetime(df2.date).dt.to_period('m')\n",
    "\n",
    "#set index of dataframe to date\n",
    "df2 = df2.set_index('date')\n",
    "\n",
    "#show df.head()\n",
    "print(df2.head())"
   ]
  },
  {
   "cell_type": "code",
   "execution_count": 13,
   "metadata": {},
   "outputs": [
    {
     "data": {
      "text/plain": [
       "<matplotlib.axes._subplots.AxesSubplot at 0x12921b45a88>"
      ]
     },
     "execution_count": 13,
     "metadata": {},
     "output_type": "execute_result"
    },
    {
     "data": {
      "image/png": "[encoded data removed]",
      "text/plain": [
       "<Figure size 432x288 with 1 Axes>"
      ]
     },
     "metadata": {
      "needs_background": "light"
     },
     "output_type": "display_data"
    }
   ],
   "source": [
    "df2.M_DifferencePercent.plot()"
   ]
  },
  {
   "cell_type": "markdown",
   "metadata": {},
   "source": [
    "# Combine both dataframes"
   ]
  },
  {
   "cell_type": "code",
   "execution_count": 14,
   "metadata": {},
   "outputs": [
    {
     "data": {
      "text/plain": [
       "160648.0"
      ]
     },
     "execution_count": 14,
     "metadata": {},
     "output_type": "execute_result"
    }
   ],
   "source": [
    "df1['M_AviationTotalStartsAndLandings']['2019-01']"
   ]
  },
  {
   "cell_type": "code",
   "execution_count": 15,
   "metadata": {},
   "outputs": [
    {
     "name": "stdout",
     "output_type": "stream",
     "text": [
      "        M_DifferencePercent M_AviationTotalStartsAndLandings\n",
      "date                                                        \n",
      "2020-01          -0.0854731                           146917\n",
      "2020-02          -0.0687385                           146435\n",
      "2020-03            -0.30723                           121766\n",
      "2020-04            -0.92905                          13014.1\n",
      "2020-05           -0.912995                          17246.1\n",
      "2020-06           -0.850106                          29596.2\n"
     ]
    }
   ],
   "source": [
    "# Aproximate values for 2020\n",
    "df2['M_AviationTotalStartsAndLandings'] = df1['M_AviationTotalStartsAndLandings'][df2.index-12].values * (1+df2['M_DifferencePercent'])\n",
    "print(df2.head(12))"
   ]
  },
  {
   "cell_type": "code",
   "execution_count": 16,
   "metadata": {},
   "outputs": [
    {
     "data": {
      "text/plain": [
       "<matplotlib.axes._subplots.AxesSubplot at 0x129224e69c8>"
      ]
     },
     "execution_count": 16,
     "metadata": {},
     "output_type": "execute_result"
    },
    {
     "data": {
      "image/png": "[encoded data removed]",
      "text/plain": [
       "<Figure size 432x288 with 1 Axes>"
      ]
     },
     "metadata": {
      "needs_background": "light"
     },
     "output_type": "display_data"
    }
   ],
   "source": [
    "# Compare dataframes\n",
    "df1.M_AviationTotalStartsAndLandings['2020-01':'2020-06'].plot()\n",
    "df2.M_AviationTotalStartsAndLandings['2020-01':'2020-06'].plot()"
   ]
  },
  {
   "cell_type": "code",
   "execution_count": 17,
   "metadata": {},
   "outputs": [],
   "source": [
    "# Add missing values to df1\n",
    "for i in df2.index:\n",
    "    if np.isnan(df1['M_AviationTotalStartsAndLandings'][i]):\n",
    "        df1['M_AviationTotalStartsAndLandings'][i] = df2['M_AviationTotalStartsAndLandings'][i]"
   ]
  },
  {
   "cell_type": "code",
   "execution_count": 18,
   "metadata": {},
   "outputs": [
    {
     "data": {
      "text/plain": [
       "<matplotlib.axes._subplots.AxesSubplot at 0x12922628b48>"
      ]
     },
     "execution_count": 18,
     "metadata": {},
     "output_type": "execute_result"
    },
    {
     "data": {
      "image/png": "[encoded data removed]",
      "text/plain": [
       "<Figure size 432x288 with 1 Axes>"
      ]
     },
     "metadata": {
      "needs_background": "light"
     },
     "output_type": "display_data"
    }
   ],
   "source": [
    "df1.M_AviationTotalStartsAndLandings.plot()"
   ]
  },
  {
   "cell_type": "markdown",
   "metadata": {},
   "source": [
    "Save dateframe in csv format"
   ]
  },
  {
   "cell_type": "code",
   "execution_count": 19,
   "metadata": {},
   "outputs": [],
   "source": [
    "df1.to_csv('../data/mobility/Aviation_Final_monthly.csv')"
   ]
  },
  {
   "cell_type": "code",
   "execution_count": null,
   "metadata": {},
   "outputs": [],
   "source": []
  }
 ],
 "metadata": {
  "kernelspec": {
   "display_name": "Python 3",
   "language": "python",
   "name": "python3"
  },
  "language_info": {
   "codemirror_mode": {
    "name": "ipython",
    "version": 3
   },
   "file_extension": ".py",
   "mimetype": "text/x-python",
   "name": "python",
   "nbconvert_exporter": "python",
   "pygments_lexer": "ipython3",
   "version": "3.7.4"
  }
 },
 "nbformat": 4,
 "nbformat_minor": 2
}
