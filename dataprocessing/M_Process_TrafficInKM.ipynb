{
 "cells": [
  {
   "cell_type": "markdown",
   "metadata": {},
   "source": [
    "## Traffic data that contains the driven km of vehicles\n",
    "Source: https://www.govdata.de/web/guest/daten/-/details/verkehr-in-kilometern-vk-fahrleistungen-2014-2018\n"
   ]
  },
  {
   "cell_type": "code",
   "execution_count": 5,
   "metadata": {},
   "outputs": [],
   "source": [
    "import pandas as pd\n",
    "import numpy as np\n",
    "from openpyxl import load_workbook"
   ]
  },
  {
   "cell_type": "markdown",
   "metadata": {},
   "source": [
    "### Read data excel file and create dataframe"
   ]
  },
  {
   "cell_type": "code",
   "execution_count": 7,
   "metadata": {},
   "outputs": [],
   "source": [
    "wb = load_workbook(filename='data/mobility/raw_data/VerkehrInKilimetern/vk_2018_xlsx.xlsx', \n",
    "                   read_only=True)\n",
    "#worhsheet VK 1.1\n",
    "ws = wb['VK 1.1']\n",
    "\n",
    "# Read the cell values into a list of lists\n",
    "data_rows = []\n",
    "for row in ws['C8':'H41']:\n",
    "    data_cols = []\n",
    "    for cell in row:\n",
    "        data_cols.append(cell.value)\n",
    "    data_rows.append(data_cols)\n",
    "\n",
    "#create Pandas dataframe\n",
    "df = pd.DataFrame(data_rows)"
   ]
  },
  {
   "cell_type": "markdown",
   "metadata": {},
   "source": [
    "### Only taking into account total number of vehicles without any separation between vehicle types"
   ]
  },
  {
   "cell_type": "code",
   "execution_count": 8,
   "metadata": {},
   "outputs": [
    {
     "name": "stdout",
     "output_type": "stream",
     "text": [
      "            0          1          2          3          4          5\n",
      "11  Insgesamt  707803279  717473073  727185629  734268707  735963885\n",
      "22  Insgesamt      13431      13410      13366      13282      13102\n",
      "33  Insgesamt   52698769   53503908   54405039   55282355   56171110\n"
     ]
    }
   ],
   "source": [
    "df = df[df[0]=='Insgesamt']\n",
    "print(df.head())"
   ]
  },
  {
   "cell_type": "markdown",
   "metadata": {},
   "source": [
    "### Change indices"
   ]
  },
  {
   "cell_type": "code",
   "execution_count": 9,
   "metadata": {},
   "outputs": [
    {
     "name": "stdout",
     "output_type": "stream",
     "text": [
      "                              0          1          2          3          4  \\\n",
      "11           M_Mileage_in1000km  707803279  717473073  727185629  734268707   \n",
      "22  M_AverageAnnualMileage_inkm      13431      13410      13366      13282   \n",
      "33      M_MediumVehicleInvetory   52698769   53503908   54405039   55282355   \n",
      "\n",
      "            5  \n",
      "11  735963885  \n",
      "22      13102  \n",
      "33   56171110  \n"
     ]
    }
   ],
   "source": [
    "df[0][11] = \"M_Mileage_in1000km\"\n",
    "df[0][22] = \"M_AverageAnnualMileage_inkm\"\n",
    "df[0][33] = \"M_MediumVehicleInvetory\"\n",
    "print(df.head())"
   ]
  },
  {
   "cell_type": "markdown",
   "metadata": {},
   "source": [
    "### Change column names"
   ]
  },
  {
   "cell_type": "code",
   "execution_count": 10,
   "metadata": {},
   "outputs": [
    {
     "name": "stdout",
     "output_type": "stream",
     "text": [
      "                              0       2014       2015       2016       2017  \\\n",
      "11           M_Mileage_in1000km  707803279  717473073  727185629  734268707   \n",
      "22  M_AverageAnnualMileage_inkm      13431      13410      13366      13282   \n",
      "33      M_MediumVehicleInvetory   52698769   53503908   54405039   55282355   \n",
      "\n",
      "         2018  \n",
      "11  735963885  \n",
      "22      13102  \n",
      "33   56171110  \n"
     ]
    }
   ],
   "source": [
    "df.rename(columns={1:\"2014\", 2:\"2015\", 3:\"2016\", 4:\"2017\", 5:\"2018\"}, inplace=True)\n",
    "print(df.head())"
   ]
  },
  {
   "cell_type": "markdown",
   "metadata": {},
   "source": [
    "### Transpose dataframe"
   ]
  },
  {
   "cell_type": "code",
   "execution_count": 11,
   "metadata": {},
   "outputs": [
    {
     "name": "stdout",
     "output_type": "stream",
     "text": [
      "0    M_Mileage_in1000km M_AverageAnnualMileage_inkm M_MediumVehicleInvetory\n",
      "date                                                                       \n",
      "2014          707803279                       13431                52698769\n",
      "2015          717473073                       13410                53503908\n",
      "2016          727185629                       13366                54405039\n",
      "2017          734268707                       13282                55282355\n",
      "2018          735963885                       13102                56171110\n"
     ]
    }
   ],
   "source": [
    "df_new = df.set_index(0)\n",
    "df_new = df_new.transpose()\n",
    "\n",
    "df_new.index.name = \"date\"\n",
    "print(df_new.head())"
   ]
  },
  {
   "cell_type": "markdown",
   "metadata": {},
   "source": [
    "### Save dataframe as csv"
   ]
  },
  {
   "cell_type": "code",
   "execution_count": 12,
   "metadata": {},
   "outputs": [],
   "source": [
    "#when writing csv the 0 in the top right corner is not written to csv\n",
    "df_new.to_csv('data/mobility/MileageInKM_yearly.csv')"
   ]
  },
  {
   "cell_type": "code",
   "execution_count": null,
   "metadata": {},
   "outputs": [],
   "source": []
  }
 ],
 "metadata": {
  "kernelspec": {
   "display_name": "Python 3",
   "language": "python",
   "name": "python3"
  },
  "language_info": {
   "codemirror_mode": {
    "name": "ipython",
    "version": 3
   },
   "file_extension": ".py",
   "mimetype": "text/x-python",
   "name": "python",
   "nbconvert_exporter": "python",
   "pygments_lexer": "ipython3",
   "version": "3.7.5"
  }
 },
 "nbformat": 4,
 "nbformat_minor": 4
}
