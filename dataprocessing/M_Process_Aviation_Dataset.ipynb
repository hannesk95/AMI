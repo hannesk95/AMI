{
 "cells": [
  {
   "cell_type": "code",
   "execution_count": 1,
   "metadata": {},
   "outputs": [],
   "source": [
    "import pandas as pd\n",
    "import numpy as np\n",
    "import openpyxl"
   ]
  },
  {
   "cell_type": "markdown",
   "metadata": {},
   "source": [
    "Prepare workbook for preprocessing"
   ]
  },
  {
   "cell_type": "code",
   "execution_count": 2,
   "metadata": {},
   "outputs": [
    {
     "name": "stdout",
     "output_type": "stream",
     "text": [
      "     0     1          2        3          4      5        6       7      8   \\\n",
      "0  2011  None  Insgesamt    Start  Insgesamt  79066  6317075  176163  78053   \n",
      "1  2011  None  Insgesamt  Landung  Insgesamt  78857  6523942  159196  77947   \n",
      "2  2012  None  Insgesamt    Start  Insgesamt  77119  6457080  163985  75792   \n",
      "3  2012  None  Insgesamt  Landung  Insgesamt  76995  6647581  148354  75796   \n",
      "4  2013  None  Insgesamt    Start  Insgesamt  70449  6165292  169570  69075   \n",
      "\n",
      "        9   ...      31     32       33      34     35       36      37  \\\n",
      "0  6303610  ...  193433  98088  9322018  202033  86033  7339992  196797   \n",
      "1  6224288  ...  173576  98213  9648513  178389  86247  7753619  175923   \n",
      "2  6437701  ...  195415  96304  9423748  201864  81629  7216753  203397   \n",
      "3  6330295  ...  172108  96503  9811052  174387  81784  7610018  183495   \n",
      "4  6259454  ...  190747  92606  9624282  204897  78080  7271698  207427   \n",
      "\n",
      "      38       39      40  \n",
      "0  77580  7000250  194253  \n",
      "1  77764  6938514  168234  \n",
      "2  70817  6730211  186853  \n",
      "3  70892  6636541  166781  \n",
      "4  69523  6886254  190721  \n",
      "\n",
      "[5 rows x 41 columns]\n"
     ]
    }
   ],
   "source": [
    "wb = openpyxl.load_workbook(filename='../data/mobility/raw_data/Luftverkehr_Frankfurt_insgesamt_monatlich.xlsx', \n",
    "                   read_only=True)\n",
    "\n",
    "ws = wb['46421-0012']\n",
    "\n",
    "# Read the cell values into a list of lists\n",
    "data_rows = []\n",
    "for row in ws['A10':'AO369']:\n",
    "    data_cols = []\n",
    "    for cell in row:\n",
    "        data_cols.append(cell.value)\n",
    "    data_rows.append(data_cols)\n",
    "\n",
    "df = pd.DataFrame(data_rows)\n",
    "#print(df.head())\n",
    "\n",
    "#drop rows of uniportant data\n",
    "drop1 = 0\n",
    "for n in range(10):\n",
    "    df = df.drop(np.arange(drop1, drop1+26), axis=0)\n",
    "    drop2 = drop1+27\n",
    "    df = df.drop(np.arange(drop2, drop2+8), axis=0)\n",
    "    drop1 = drop2+9\n",
    "\n",
    "#rename columns and rows rows\n",
    "df.index = [0, 1, 2, 3, 4, 5, 6, 7, 8, 9, 10, 11, 12, 13, 14, 15, 16, 17, 18, 19]\n",
    "print(df.head())\n",
    "\n",
    "d = {'...':'','-':''}\n",
    "df = df.replace(d)"
   ]
  },
  {
   "cell_type": "code",
   "execution_count": 3,
   "metadata": {},
   "outputs": [
    {
     "name": "stderr",
     "output_type": "stream",
     "text": [
      "C:\\ProgramData\\Anaconda3\\lib\\site-packages\\ipykernel_launcher.py:20: SettingWithCopyWarning: \n",
      "A value is trying to be set on a copy of a slice from a DataFrame\n",
      "\n",
      "See the caveats in the documentation: http://pandas.pydata.org/pandas-docs/stable/user_guide/indexing.html#returning-a-view-versus-a-copy\n",
      "C:\\ProgramData\\Anaconda3\\lib\\site-packages\\pandas\\core\\indexing.py:205: SettingWithCopyWarning: \n",
      "A value is trying to be set on a copy of a slice from a DataFrame\n",
      "\n",
      "See the caveats in the documentation: http://pandas.pydata.org/pandas-docs/stable/user_guide/indexing.html#returning-a-view-versus-a-copy\n",
      "  self._setitem_with_indexer(indexer, value)\n",
      "C:\\ProgramData\\Anaconda3\\lib\\site-packages\\ipykernel_launcher.py:21: SettingWithCopyWarning: \n",
      "A value is trying to be set on a copy of a slice from a DataFrame\n",
      "\n",
      "See the caveats in the documentation: http://pandas.pydata.org/pandas-docs/stable/user_guide/indexing.html#returning-a-view-versus-a-copy\n",
      "C:\\ProgramData\\Anaconda3\\lib\\site-packages\\ipykernel_launcher.py:22: SettingWithCopyWarning: \n",
      "A value is trying to be set on a copy of a slice from a DataFrame\n",
      "\n",
      "See the caveats in the documentation: http://pandas.pydata.org/pandas-docs/stable/user_guide/indexing.html#returning-a-view-versus-a-copy\n",
      "C:\\ProgramData\\Anaconda3\\lib\\site-packages\\ipykernel_launcher.py:23: SettingWithCopyWarning: \n",
      "A value is trying to be set on a copy of a slice from a DataFrame\n",
      "\n",
      "See the caveats in the documentation: http://pandas.pydata.org/pandas-docs/stable/user_guide/indexing.html#returning-a-view-versus-a-copy\n",
      "C:\\ProgramData\\Anaconda3\\lib\\site-packages\\ipykernel_launcher.py:24: SettingWithCopyWarning: \n",
      "A value is trying to be set on a copy of a slice from a DataFrame\n",
      "\n",
      "See the caveats in the documentation: http://pandas.pydata.org/pandas-docs/stable/user_guide/indexing.html#returning-a-view-versus-a-copy\n",
      "C:\\ProgramData\\Anaconda3\\lib\\site-packages\\ipykernel_launcher.py:17: SettingWithCopyWarning: \n",
      "A value is trying to be set on a copy of a slice from a DataFrame\n",
      "\n",
      "See the caveats in the documentation: http://pandas.pydata.org/pandas-docs/stable/user_guide/indexing.html#returning-a-view-versus-a-copy\n",
      "C:\\ProgramData\\Anaconda3\\lib\\site-packages\\ipykernel_launcher.py:18: SettingWithCopyWarning: \n",
      "A value is trying to be set on a copy of a slice from a DataFrame\n",
      "\n",
      "See the caveats in the documentation: http://pandas.pydata.org/pandas-docs/stable/user_guide/indexing.html#returning-a-view-versus-a-copy\n",
      "C:\\ProgramData\\Anaconda3\\lib\\site-packages\\ipykernel_launcher.py:19: SettingWithCopyWarning: \n",
      "A value is trying to be set on a copy of a slice from a DataFrame\n",
      "\n",
      "See the caveats in the documentation: http://pandas.pydata.org/pandas-docs/stable/user_guide/indexing.html#returning-a-view-versus-a-copy\n"
     ]
    }
   ],
   "source": [
    "year = np.zeros(120,)\n",
    "month = np.zeros(120,)\n",
    "#example values\n",
    "values = np.zeros(120,)\n",
    "\n",
    "#create dataframe in wrong format\n",
    "df2 = pd.DataFrame({'year': year, 'month': month, 'M_AviationTotalStarts': values, 'M_AviationTotalPassengernumberStarts': values, 'M_AviationTotalWeightFreightsStarts': values,\n",
    "                  'M_AviationTotalLandings': values, 'M_AviationTotalPassengernumberLandings': values, 'M_AviationTotalWeightFreightsLandings': values})\n",
    "#print(df.head())\n",
    "\n",
    "idx_df2 = 0\n",
    "idx_df = 0\n",
    "\n",
    "for y in range(2011,2021):\n",
    "    col_df = 5\n",
    "    for m in range(1,13):\n",
    "        df2.year[idx_df2] = y\n",
    "        df2.month[idx_df2] = m\n",
    "        df2.M_AviationTotalStarts[idx_df2] = df[col_df][idx_df]\n",
    "        df2.M_AviationTotalPassengernumberStarts[idx_df2] = df[col_df+1][idx_df]\n",
    "        df2.M_AviationTotalWeightFreightsStarts[idx_df2] = df[col_df+2][idx_df]\n",
    "        df2.M_AviationTotalLandings[idx_df2] = df[col_df][idx_df+1]\n",
    "        df2.M_AviationTotalPassengernumberLandings[idx_df2] = df[col_df+1][idx_df+1]\n",
    "        df2.M_AviationTotalWeightFreightsLandings[idx_df2] = df[col_df+2][idx_df+1]\n",
    "        \n",
    "        col_df = col_df+3\n",
    "        idx_df2 = idx_df2+1\n",
    "        \n",
    "    idx_df = idx_df+2\n",
    "df2['M_AviationTotalStarts'] = pd.to_numeric(df2['M_AviationTotalStarts'])\n",
    "#print(df2.head())\n",
    "        "
   ]
  },
  {
   "cell_type": "markdown",
   "metadata": {},
   "source": [
    "Combine year and month in one cell"
   ]
  },
  {
   "cell_type": "code",
   "execution_count": 4,
   "metadata": {},
   "outputs": [
    {
     "name": "stdout",
     "output_type": "stream",
     "text": [
      "   M_AviationTotalStarts M_AviationTotalPassengernumberStarts  \\\n",
      "0                79066.0                          6.31708e+06   \n",
      "1                78053.0                          6.30361e+06   \n",
      "2                90877.0                          7.63565e+06   \n",
      "3                89391.0                           8.1523e+06   \n",
      "4                99138.0                          9.11609e+06   \n",
      "\n",
      "  M_AviationTotalWeightFreightsStarts M_AviationTotalLandings  \\\n",
      "0                              176163                   78857   \n",
      "1                              180418                   77947   \n",
      "2                              215025                   90670   \n",
      "3                              196314                   89174   \n",
      "4                              205834                   99151   \n",
      "\n",
      "  M_AviationTotalPassengernumberLandings  \\\n",
      "0                            6.52394e+06   \n",
      "1                            6.22429e+06   \n",
      "2                            7.66086e+06   \n",
      "3                            8.03447e+06   \n",
      "4                            9.04523e+06   \n",
      "\n",
      "  M_AviationTotalWeightFreightsLandings    date  \n",
      "0                                159196  2011-1  \n",
      "1                                153864  2011-2  \n",
      "2                                190811  2011-3  \n",
      "3                                179021  2011-4  \n",
      "4                                182429  2011-5  \n"
     ]
    }
   ],
   "source": [
    "#change datatype of year and month to change 2019.0 to 2019\n",
    "df2.year = df2.year.astype('int16')\n",
    "df2.month = df2.month.astype('int16')\n",
    "\n",
    "#new column in format: yyyy-month as datatype string\n",
    "df2['date'] = df2.year.astype('str') + '-' + df2.month.astype('str')\n",
    "\n",
    "#drop old columns of year and month\n",
    "df2 = df2.drop(['year', 'month'], axis=1)\n",
    "\n",
    "#show df.head()\n",
    "print(df2.head())"
   ]
  },
  {
   "cell_type": "markdown",
   "metadata": {},
   "source": [
    "Use the date column as index"
   ]
  },
  {
   "cell_type": "code",
   "execution_count": 5,
   "metadata": {},
   "outputs": [
    {
     "name": "stdout",
     "output_type": "stream",
     "text": [
      "         M_AviationTotalStarts M_AviationTotalPassengernumberStarts  \\\n",
      "date                                                                  \n",
      "2011-01                79066.0                          6.31708e+06   \n",
      "2011-02                78053.0                          6.30361e+06   \n",
      "2011-03                90877.0                          7.63565e+06   \n",
      "2011-04                89391.0                           8.1523e+06   \n",
      "2011-05                99138.0                          9.11609e+06   \n",
      "\n",
      "        M_AviationTotalWeightFreightsStarts M_AviationTotalLandings  \\\n",
      "date                                                                  \n",
      "2011-01                              176163                   78857   \n",
      "2011-02                              180418                   77947   \n",
      "2011-03                              215025                   90670   \n",
      "2011-04                              196314                   89174   \n",
      "2011-05                              205834                   99151   \n",
      "\n",
      "        M_AviationTotalPassengernumberLandings  \\\n",
      "date                                             \n",
      "2011-01                            6.52394e+06   \n",
      "2011-02                            6.22429e+06   \n",
      "2011-03                            7.66086e+06   \n",
      "2011-04                            8.03447e+06   \n",
      "2011-05                            9.04523e+06   \n",
      "\n",
      "        M_AviationTotalWeightFreightsLandings  \n",
      "date                                           \n",
      "2011-01                                159196  \n",
      "2011-02                                153864  \n",
      "2011-03                                190811  \n",
      "2011-04                                179021  \n",
      "2011-05                                182429  \n"
     ]
    }
   ],
   "source": [
    "#change of datatype of column date to datetime with monthly period\n",
    "df2.date = pd.to_datetime(df2.date).dt.to_period('m')\n",
    "\n",
    "#set index of dataframe to date\n",
    "df2 = df2.set_index('date')\n",
    "\n",
    "#show df.head()\n",
    "print(df2.head())"
   ]
  },
  {
   "cell_type": "markdown",
   "metadata": {},
   "source": [
    "Test Plot"
   ]
  },
  {
   "cell_type": "code",
   "execution_count": 6,
   "metadata": {},
   "outputs": [
    {
     "data": {
      "text/plain": [
       "<matplotlib.axes._subplots.AxesSubplot at 0x1dff1cfd688>"
      ]
     },
     "execution_count": 6,
     "metadata": {},
     "output_type": "execute_result"
    }
   ],
   "source": [
    "df2.M_AviationTotalStarts.plot()"
   ]
  },
  {
   "cell_type": "markdown",
   "metadata": {},
   "source": [
    "Save dateframe in csv format"
   ]
  },
  {
   "cell_type": "code",
   "execution_count": 7,
   "metadata": {},
   "outputs": [],
   "source": [
    "df2.to_csv('../data/mobility/Aviation_Statistics_monthly.csv')"
   ]
  },
  {
   "cell_type": "code",
   "execution_count": null,
   "metadata": {},
   "outputs": [],
   "source": []
  }
 ],
 "metadata": {
  "kernelspec": {
   "display_name": "Python 3",
   "language": "python",
   "name": "python3"
  },
  "language_info": {
   "codemirror_mode": {
    "name": "ipython",
    "version": 3
   },
   "file_extension": ".py",
   "mimetype": "text/x-python",
   "name": "python",
   "nbconvert_exporter": "python",
   "pygments_lexer": "ipython3",
   "version": "3.7.4"
  }
 },
 "nbformat": 4,
 "nbformat_minor": 2
}
