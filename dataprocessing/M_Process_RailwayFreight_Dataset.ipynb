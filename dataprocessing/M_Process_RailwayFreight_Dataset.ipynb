{
 "cells": [
  {
   "cell_type": "code",
   "execution_count": 1,
   "metadata": {},
   "outputs": [],
   "source": [
    "import pandas as pd\n",
    "import numpy as np\n",
    "import openpyxl"
   ]
  },
  {
   "cell_type": "markdown",
   "metadata": {},
   "source": [
    "Prepare workbook for preprocessing"
   ]
  },
  {
   "cell_type": "code",
   "execution_count": 2,
   "metadata": {},
   "outputs": [
    {
     "name": "stdout",
     "output_type": "stream",
     "text": [
      "   year    month  M_TotalRailFreights\n",
      "0  2005   Januar           7340784257\n",
      "1  2005  Februar           7274981626\n",
      "2  2005     März           7670631920\n",
      "3  2005    April           8420136365\n",
      "4  2005      Mai           7875948131\n"
     ]
    }
   ],
   "source": [
    "wb = openpyxl.load_workbook(filename='../data/mobility/raw_data\\Eisenbahngüterverkehr_monatlich.xlsx', \n",
    "                   read_only=True)\n",
    "\n",
    "ws = wb['46131-0004']\n",
    "\n",
    "# Read the cell values into a list of lists\n",
    "data_rows = []\n",
    "for row in ws['A11':'L193']:\n",
    "    data_cols = []\n",
    "    for cell in row:\n",
    "        data_cols.append(cell.value)\n",
    "    data_rows.append(data_cols)\n",
    "\n",
    "df = pd.DataFrame(data_rows)\n",
    "#print(df.head())\n",
    "\n",
    "#drop columns of uniportant data\n",
    "df = df.drop(np.arange(2,11), axis=1)\n",
    "#print(df.head())\n",
    "\n",
    "#rename column names\n",
    "df.columns = ['year', 'month', 'M_TotalRailFreights']\n",
    "print(df.head())"
   ]
  },
  {
   "cell_type": "markdown",
   "metadata": {},
   "source": [
    "Mapping dictionary for month name and number"
   ]
  },
  {
   "cell_type": "code",
   "execution_count": 3,
   "metadata": {},
   "outputs": [
    {
     "name": "stdout",
     "output_type": "stream",
     "text": [
      "   year  month  M_TotalRailFreights\n",
      "0  2005      1           7340784257\n",
      "1  2005      2           7274981626\n",
      "2  2005      3           7670631920\n",
      "3  2005      4           8420136365\n",
      "4  2005      5           7875948131\n"
     ]
    }
   ],
   "source": [
    "In [3]: d = {'Januar':1, 'Februar':2, 'März':3, 'April':4, 'Mai':5, 'Juni':6, 'Juli':7, 'August':8, 'September':9, 'Oktober':10, 'November':11, 'Dezember':12, }\n",
    "df.month = df.month.map(d)\n",
    "print(df.head())"
   ]
  },
  {
   "cell_type": "markdown",
   "metadata": {},
   "source": [
    "Combine year and month in one cell"
   ]
  },
  {
   "cell_type": "code",
   "execution_count": 4,
   "metadata": {},
   "outputs": [
    {
     "name": "stdout",
     "output_type": "stream",
     "text": [
      "   M_TotalRailFreights    date\n",
      "0           7340784257  2005-1\n",
      "1           7274981626  2005-2\n",
      "2           7670631920  2005-3\n",
      "3           8420136365  2005-4\n",
      "4           7875948131  2005-5\n"
     ]
    }
   ],
   "source": [
    "#change datatype of year and month to change 2019.0 to 2019\n",
    "df.year = df.year.astype('int16')\n",
    "df.month = df.month.astype('int16')\n",
    "\n",
    "#new column in format: yyyy-month as datatype string\n",
    "df['date'] = df.year.astype('str') + '-' + df.month.astype('str')\n",
    "\n",
    "#drop old columns of year and month\n",
    "df = df.drop(['year', 'month'], axis=1)\n",
    "\n",
    "#show df.head()\n",
    "print(df.head())"
   ]
  },
  {
   "cell_type": "markdown",
   "metadata": {},
   "source": [
    "Use the date column as index"
   ]
  },
  {
   "cell_type": "code",
   "execution_count": 5,
   "metadata": {},
   "outputs": [
    {
     "name": "stdout",
     "output_type": "stream",
     "text": [
      "         M_TotalRailFreights\n",
      "date                        \n",
      "2005-01           7340784257\n",
      "2005-02           7274981626\n",
      "2005-03           7670631920\n",
      "2005-04           8420136365\n",
      "2005-05           7875948131\n"
     ]
    }
   ],
   "source": [
    "#change of datatype of column date to datetime with monthly period\n",
    "df.date = pd.to_datetime(df.date).dt.to_period('m')\n",
    "\n",
    "#set index of dataframe to date\n",
    "df = df.set_index('date')\n",
    "\n",
    "#show df.head()\n",
    "print(df.head())"
   ]
  },
  {
   "cell_type": "markdown",
   "metadata": {},
   "source": [
    "Test Plot"
   ]
  },
  {
   "cell_type": "code",
   "execution_count": 6,
   "metadata": {
    "scrolled": true
   },
   "outputs": [
    {
     "data": {
      "text/plain": [
       "<matplotlib.axes._subplots.AxesSubplot at 0x22b222941c8>"
      ]
     },
     "execution_count": 6,
     "metadata": {},
     "output_type": "execute_result"
    }
   ],
   "source": [
    "df.M_TotalRailFreights.plot()"
   ]
  },
  {
   "cell_type": "markdown",
   "metadata": {},
   "source": [
    "Save dateframe in csv format"
   ]
  },
  {
   "cell_type": "code",
   "execution_count": 7,
   "metadata": {},
   "outputs": [],
   "source": [
    "df.to_csv('../data/mobility/Railway_FreightTransport_monthly.csv')"
   ]
  },
  {
   "cell_type": "code",
   "execution_count": null,
   "metadata": {},
   "outputs": [],
   "source": []
  }
 ],
 "metadata": {
  "kernelspec": {
   "display_name": "Python 3",
   "language": "python",
   "name": "python3"
  },
  "language_info": {
   "codemirror_mode": {
    "name": "ipython",
    "version": 3
   },
   "file_extension": ".py",
   "mimetype": "text/x-python",
   "name": "python",
   "nbconvert_exporter": "python",
   "pygments_lexer": "ipython3",
   "version": "3.7.4"
  }
 },
 "nbformat": 4,
 "nbformat_minor": 2
}
