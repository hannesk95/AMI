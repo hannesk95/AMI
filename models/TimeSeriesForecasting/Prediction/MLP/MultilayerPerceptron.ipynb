{
 "cells": [
  {
   "cell_type": "markdown",
   "metadata": {
    "colab_type": "text",
    "id": "zYp5BGRCRc9U"
   },
   "source": [
    "# Time Series Prediction"
   ]
  },
  {
   "cell_type": "code",
   "execution_count": 294,
   "metadata": {
    "colab": {},
    "colab_type": "code",
    "id": "tVztwzmAQWZf"
   },
   "outputs": [],
   "source": [
    "import numpy as np\n",
    "import pandas as pd\n",
    "import math\n",
    "import matplotlib.pyplot as plt\n",
    "from sklearn.preprocessing import StandardScaler\n",
    "from sklearn.utils import shuffle\n",
    "from keras.models import Sequential\n",
    "from keras.layers import Dense, Flatten, InputLayer, LSTM, Dropout, BatchNormalization, Conv1D, MaxPooling1D\n",
    "from keras.callbacks import EarlyStopping\n",
    "import json\n",
    "import random"
   ]
  },
  {
   "cell_type": "markdown",
   "metadata": {
    "colab_type": "text",
    "id": "hYFAhX40sajr"
   },
   "source": [
    "## Read in Data"
   ]
  },
  {
   "cell_type": "code",
   "execution_count": 275,
   "metadata": {
    "colab": {
     "base_uri": "https://localhost:8080/",
     "height": 86
    },
    "colab_type": "code",
    "id": "Iw_8OkBSrRvv",
    "outputId": "773a2e4c-71d1-403f-b739-0e8dfd01f84c"
   },
   "outputs": [
    {
     "name": "stdout",
     "output_type": "stream",
     "text": [
      "Feature not used: E_Mio.tonnes_CO2\n",
      "Feature not used: M_Mio.tonnes_CO2\n",
      "Feature not used: ECO_Mio.tonnes_CO2\n",
      "Feature not used: Total_CO2_Emission\n",
      "Shape input features: (111, 40)\n"
     ]
    }
   ],
   "source": [
    "# Read in feature data\n",
    "with open('../../../../data/feature_database.json') as json_database:\n",
    "    database = json.load(json_database)\n",
    "# Concat data\n",
    "feature_data = None\n",
    "for i in database:\n",
    "    # Filter emission data\n",
    "    if (database[i]['sector'] != 'target_values' and \n",
    "        database[i]['sector'] != 'greenhouse_emissions'):\n",
    "        new_data = pd.read_json(database[i]['data'])\n",
    "        if feature_data is None:\n",
    "            feature_data = new_data\n",
    "        else:\n",
    "            feature_data = pd.concat([feature_data, new_data], axis=1, join=\"inner\")\n",
    "    else:\n",
    "        print(f\"Feature not used: {i}\")\n",
    "feature_data = feature_data.values\n",
    "feature_data = feature_data.astype('float64')\n",
    "print(f\"Shape input features: {feature_data.shape}\")\n",
    "#feature_data.head()"
   ]
  },
  {
   "cell_type": "code",
   "execution_count": 276,
   "metadata": {
    "colab": {
     "base_uri": "https://localhost:8080/",
     "height": 34
    },
    "colab_type": "code",
    "id": "v4ogfeZir-ne",
    "outputId": "a2b157d6-8cb7-40de-8120-1405df659f3c"
   },
   "outputs": [
    {
     "name": "stdout",
     "output_type": "stream",
     "text": [
      "Shape output data: (111,)\n"
     ]
    }
   ],
   "source": [
    "# Read in emission data\n",
    "emission_data = pd.read_csv('../../../../data/greenhouse_emissions/oeko-institut_sektorale_abgrenzung_treibhausgasemissionen_daten_sektor_monthly.csv')\n",
    "emission_data = emission_data['Total_CO2_Emission'].values\n",
    "emission_data = emission_data.astype('float64')\n",
    "# Take only the emissions on which we have indicators\n",
    "emission_data = emission_data[len(emission_data)-feature_data.shape[0]:]\n",
    "print(f\"Shape output data: {emission_data.shape}\")"
   ]
  },
  {
   "cell_type": "code",
   "execution_count": 277,
   "metadata": {
    "colab": {},
    "colab_type": "code",
    "id": "oKRXb7a2Qxfh"
   },
   "outputs": [],
   "source": [
    "# Convert an array of values into a dataset matrix\n",
    "def sliding_window(input, output, look_back=1, horizon=1, shuffle=False):\n",
    "\tdataX, dataY = [], []\n",
    "\tif len(input) != len(output):\n",
    "\t\traise ValueError('Input and ouput do not have same length!')\n",
    "\tfor i in range(len(input)-look_back-horizon):\n",
    "\t\tdataX.append(input[i:(i+look_back)])\n",
    "\t\tdataY.append(output[(i+look_back):(i+look_back+horizon)])\n",
    "\t# Shuffle windows\n",
    "\tif shuffle is True:\n",
    "\t\tdataX, dataY = shuffle(dataX, dataY, random_state=0)\n",
    "\treturn np.array(dataX), np.array(dataY)"
   ]
  },
  {
   "cell_type": "code",
   "execution_count": 278,
   "metadata": {},
   "outputs": [],
   "source": [
    "from keras import backend as K\n",
    "\n",
    "def r2_keras(y_true, y_pred):\n",
    "    SS_res =  K.sum(K.square(y_true - y_pred)) \n",
    "    SS_tot = K.sum(K.square(y_true - K.mean(y_true))) \n",
    "    return ( 1 - SS_res/(SS_tot + K.epsilon()) )"
   ]
  },
  {
   "cell_type": "code",
   "execution_count": 279,
   "metadata": {
    "colab": {},
    "colab_type": "code",
    "id": "11sSSy0aQ3pD"
   },
   "outputs": [],
   "source": [
    "scaler = StandardScaler()\n",
    "feature_data = scaler.fit_transform(feature_data)\n",
    "\n",
    "look_back = 12  # months\n",
    "horizon = 6     # months\n",
    "split_ratio = 0.8\n",
    "shuffle = True\n",
    "\n",
    "# Split into train and test sets\n",
    "train_size = int(len(feature_data) * split_ratio)\n",
    "test_size = len(feature_data) - train_size\n",
    "if test_size < (look_back+horizon):\n",
    "    raise ValueError('Split ratio too small. Increase test size!')"
   ]
  },
  {
   "cell_type": "markdown",
   "metadata": {
    "colab_type": "text",
    "id": "xV-D1FamQUl4"
   },
   "source": [
    "## Multilayer Perceptron (MLP)"
   ]
  },
  {
   "cell_type": "code",
   "execution_count": 280,
   "metadata": {
    "colab": {},
    "colab_type": "code",
    "id": "L42LvrtO6IZF"
   },
   "outputs": [],
   "source": [
    "# Regressions forecast model with windowing method\n",
    "def train_model(trainX, trainY, testX,  testY, lock_back, horizon):\n",
    "    es = EarlyStopping(monitor='val_loss', mode='min', verbose=1, patience=20, restore_best_weights=True)\n",
    "    model = Sequential()\n",
    "    # Flatten array if input is matrix\n",
    "    if len(trainX.shape) >= 3:\n",
    "        model.add(Flatten())\n",
    "        model.add(Dense(look_back, input_dim=trainX.shape[2]*look_back, activation='relu'))\n",
    "    model.add(Dense(24, input_dim=look_back, activation='relu'))\n",
    "    model.add(Dense(12, activation='relu'))\n",
    "    model.add(Dense(horizon))\n",
    "    model.compile(loss='mean_squared_error', optimizer='adam')#, metrics=[r2_keras])\n",
    "    model.fit(trainX, trainY, epochs=100, batch_size=2, verbose=2, callbacks=[es])\n",
    "    # Estimate model performance\n",
    "    trainScore = model.evaluate(trainX, trainY, verbose=0)\n",
    "    print('Train Score: %.2f MSE (%.2f RMSE)' % (trainScore, math.sqrt(trainScore)))\n",
    "    testScore = model.evaluate(testX, testY, verbose=0)\n",
    "    print('Test Score: %.2f MSE (%.2f RMSE)' % (testScore, math.sqrt(testScore)))\n",
    "\n",
    "    # Generate predictions for training\n",
    "    trainPredict = model.predict(trainX)\n",
    "    testPredict = model.predict(testX)\n",
    "\n",
    "    return model, trainPredict, testPredict"
   ]
  },
  {
   "cell_type": "code",
   "execution_count": 281,
   "metadata": {},
   "outputs": [],
   "source": [
    "def train_lstm(trainX, trainY, testX,  testY, lock_back, horizon):\n",
    "    es = EarlyStopping(monitor='val_loss', mode='min', verbose=1, patience=100, restore_best_weights=True)\n",
    "    \n",
    "    model = Sequential(name='LSTM')\n",
    "    \n",
    "    model.add(InputLayer(input_shape=(look_back, trainX.shape[2])))\n",
    "    model.add(LSTM(256, return_sequences=True, name=\"LSTM_1\"))\n",
    "    model.add(BatchNormalization())\n",
    "    model.add(LSTM(128, return_sequences=True, name=\"LSTM_2\"))\n",
    "    model.add(BatchNormalization())\n",
    "    #model.add(LSTM(96, return_sequences=True, name=\"LSTM_3\"))\n",
    "    #model.add(BatchNormalization())\n",
    "    model.add(LSTM(64, return_sequences=False, name=\"LSTM_4\"))\n",
    "    model.add(BatchNormalization())\n",
    "    model.add(Dense(64, activation='relu', name=\"LSTM_Dense1\"))\n",
    "    #model.add(Dropout(0.2))\n",
    "    model.add(Dense(32, activation='relu', name=\"LSTM_Dense2\"))\n",
    "    #model.add(Dropout(0.2))\n",
    "    model.add(Dense(16, activation='relu', name=\"LSTM_Dense3\"))    \n",
    "    model.add(Dense(horizon,activation=\"linear\",name=\"LSTM_output\"))\n",
    "    \n",
    "    model.compile(loss='mean_squared_error', optimizer='adam')#, metrics=[r2_keras])\n",
    "    history = model.fit(trainX, trainY, validation_split=0.2, epochs=250, batch_size=2, verbose=2, callbacks=[es])\n",
    "    # Estimate model performance\n",
    "    trainScore = model.evaluate(trainX, trainY, verbose=0)\n",
    "    print('Train Score: %.2f MSE (%.2f RMSE)' % (trainScore, math.sqrt(trainScore)))\n",
    "    testScore = model.evaluate(testX, testY, verbose=0)\n",
    "    print('Test Score: %.2f MSE (%.2f RMSE)' % (testScore, math.sqrt(testScore)))\n",
    "\n",
    "    # Generate predictions for training\n",
    "    trainPredict = model.predict(trainX)\n",
    "    testPredict = model.predict(testX)\n",
    "\n",
    "    return model, trainPredict, testPredict"
   ]
  },
  {
   "cell_type": "code",
   "execution_count": 308,
   "metadata": {},
   "outputs": [],
   "source": [
    "def train_cnn(trainX, trainY, testX,  testY, lock_back, horizon):\n",
    "    es = EarlyStopping(monitor='val_loss', mode='min', verbose=1, patience=50, restore_best_weights=True)\n",
    "    model = Sequential(name='CNN')    \n",
    "\n",
    "    model.add(InputLayer(input_shape=(look_back, trainX.shape[2])))\n",
    "    model.add(Conv1D(filters=128, kernel_size=3, activation='relu', name=\"Conv_1\"))\n",
    "    model.add(MaxPooling1D(pool_size=2, name='MaxPool_1'))\n",
    "    model.add(BatchNormalization())\n",
    "    model.add(Conv1D(filters=64, kernel_size=3, activation='relu', name=\"Conv_2\"))\n",
    "    model.add(MaxPooling1D(pool_size=2, name='MaxPool_2'))\n",
    "    model.add(BatchNormalization())\n",
    "    model.add(Flatten())    \n",
    "    model.add(Dense(16, activation='elu', name='Dense_1'))\n",
    "    model.add(Dense(horizon, activation='linear', name=\"CNN_output\"))\n",
    "    \n",
    "    model.compile(loss='mean_squared_error', optimizer='adam')#, metrics=[r2_keras])\n",
    "    model.fit(trainX, trainY, validation_split=0.2, epochs=250, batch_size=2, verbose=2, callbacks=[es])\n",
    "    # Estimate model performance\n",
    "    trainScore = model.evaluate(trainX, trainY, verbose=0)\n",
    "    print('Train Score: %.2f MSE (%.2f RMSE)' % (trainScore, math.sqrt(trainScore)))\n",
    "    testScore = model.evaluate(testX, testY, verbose=0)\n",
    "    print('Test Score: %.2f MSE (%.2f RMSE)' % (testScore, math.sqrt(testScore)))\n",
    "\n",
    "    # Generate predictions for training\n",
    "    trainPredict = model.predict(trainX)\n",
    "    testPredict = model.predict(testX)\n",
    "\n",
    "    return model, trainPredict, testPredict"
   ]
  },
  {
   "cell_type": "markdown",
   "metadata": {
    "colab_type": "text",
    "id": "FA3qubQql87O"
   },
   "source": [
    "## Input: Emissions"
   ]
  },
  {
   "cell_type": "markdown",
   "metadata": {
    "colab_type": "text",
    "id": "zI6j8cc2mDwg"
   },
   "source": [
    "### Create Dataset"
   ]
  },
  {
   "cell_type": "code",
   "execution_count": 282,
   "metadata": {
    "colab": {},
    "colab_type": "code",
    "id": "4-7O8UCIl6Td"
   },
   "outputs": [],
   "source": [
    "# Emissions as input\n",
    "trainX, trainY = sliding_window(emission_data[0:train_size],\n",
    "                                emission_data[0:train_size],\n",
    "                                look_back,\n",
    "                                horizon)\n",
    "testX, testY = sliding_window(emission_data[train_size:len(emission_data)],\n",
    "                              emission_data[train_size:len(emission_data)],\n",
    "                              look_back,\n",
    "                              horizon)"
   ]
  },
  {
   "cell_type": "code",
   "execution_count": 283,
   "metadata": {
    "colab": {
     "base_uri": "https://localhost:8080/",
     "height": 104
    },
    "colab_type": "code",
    "id": "-1Off3MUl1ZP",
    "outputId": "f495230c-fcc3-45fb-a321-c36b3828ed36"
   },
   "outputs": [
    {
     "name": "stdout",
     "output_type": "stream",
     "text": [
      "Shape of data:\n",
      "(70, 12)\n",
      "(70, 6)\n",
      "(5, 12)\n",
      "(5, 6)\n"
     ]
    }
   ],
   "source": [
    "print(\"Shape of data:\")\n",
    "print(trainX.shape)\n",
    "print(trainY.shape)\n",
    "print(testX.shape)\n",
    "print(testY.shape)"
   ]
  },
  {
   "cell_type": "markdown",
   "metadata": {
    "colab_type": "text",
    "id": "7fFSI1dEsr70"
   },
   "source": [
    "### Train Model"
   ]
  },
  {
   "cell_type": "code",
   "execution_count": 284,
   "metadata": {
    "colab": {
     "base_uri": "https://localhost:8080/",
     "height": 1000
    },
    "colab_type": "code",
    "id": "chLHFkGpQQvr",
    "outputId": "0f467711-9afa-45e4-802c-f389c26187a5"
   },
   "outputs": [
    {
     "name": "stdout",
     "output_type": "stream",
     "text": [
      "Epoch 1/100\n",
      " - 0s - loss: 4810.5832\n",
      "Epoch 2/100\n",
      " - 0s - loss: 1675.8142\n",
      "Epoch 3/100\n",
      " - 0s - loss: 553.0249\n",
      "Epoch 4/100\n",
      " - 0s - loss: 153.6520\n"
     ]
    },
    {
     "name": "stderr",
     "output_type": "stream",
     "text": [
      "C:\\Users\\Johan\\anaconda3\\envs\\ami-cpu\\lib\\site-packages\\keras\\callbacks\\callbacks.py:846: RuntimeWarning: Early stopping conditioned on metric `val_loss` which is not available. Available metrics are: loss\n",
      "  (self.monitor, ','.join(list(logs.keys()))), RuntimeWarning\n"
     ]
    },
    {
     "name": "stdout",
     "output_type": "stream",
     "text": [
      "Epoch 5/100\n",
      " - 0s - loss: 39.0773\n",
      "Epoch 6/100\n",
      " - 0s - loss: 27.7755\n",
      "Epoch 7/100\n",
      " - 0s - loss: 27.4229\n",
      "Epoch 8/100\n",
      " - 0s - loss: 26.3914\n",
      "Epoch 9/100\n",
      " - 0s - loss: 25.1807\n",
      "Epoch 10/100\n",
      " - 0s - loss: 25.5643\n",
      "Epoch 11/100\n",
      " - 0s - loss: 24.7945\n",
      "Epoch 12/100\n",
      " - 0s - loss: 25.0091\n",
      "Epoch 13/100\n",
      " - 0s - loss: 24.6859\n",
      "Epoch 14/100\n",
      " - 0s - loss: 24.0933\n",
      "Epoch 15/100\n",
      " - 0s - loss: 23.3805\n",
      "Epoch 16/100\n",
      " - 0s - loss: 23.5632\n",
      "Epoch 17/100\n",
      " - 0s - loss: 22.5966\n",
      "Epoch 18/100\n",
      " - 0s - loss: 21.2854\n",
      "Epoch 19/100\n",
      " - 0s - loss: 21.7122\n",
      "Epoch 20/100\n",
      " - 0s - loss: 20.4762\n",
      "Epoch 21/100\n",
      " - 0s - loss: 20.4032\n",
      "Epoch 22/100\n",
      " - 0s - loss: 20.1092\n",
      "Epoch 23/100\n",
      " - 0s - loss: 20.2930\n",
      "Epoch 24/100\n",
      " - 0s - loss: 19.4457\n",
      "Epoch 25/100\n",
      " - 0s - loss: 19.7753\n",
      "Epoch 26/100\n",
      " - 0s - loss: 18.7677\n",
      "Epoch 27/100\n",
      " - 0s - loss: 17.3600\n",
      "Epoch 28/100\n",
      " - 0s - loss: 17.1033\n",
      "Epoch 29/100\n",
      " - 0s - loss: 16.2521\n",
      "Epoch 30/100\n",
      " - 0s - loss: 17.4231\n",
      "Epoch 31/100\n",
      " - 0s - loss: 16.4933\n",
      "Epoch 32/100\n",
      " - 0s - loss: 15.3516\n",
      "Epoch 33/100\n",
      " - 0s - loss: 15.7617\n",
      "Epoch 34/100\n",
      " - 0s - loss: 15.4617\n",
      "Epoch 35/100\n",
      " - 0s - loss: 14.8500\n",
      "Epoch 36/100\n",
      " - 0s - loss: 13.8006\n",
      "Epoch 37/100\n",
      " - 0s - loss: 13.7483\n",
      "Epoch 38/100\n",
      " - 0s - loss: 13.1099\n",
      "Epoch 39/100\n",
      " - 0s - loss: 12.7718\n",
      "Epoch 40/100\n",
      " - 0s - loss: 13.4200\n",
      "Epoch 41/100\n",
      " - 0s - loss: 12.9643\n",
      "Epoch 42/100\n",
      " - 0s - loss: 13.1277\n",
      "Epoch 43/100\n",
      " - 0s - loss: 11.6813\n",
      "Epoch 44/100\n",
      " - 0s - loss: 11.2525\n",
      "Epoch 45/100\n",
      " - 0s - loss: 11.1755\n",
      "Epoch 46/100\n",
      " - 0s - loss: 11.1244\n",
      "Epoch 47/100\n",
      " - 0s - loss: 11.9291\n",
      "Epoch 48/100\n",
      " - 0s - loss: 11.8064\n",
      "Epoch 49/100\n",
      " - 0s - loss: 10.1153\n",
      "Epoch 50/100\n",
      " - 0s - loss: 9.8952\n",
      "Epoch 51/100\n",
      " - 0s - loss: 10.6216\n",
      "Epoch 52/100\n",
      " - 0s - loss: 10.2291\n",
      "Epoch 53/100\n",
      " - 0s - loss: 9.2722\n",
      "Epoch 54/100\n",
      " - 0s - loss: 8.9250\n",
      "Epoch 55/100\n",
      " - 0s - loss: 8.4839\n",
      "Epoch 56/100\n",
      " - 0s - loss: 8.3653\n",
      "Epoch 57/100\n",
      " - 0s - loss: 7.9899\n",
      "Epoch 58/100\n",
      " - 0s - loss: 7.8216\n",
      "Epoch 59/100\n",
      " - 0s - loss: 7.7398\n",
      "Epoch 60/100\n",
      " - 0s - loss: 7.2800\n",
      "Epoch 61/100\n",
      " - 0s - loss: 8.5261\n",
      "Epoch 62/100\n",
      " - 0s - loss: 7.4388\n",
      "Epoch 63/100\n",
      " - 0s - loss: 7.0905\n",
      "Epoch 64/100\n",
      " - 0s - loss: 6.8876\n",
      "Epoch 65/100\n",
      " - 0s - loss: 6.4917\n",
      "Epoch 66/100\n",
      " - 0s - loss: 6.3942\n",
      "Epoch 67/100\n",
      " - 0s - loss: 6.1441\n",
      "Epoch 68/100\n",
      " - 0s - loss: 6.1540\n",
      "Epoch 69/100\n",
      " - 0s - loss: 6.9059\n",
      "Epoch 70/100\n",
      " - 0s - loss: 6.3012\n",
      "Epoch 71/100\n",
      " - 0s - loss: 6.0654\n",
      "Epoch 72/100\n",
      " - 0s - loss: 5.9526\n",
      "Epoch 73/100\n",
      " - 0s - loss: 5.8213\n",
      "Epoch 74/100\n",
      " - 0s - loss: 5.3808\n",
      "Epoch 75/100\n",
      " - 0s - loss: 5.4585\n",
      "Epoch 76/100\n",
      " - 0s - loss: 5.5844\n",
      "Epoch 77/100\n",
      " - 0s - loss: 5.3052\n",
      "Epoch 78/100\n",
      " - 0s - loss: 5.5150\n",
      "Epoch 79/100\n",
      " - 0s - loss: 5.8491\n",
      "Epoch 80/100\n",
      " - 0s - loss: 5.0242\n",
      "Epoch 81/100\n",
      " - 0s - loss: 5.0605\n",
      "Epoch 82/100\n",
      " - 0s - loss: 4.9279\n",
      "Epoch 83/100\n",
      " - 0s - loss: 4.8679\n",
      "Epoch 84/100\n",
      " - 0s - loss: 4.9884\n",
      "Epoch 85/100\n",
      " - 0s - loss: 4.7871\n",
      "Epoch 86/100\n",
      " - 0s - loss: 5.0083\n",
      "Epoch 87/100\n",
      " - 0s - loss: 5.2152\n",
      "Epoch 88/100\n",
      " - 0s - loss: 4.3787\n",
      "Epoch 89/100\n",
      " - 0s - loss: 4.2131\n",
      "Epoch 90/100\n",
      " - 0s - loss: 4.1397\n",
      "Epoch 91/100\n",
      " - 0s - loss: 4.3004\n",
      "Epoch 92/100\n",
      " - 0s - loss: 4.1335\n",
      "Epoch 93/100\n",
      " - 0s - loss: 4.5137\n",
      "Epoch 94/100\n",
      " - 0s - loss: 4.1388\n",
      "Epoch 95/100\n",
      " - 0s - loss: 4.2016\n",
      "Epoch 96/100\n",
      " - 0s - loss: 3.8490\n",
      "Epoch 97/100\n",
      " - 0s - loss: 4.8439\n",
      "Epoch 98/100\n",
      " - 0s - loss: 3.9413\n",
      "Epoch 99/100\n",
      " - 0s - loss: 3.8474\n",
      "Epoch 100/100\n",
      " - 0s - loss: 4.1102\n",
      "Train Score: 4.21 MSE (2.05 RMSE)\n",
      "Test Score: 1.99 MSE (1.41 RMSE)\n"
     ]
    }
   ],
   "source": [
    "# Create and fit Multilayer Perceptron model for every indicator\n",
    "trainPredictPlot = np.empty_like(emission_data)\n",
    "trainPredictPlot[:] = np.nan\n",
    "testPredictPlot = np.empty_like(emission_data)\n",
    "testPredictPlot[:] = np.nan\n",
    "\n",
    "# Train model and generate predictions\n",
    "model, trainPredict, testPredict = train_model(trainX, trainY, testX, testY, look_back, horizon)\n",
    "\n",
    "# Shift train predictions for plotting\n",
    "for t in range(len(trainPredict)):\n",
    "    trainPredictPlot[t+look_back:t+look_back+horizon] = trainPredict[t, :]\n",
    "for t in range(len(testPredict)):\n",
    "    testPredictPlot[len(trainPredict)+t+look_back+horizon:len(trainPredict)+\n",
    "                    t+look_back+(horizon*2)] = testPredict[t, :]"
   ]
  },
  {
   "cell_type": "markdown",
   "metadata": {
    "colab_type": "text",
    "id": "R44Cx_64s774"
   },
   "source": [
    "### Prediction and Plot"
   ]
  },
  {
   "cell_type": "code",
   "execution_count": 285,
   "metadata": {
    "colab": {
     "base_uri": "https://localhost:8080/",
     "height": 282
    },
    "colab_type": "code",
    "id": "Rr1sHb_xyowM",
    "outputId": "b965ff08-8842-4c37-bf78-1a544e78c31a"
   },
   "outputs": [
    {
     "name": "stdout",
     "output_type": "stream",
     "text": [
      "Forecast: [[70.59049  69.79876  66.720055 64.3723   63.237705 62.124157]]\n"
     ]
    },
    {
     "data": {
      "image/png": "[encoded data removed]",
      "text/plain": [
       "<Figure size 432x288 with 1 Axes>"
      ]
     },
     "metadata": {
      "needs_background": "light"
     },
     "output_type": "display_data"
    }
   ],
   "source": [
    "# Forecast predictions\n",
    "forecastPlot = np.zeros((len(emission_data) + horizon))\n",
    "forecastPlot[:] = np.nan\n",
    "\n",
    "X = np.zeros((1, look_back))\n",
    "X[0] = emission_data[len(emission_data)-look_back:]\n",
    "predict = model.predict(X)\n",
    "forecastPlot[len(emission_data):len(emission_data)+horizon] = predict[:]\n",
    "\n",
    "print(f\"Forecast: {predict}\")\n",
    "\n",
    "# Plot baseline, training, test and forecast\n",
    "plt.plot(emission_data[:])\n",
    "plt.plot(trainPredictPlot[:])\n",
    "plt.plot(testPredictPlot[:])\n",
    "plt.plot(forecastPlot[:])\n",
    "plt.show()"
   ]
  },
  {
   "cell_type": "markdown",
   "metadata": {
    "colab_type": "text",
    "id": "ezpSy_dPmG_T"
   },
   "source": [
    "## Input: Features"
   ]
  },
  {
   "cell_type": "markdown",
   "metadata": {
    "colab_type": "text",
    "id": "q34lrJ_ptQ1E"
   },
   "source": [
    "### Create Dataset"
   ]
  },
  {
   "cell_type": "code",
   "execution_count": 301,
   "metadata": {
    "colab": {},
    "colab_type": "code",
    "id": "s88tS5soly1n"
   },
   "outputs": [],
   "source": [
    "# Features as input\n",
    "trainX, trainY = sliding_window(feature_data[0:train_size,:],\n",
    "                                emission_data[0:train_size],\n",
    "                                look_back,\n",
    "                                horizon)\n",
    "testX, testY = sliding_window(feature_data[train_size:len(feature_data),:],\n",
    "                              emission_data[train_size:len(emission_data)],\n",
    "                              look_back,\n",
    "                              horizon)"
   ]
  },
  {
   "cell_type": "code",
   "execution_count": 302,
   "metadata": {
    "colab": {
     "base_uri": "https://localhost:8080/",
     "height": 104
    },
    "colab_type": "code",
    "id": "NYIyKo0etM9u",
    "outputId": "4035e0de-d88d-4e37-c035-0fb051dd9b1c"
   },
   "outputs": [
    {
     "name": "stdout",
     "output_type": "stream",
     "text": [
      "Shape of data:\n",
      "(70, 12, 40)\n",
      "(70, 6)\n",
      "(5, 12, 40)\n",
      "(5, 6)\n"
     ]
    },
    {
     "data": {
      "text/plain": [
       "array([[71.66739555, 68.89877353, 67.01921089, 63.1472728 , 60.68784891,\n",
       "        59.03368864],\n",
       "       [68.89877353, 67.01921089, 63.1472728 , 60.68784891, 59.03368864,\n",
       "        61.9336371 ],\n",
       "       [67.01921089, 63.1472728 , 60.68784891, 59.03368864, 61.9336371 ,\n",
       "        65.2684815 ],\n",
       "       [63.1472728 , 60.68784891, 59.03368864, 61.9336371 , 65.2684815 ,\n",
       "        67.30914151],\n",
       "       [60.68784891, 59.03368864, 61.9336371 , 65.2684815 , 67.30914151,\n",
       "        69.58895439]])"
      ]
     },
     "execution_count": 302,
     "metadata": {},
     "output_type": "execute_result"
    }
   ],
   "source": [
    "print(\"Shape of data:\")\n",
    "print(trainX.shape)\n",
    "print(trainY.shape)\n",
    "print(testX.shape)\n",
    "print(testY.shape)\n",
    "testY"
   ]
  },
  {
   "cell_type": "markdown",
   "metadata": {
    "colab_type": "text",
    "id": "a2J5EuMttN83"
   },
   "source": [
    "### Train Model"
   ]
  },
  {
   "cell_type": "code",
   "execution_count": 303,
   "metadata": {},
   "outputs": [
    {
     "name": "stdout",
     "output_type": "stream",
     "text": [
      "(70, 12, 30)\n",
      "(5, 12, 30)\n"
     ]
    }
   ],
   "source": [
    "#Varying number of features\n",
    "\n",
    "num_of_feats = 30\n",
    "\n",
    "trainX = trainX[:, :, :num_of_feats]\n",
    "print(trainX.shape)\n",
    "testX = testX[:, :, :num_of_feats]\n",
    "print(testX.shape)"
   ]
  },
  {
   "cell_type": "code",
   "execution_count": 309,
   "metadata": {
    "colab": {
     "base_uri": "https://localhost:8080/",
     "height": 1000
    },
    "colab_type": "code",
    "id": "NWAYXAyKtWeD",
    "outputId": "01a4db26-a030-48a0-9626-e0f48ae909c3"
   },
   "outputs": [
    {
     "name": "stdout",
     "output_type": "stream",
     "text": [
      "Train on 56 samples, validate on 14 samples\n",
      "Epoch 1/250\n",
      " - 1s - loss: 4775.0627 - val_loss: 4574.2831\n",
      "Epoch 2/250\n",
      " - 0s - loss: 4703.2550 - val_loss: 4530.0044\n",
      "Epoch 3/250\n",
      " - 0s - loss: 4618.8208 - val_loss: 4455.5020\n",
      "Epoch 4/250\n",
      " - 0s - loss: 4419.7793 - val_loss: 4334.9978\n",
      "Epoch 5/250\n",
      " - 0s - loss: 4179.5927 - val_loss: 4152.9632\n",
      "Epoch 6/250\n",
      " - 0s - loss: 3937.0773 - val_loss: 3914.2399\n",
      "Epoch 7/250\n",
      " - 0s - loss: 3482.2428 - val_loss: 3523.7629\n",
      "Epoch 8/250\n",
      " - 0s - loss: 2925.0990 - val_loss: 3003.3193\n",
      "Epoch 9/250\n",
      " - 0s - loss: 2533.2488 - val_loss: 2275.7211\n",
      "Epoch 10/250\n",
      " - 0s - loss: 1829.9866 - val_loss: 1603.3786\n",
      "Epoch 11/250\n",
      " - 0s - loss: 1354.8152 - val_loss: 1287.7129\n",
      "Epoch 12/250\n",
      " - 0s - loss: 871.8102 - val_loss: 975.7458\n",
      "Epoch 13/250\n",
      " - 0s - loss: 659.5422 - val_loss: 947.4651\n",
      "Epoch 14/250\n",
      " - 0s - loss: 518.1690 - val_loss: 1037.2829\n",
      "Epoch 15/250\n",
      " - 0s - loss: 598.6790 - val_loss: 1256.2128\n",
      "Epoch 16/250\n",
      " - 0s - loss: 599.5764 - val_loss: 1467.9979\n",
      "Epoch 17/250\n",
      " - 0s - loss: 464.7525 - val_loss: 1229.8074\n",
      "Epoch 18/250\n",
      " - 0s - loss: 349.2348 - val_loss: 1059.1554\n",
      "Epoch 19/250\n",
      " - 0s - loss: 274.4571 - val_loss: 1009.1223\n",
      "Epoch 20/250\n",
      " - 0s - loss: 258.1620 - val_loss: 995.8778\n",
      "Epoch 21/250\n",
      " - 0s - loss: 265.6755 - val_loss: 1045.8045\n",
      "Epoch 22/250\n",
      " - 0s - loss: 258.0849 - val_loss: 876.9520\n",
      "Epoch 23/250\n",
      " - 0s - loss: 234.9521 - val_loss: 917.5485\n",
      "Epoch 24/250\n",
      " - 0s - loss: 168.6657 - val_loss: 733.6873\n",
      "Epoch 25/250\n",
      " - 0s - loss: 210.3733 - val_loss: 600.8844\n",
      "Epoch 26/250\n",
      " - 0s - loss: 170.6429 - val_loss: 478.3726\n",
      "Epoch 27/250\n",
      " - 0s - loss: 180.2294 - val_loss: 458.8386\n",
      "Epoch 28/250\n",
      " - 0s - loss: 114.7866 - val_loss: 399.5568\n",
      "Epoch 29/250\n",
      " - 0s - loss: 89.5556 - val_loss: 324.1754\n",
      "Epoch 30/250\n",
      " - 0s - loss: 85.7487 - val_loss: 248.0420\n",
      "Epoch 31/250\n",
      " - 0s - loss: 123.0587 - val_loss: 194.0192\n",
      "Epoch 32/250\n",
      " - 0s - loss: 81.7740 - val_loss: 149.6886\n",
      "Epoch 33/250\n",
      " - 0s - loss: 100.4965 - val_loss: 142.0705\n",
      "Epoch 34/250\n",
      " - 0s - loss: 81.3059 - val_loss: 166.5621\n",
      "Epoch 35/250\n",
      " - 0s - loss: 82.0312 - val_loss: 138.1108\n",
      "Epoch 36/250\n",
      " - 0s - loss: 66.5835 - val_loss: 110.4643\n",
      "Epoch 37/250\n",
      " - 0s - loss: 68.9386 - val_loss: 134.2278\n",
      "Epoch 38/250\n",
      " - 0s - loss: 52.6420 - val_loss: 99.5717\n",
      "Epoch 39/250\n",
      " - 0s - loss: 75.3932 - val_loss: 100.5526\n",
      "Epoch 40/250\n",
      " - 0s - loss: 54.6964 - val_loss: 138.8708\n",
      "Epoch 41/250\n",
      " - 0s - loss: 73.0194 - val_loss: 163.5150\n",
      "Epoch 42/250\n",
      " - 0s - loss: 54.0415 - val_loss: 243.3480\n",
      "Epoch 43/250\n",
      " - 0s - loss: 52.4226 - val_loss: 252.4329\n",
      "Epoch 44/250\n",
      " - 0s - loss: 48.4262 - val_loss: 202.2207\n",
      "Epoch 45/250\n",
      " - 0s - loss: 44.2988 - val_loss: 253.2251\n",
      "Epoch 46/250\n",
      " - 0s - loss: 43.1046 - val_loss: 251.8784\n",
      "Epoch 47/250\n",
      " - 0s - loss: 46.8715 - val_loss: 220.6116\n",
      "Epoch 48/250\n",
      " - 0s - loss: 41.4217 - val_loss: 245.3580\n",
      "Epoch 49/250\n",
      " - 0s - loss: 56.2998 - val_loss: 217.1598\n",
      "Epoch 50/250\n",
      " - 0s - loss: 42.3775 - val_loss: 136.9433\n",
      "Epoch 51/250\n",
      " - 0s - loss: 40.3793 - val_loss: 130.3314\n",
      "Epoch 52/250\n",
      " - 0s - loss: 66.1570 - val_loss: 177.0032\n",
      "Epoch 53/250\n",
      " - 0s - loss: 44.2793 - val_loss: 150.9592\n",
      "Epoch 54/250\n",
      " - 0s - loss: 50.9449 - val_loss: 189.6873\n",
      "Epoch 55/250\n",
      " - 0s - loss: 45.4505 - val_loss: 124.5947\n",
      "Epoch 56/250\n",
      " - 0s - loss: 71.5085 - val_loss: 137.2554\n",
      "Epoch 57/250\n",
      " - 0s - loss: 47.1525 - val_loss: 100.6488\n",
      "Epoch 58/250\n",
      " - 0s - loss: 44.6815 - val_loss: 95.1352\n",
      "Epoch 59/250\n",
      " - 0s - loss: 43.4727 - val_loss: 146.3349\n",
      "Epoch 60/250\n",
      " - 0s - loss: 73.0176 - val_loss: 121.6699\n",
      "Epoch 61/250\n",
      " - 0s - loss: 43.4814 - val_loss: 125.8782\n",
      "Epoch 62/250\n",
      " - 0s - loss: 51.2767 - val_loss: 138.3681\n",
      "Epoch 63/250\n",
      " - 0s - loss: 46.5970 - val_loss: 119.8822\n",
      "Epoch 64/250\n",
      " - 0s - loss: 48.0960 - val_loss: 104.2883\n",
      "Epoch 65/250\n",
      " - 0s - loss: 37.9967 - val_loss: 89.7839\n",
      "Epoch 66/250\n",
      " - 0s - loss: 36.8266 - val_loss: 102.6178\n",
      "Epoch 67/250\n",
      " - 0s - loss: 42.9239 - val_loss: 126.9750\n",
      "Epoch 68/250\n",
      " - 0s - loss: 41.5554 - val_loss: 112.4225\n",
      "Epoch 69/250\n",
      " - 0s - loss: 53.8481 - val_loss: 58.1276\n",
      "Epoch 70/250\n",
      " - 0s - loss: 37.7151 - val_loss: 73.0337\n",
      "Epoch 71/250\n",
      " - 0s - loss: 49.1284 - val_loss: 102.1941\n",
      "Epoch 72/250\n",
      " - 0s - loss: 43.3332 - val_loss: 73.4019\n",
      "Epoch 73/250\n",
      " - 0s - loss: 43.4886 - val_loss: 94.9167\n",
      "Epoch 74/250\n",
      " - 0s - loss: 39.2813 - val_loss: 74.4415\n",
      "Epoch 75/250\n",
      " - 0s - loss: 47.0018 - val_loss: 64.2561\n",
      "Epoch 76/250\n",
      " - 0s - loss: 35.8887 - val_loss: 99.8263\n",
      "Epoch 77/250\n",
      " - 0s - loss: 34.0356 - val_loss: 90.6365\n",
      "Epoch 78/250\n",
      " - 0s - loss: 43.9192 - val_loss: 65.0716\n",
      "Epoch 79/250\n",
      " - 0s - loss: 45.0052 - val_loss: 68.9056\n",
      "Epoch 80/250\n",
      " - 0s - loss: 47.9660 - val_loss: 49.8513\n",
      "Epoch 81/250\n",
      " - 0s - loss: 36.8456 - val_loss: 47.8718\n",
      "Epoch 82/250\n",
      " - 0s - loss: 33.3995 - val_loss: 43.2787\n",
      "Epoch 83/250\n",
      " - 0s - loss: 36.1150 - val_loss: 54.5832\n",
      "Epoch 84/250\n",
      " - 0s - loss: 39.5586 - val_loss: 73.3264\n",
      "Epoch 85/250\n",
      " - 0s - loss: 34.7483 - val_loss: 72.1020\n",
      "Epoch 86/250\n",
      " - 0s - loss: 27.2925 - val_loss: 110.9177\n",
      "Epoch 87/250\n",
      " - 0s - loss: 31.1869 - val_loss: 119.6798\n",
      "Epoch 88/250\n",
      " - 0s - loss: 28.6179 - val_loss: 94.9765\n",
      "Epoch 89/250\n",
      " - 0s - loss: 27.0995 - val_loss: 135.7258\n",
      "Epoch 90/250\n",
      " - 0s - loss: 38.4864 - val_loss: 171.6704\n",
      "Epoch 91/250\n",
      " - 0s - loss: 32.2852 - val_loss: 112.7680\n",
      "Epoch 92/250\n",
      " - 0s - loss: 29.5368 - val_loss: 81.1800\n",
      "Epoch 93/250\n",
      " - 0s - loss: 37.5148 - val_loss: 55.5040\n",
      "Epoch 94/250\n",
      " - 0s - loss: 27.7060 - val_loss: 62.1348\n",
      "Epoch 95/250\n",
      " - 0s - loss: 28.8695 - val_loss: 74.3491\n",
      "Epoch 96/250\n",
      " - 0s - loss: 30.7049 - val_loss: 75.6881\n",
      "Epoch 97/250\n",
      " - 0s - loss: 36.3650 - val_loss: 58.5996\n",
      "Epoch 98/250\n",
      " - 0s - loss: 38.5630 - val_loss: 55.7906\n",
      "Epoch 99/250\n",
      " - 0s - loss: 24.9115 - val_loss: 76.5046\n",
      "Epoch 100/250\n",
      " - 0s - loss: 41.4103 - val_loss: 66.7922\n",
      "Epoch 101/250\n",
      " - 0s - loss: 45.5950 - val_loss: 52.3262\n",
      "Epoch 102/250\n",
      " - 0s - loss: 28.8238 - val_loss: 76.9148\n",
      "Epoch 103/250\n",
      " - 0s - loss: 36.0219 - val_loss: 62.1520\n",
      "Epoch 104/250\n",
      " - 0s - loss: 44.5433 - val_loss: 111.6170\n",
      "Epoch 105/250\n",
      " - 0s - loss: 43.0342 - val_loss: 137.6906\n",
      "Epoch 106/250\n",
      " - 0s - loss: 34.3429 - val_loss: 143.1453\n",
      "Epoch 107/250\n",
      " - 0s - loss: 27.8800 - val_loss: 119.8839\n",
      "Epoch 108/250\n",
      " - 0s - loss: 45.1674 - val_loss: 107.5442\n",
      "Epoch 109/250\n",
      " - 0s - loss: 33.7876 - val_loss: 87.0865\n",
      "Epoch 110/250\n",
      " - 0s - loss: 28.8092 - val_loss: 110.1133\n",
      "Epoch 111/250\n",
      " - 0s - loss: 37.7975 - val_loss: 119.4416\n",
      "Epoch 112/250\n",
      " - 0s - loss: 22.6643 - val_loss: 116.4274\n",
      "Epoch 113/250\n",
      " - 0s - loss: 41.1489 - val_loss: 103.9410\n",
      "Epoch 114/250\n",
      " - 0s - loss: 22.6368 - val_loss: 89.8276\n",
      "Epoch 115/250\n",
      " - 0s - loss: 33.5237 - val_loss: 80.1041\n",
      "Epoch 116/250\n",
      " - 0s - loss: 31.4926 - val_loss: 81.3147\n",
      "Epoch 117/250\n",
      " - 0s - loss: 33.3691 - val_loss: 150.1881\n",
      "Epoch 118/250\n",
      " - 0s - loss: 32.8893 - val_loss: 143.1583\n",
      "Epoch 119/250\n",
      " - 0s - loss: 26.9461 - val_loss: 138.3733\n",
      "Epoch 120/250\n",
      " - 0s - loss: 36.1050 - val_loss: 114.6694\n",
      "Epoch 121/250\n",
      " - 0s - loss: 40.8408 - val_loss: 64.8252\n",
      "Epoch 122/250\n",
      " - 0s - loss: 31.0067 - val_loss: 79.6069\n",
      "Epoch 123/250\n",
      " - 0s - loss: 35.0930 - val_loss: 97.0111\n",
      "Epoch 124/250\n",
      " - 0s - loss: 41.0271 - val_loss: 87.0327\n",
      "Epoch 125/250\n",
      " - 0s - loss: 34.2931 - val_loss: 92.9739\n",
      "Epoch 126/250\n",
      " - 0s - loss: 41.8684 - val_loss: 73.7461\n",
      "Epoch 127/250\n",
      " - 0s - loss: 43.1379 - val_loss: 88.0184\n",
      "Epoch 128/250\n",
      " - 0s - loss: 31.8339 - val_loss: 89.8754\n",
      "Epoch 129/250\n",
      " - 0s - loss: 35.7149 - val_loss: 81.9602\n",
      "Epoch 130/250\n",
      " - 0s - loss: 29.4250 - val_loss: 85.3940\n",
      "Epoch 131/250\n",
      " - 0s - loss: 28.8663 - val_loss: 100.1924\n",
      "Epoch 132/250\n",
      " - 0s - loss: 38.2515 - val_loss: 109.8834\n",
      "Restoring model weights from the end of the best epoch\n",
      "Epoch 00132: early stopping\n",
      "Train Score: 27.27 MSE (5.22 RMSE)\n",
      "Test Score: 38.86 MSE (6.23 RMSE)\n"
     ]
    }
   ],
   "source": [
    "# Create and fit Multilayer Perceptron model for every indicator\n",
    "trainPredictPlot = np.empty_like(emission_data)\n",
    "trainPredictPlot[:] = np.nan\n",
    "testPredictPlot = np.empty_like(emission_data)\n",
    "testPredictPlot[:] = np.nan\n",
    "\n",
    "\n",
    "\n",
    "# Train model and generate predictions\n",
    "model, trainPredict, testPredict = train_cnn(trainX, trainY, testX, testY,\n",
    "                                               look_back, horizon)\n",
    "\n",
    "# Shift train predictions for plotting\n",
    "for t in range(len(trainPredict)):\n",
    "    trainPredictPlot[t+look_back:t+look_back+horizon] = trainPredict[t, :]\n",
    "for t in range(len(testPredict)):\n",
    "    testPredictPlot[len(trainPredict)+t+look_back+horizon:len(trainPredict)+\n",
    "                    t+look_back+(horizon*2)] = testPredict[t, :]"
   ]
  },
  {
   "cell_type": "markdown",
   "metadata": {
    "colab_type": "text",
    "id": "IabXsSAwtcbo"
   },
   "source": [
    "### Prediction and Plot"
   ]
  },
  {
   "cell_type": "code",
   "execution_count": 310,
   "metadata": {
    "colab": {
     "base_uri": "https://localhost:8080/",
     "height": 282
    },
    "colab_type": "code",
    "id": "PQ713lkVlfy1",
    "outputId": "de044196-f0bb-41f3-84a4-85694368c636"
   },
   "outputs": [
    {
     "name": "stdout",
     "output_type": "stream",
     "text": [
      "Forecast: [[62.613544 58.54102  68.17     68.80457  62.70614  55.543144]]\n"
     ]
    },
    {
     "data": {
      "image/png": "[encoded data removed]",
      "text/plain": [
       "<Figure size 432x288 with 1 Axes>"
      ]
     },
     "metadata": {
      "needs_background": "light"
     },
     "output_type": "display_data"
    }
   ],
   "source": [
    "# Forecast predictions\n",
    "forecastPlot = np.zeros((len(emission_data) + horizon))\n",
    "forecastPlot[:] = np.nan\n",
    "\n",
    "# Features\n",
    "#X = np.zeros((1, look_back, feature_data.shape[1]))\n",
    "X = np.zeros((1, look_back, num_of_feats))\n",
    "#X[0] = feature_data[len(feature_data)-look_back:, :]\n",
    "X[0] = feature_data[len(feature_data)-look_back:, :num_of_feats]\n",
    "predict = model.predict(X)\n",
    "forecastPlot[len(feature_data):len(feature_data)+horizon] = predict[:]\n",
    "\n",
    "print(f\"Forecast: {predict}\")\n",
    "\n",
    "# Plot baseline, training, test and forecast\n",
    "plt.plot(emission_data[:])\n",
    "plt.plot(trainPredictPlot[:])\n",
    "plt.plot(testPredictPlot[:])\n",
    "plt.plot(forecastPlot[:])\n",
    "plt.show()"
   ]
  },
  {
   "cell_type": "code",
   "execution_count": null,
   "metadata": {},
   "outputs": [],
   "source": []
  }
 ],
 "metadata": {
  "colab": {
   "collapsed_sections": [],
   "name": "MultilayerPerceptron.ipynb",
   "provenance": [],
   "toc_visible": true
  },
  "kernelspec": {
   "display_name": "Python 3",
   "language": "python",
   "name": "python3"
  },
  "language_info": {
   "codemirror_mode": {
    "name": "ipython",
    "version": 3
   },
   "file_extension": ".py",
   "mimetype": "text/x-python",
   "name": "python",
   "nbconvert_exporter": "python",
   "pygments_lexer": "ipython3",
   "version": "3.7.7"
  }
 },
 "nbformat": 4,
 "nbformat_minor": 1
}
