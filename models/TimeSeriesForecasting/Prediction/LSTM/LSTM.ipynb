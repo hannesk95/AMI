{
 "cells": [
  {
   "cell_type": "markdown",
   "metadata": {
    "colab_type": "text",
    "id": "zYp5BGRCRc9U"
   },
   "source": [
    "# Time Series Prediction"
   ]
  },
  {
   "cell_type": "code",
   "execution_count": 861,
   "metadata": {
    "colab": {},
    "colab_type": "code",
    "id": "tVztwzmAQWZf"
   },
   "outputs": [],
   "source": [
    "import numpy as np\n",
    "import pandas as pd\n",
    "import math\n",
    "import matplotlib.pyplot as plt\n",
    "from sklearn.preprocessing import StandardScaler, MinMaxScaler\n",
    "from sklearn.utils import shuffle\n",
    "from keras.models import Sequential\n",
    "from keras.layers import Dense, Flatten, InputLayer, LSTM, Dropout, BatchNormalization, Conv1D, MaxPooling1D\n",
    "from keras.callbacks import EarlyStopping\n",
    "import json\n",
    "import random\n",
    "from keras import backend as K"
   ]
  },
  {
   "cell_type": "markdown",
   "metadata": {
    "colab_type": "text",
    "id": "hYFAhX40sajr"
   },
   "source": [
    "## Read in Data"
   ]
  },
  {
   "cell_type": "code",
   "execution_count": 862,
   "metadata": {
    "colab": {
     "base_uri": "https://localhost:8080/",
     "height": 86
    },
    "colab_type": "code",
    "id": "Iw_8OkBSrRvv",
    "outputId": "773a2e4c-71d1-403f-b739-0e8dfd01f84c"
   },
   "outputs": [
    {
     "name": "stdout",
     "output_type": "stream",
     "text": [
      "Feature not used: E_Mio.tonnes_CO2\n",
      "Feature not used: M_Mio.tonnes_CO2\n",
      "Feature not used: ECO_Mio.tonnes_CO2\n",
      "Feature not used: Total_CO2_Emission\n",
      "Shape input features: (111, 40)\n"
     ]
    }
   ],
   "source": [
    "# Read in feature data\n",
    "with open('../../../../data/feature_database.json') as json_database:\n",
    "    database = json.load(json_database)\n",
    "# Concat data\n",
    "feature_data = None\n",
    "for i in database:\n",
    "    # Filter emission data\n",
    "    if (database[i]['sector'] != 'target_values' and \n",
    "        database[i]['sector'] != 'greenhouse_emissions'):\n",
    "        new_data = pd.read_json(database[i]['data'])\n",
    "        if feature_data is None:\n",
    "            feature_data = new_data\n",
    "        else:\n",
    "            feature_data = pd.concat([feature_data, new_data], axis=1, join=\"inner\")\n",
    "    else:\n",
    "        print(f\"Feature not used: {i}\")\n",
    "feature_data = feature_data.values\n",
    "feature_data = feature_data.astype('float64')\n",
    "print(f\"Shape input features: {feature_data.shape}\")\n",
    "#feature_data.head()"
   ]
  },
  {
   "cell_type": "code",
   "execution_count": 863,
   "metadata": {
    "colab": {
     "base_uri": "https://localhost:8080/",
     "height": 34
    },
    "colab_type": "code",
    "id": "v4ogfeZir-ne",
    "outputId": "a2b157d6-8cb7-40de-8120-1405df659f3c"
   },
   "outputs": [
    {
     "name": "stdout",
     "output_type": "stream",
     "text": [
      "Shape output data: (111,)\n"
     ]
    }
   ],
   "source": [
    "# Read in emission data\n",
    "emission_data = pd.read_csv('../../../../data/greenhouse_emissions/oeko-institut_sektorale_abgrenzung_treibhausgasemissionen_daten_sektor_monthly.csv')\n",
    "emission_data = emission_data['Total_CO2_Emission'].values\n",
    "emission_data = emission_data.astype('float64')\n",
    "# Take only the emissions on which we have indicators\n",
    "emission_data = emission_data[len(emission_data)-feature_data.shape[0]:]\n",
    "print(f\"Shape output data: {emission_data.shape}\")"
   ]
  },
  {
   "cell_type": "code",
   "execution_count": 864,
   "metadata": {
    "colab": {},
    "colab_type": "code",
    "id": "oKRXb7a2Qxfh"
   },
   "outputs": [],
   "source": [
    "# Convert an array of values into a dataset matrix\n",
    "def sliding_window(input, output, look_back=1, horizon=1, shuffle=False):\n",
    "    dataX, dataY = [], []\n",
    "    if len(input) != len(output):\n",
    "        raise ValueError('Input and ouput do not have same length!')\n",
    "    for i in range(len(input)-look_back-horizon):\n",
    "        dataX.append(input[i:(i+look_back)])\n",
    "        dataY.append(output[(i+look_back):(i+look_back+horizon)])\n",
    "    # Shuffle windows\n",
    "    if shuffle is True:\n",
    "        dataX, dataY = shuffle(dataX, dataY, random_state=0)\n",
    "    return np.array(dataX), np.array(dataY)"
   ]
  },
  {
   "cell_type": "code",
   "execution_count": 865,
   "metadata": {},
   "outputs": [],
   "source": [
    "def r2_keras(y_true, y_pred):\n",
    "    SS_res =  K.sum(K.square(y_true - y_pred)) \n",
    "    SS_tot = K.sum(K.square(y_true - K.mean(y_true))) \n",
    "    return ( 1 - SS_res/(SS_tot + K.epsilon()) )"
   ]
  },
  {
   "cell_type": "code",
   "execution_count": 866,
   "metadata": {
    "colab": {},
    "colab_type": "code",
    "id": "11sSSy0aQ3pD"
   },
   "outputs": [],
   "source": [
    "scaler = StandardScaler()\n",
    "scaler = MinMaxScaler()\n",
    "feature_data = scaler.fit_transform(feature_data)\n",
    "\n",
    "look_back = 12  # months\n",
    "horizon = 6     # months\n",
    "split_ratio = 0.7\n",
    "shuffle = True\n",
    "\n",
    "# Split into train and test sets\n",
    "train_size = int(len(feature_data) * split_ratio)\n",
    "test_size = len(feature_data) - train_size\n",
    "if test_size < (look_back+horizon):\n",
    "    raise ValueError('Split ratio too small. Increase test size!')"
   ]
  },
  {
   "cell_type": "markdown",
   "metadata": {},
   "source": [
    "### Long Short-Term Memory"
   ]
  },
  {
   "cell_type": "code",
   "execution_count": 867,
   "metadata": {},
   "outputs": [],
   "source": [
    "def train_lstm(trainX, trainY, testX,  testY, lock_back, horizon):\n",
    "    es = EarlyStopping(monitor='val_loss', mode='min', verbose=1, patience=100, restore_best_weights=True)\n",
    "    \n",
    "    model = Sequential(name='LSTM')    \n",
    "    model.add(InputLayer(input_shape=(look_back, trainX.shape[2])))\n",
    "    model.add(LSTM(256, return_sequences=True, name=\"LSTM_1\"))\n",
    "    model.add(BatchNormalization())\n",
    "    model.add(LSTM(128, return_sequences=True, name=\"LSTM_2\"))\n",
    "    model.add(BatchNormalization())\n",
    "    #model.add(LSTM(96, return_sequences=True, name=\"LSTM_3\"))\n",
    "    #model.add(BatchNormalization())\n",
    "    model.add(LSTM(64, return_sequences=False, name=\"LSTM_4\"))\n",
    "    model.add(BatchNormalization())\n",
    "    model.add(Dense(64, activation='relu', name=\"LSTM_Dense1\"))\n",
    "    #model.add(Dropout(0.2))\n",
    "    model.add(Dense(32, activation='relu', name=\"LSTM_Dense2\"))\n",
    "    #model.add(Dropout(0.2))\n",
    "    model.add(Dense(16, activation='relu', name=\"LSTM_Dense3\"))    \n",
    "    model.add(Dense(horizon,activation=\"linear\",name=\"LSTM_output\"))\n",
    "    \n",
    "    model.compile(loss='mean_squared_error', optimizer='adam', metrics=[r2_keras])\n",
    "    model.summary()\n",
    "    history = model.fit(trainX, trainY, validation_split=0.2, epochs=250, batch_size=8, verbose=1, callbacks=[es])\n",
    "    # Estimate model performance\n",
    "    trainScore = model.evaluate(trainX, trainY, verbose=1)\n",
    "    print('Train Score: %.2f MSE (%.2f RMSE)' % (trainScore[0], math.sqrt(trainScore[0])))\n",
    "    testScore = model.evaluate(testX, testY, verbose=1)\n",
    "    print('Test Score: %.2f MSE (%.2f RMSE)' % (testScore[0], math.sqrt(testScore[0])))\n",
    "\n",
    "    # Generate predictions for training\n",
    "    trainPredict = model.predict(trainX)\n",
    "    testPredict = model.predict(testX)\n",
    "\n",
    "    return model, trainPredict, testPredict"
   ]
  },
  {
   "cell_type": "markdown",
   "metadata": {},
   "source": [
    "### Convolutional Neural Network "
   ]
  },
  {
   "cell_type": "code",
   "execution_count": 868,
   "metadata": {},
   "outputs": [],
   "source": [
    "def train_cnn(trainX, trainY, testX,  testY, lock_back, horizon):\n",
    "    es = EarlyStopping(monitor='val_loss', mode='min', verbose=1, patience=25, restore_best_weights=True)\n",
    "    \n",
    "    model = Sequential(name='CNN') \n",
    "    model.add(InputLayer(input_shape=(look_back, trainX.shape[2])))\n",
    "    model.add(Conv1D(filters=128, kernel_size=5, activation='elu', name=\"Conv_1\"))\n",
    "    #model.add(MaxPooling1D(pool_size=2, name='MaxPool_1'))\n",
    "    model.add(BatchNormalization())\n",
    "    model.add(Conv1D(filters=64, kernel_size=3, activation='elu', name=\"Conv_2\"))\n",
    "    #model.add(MaxPooling1D(pool_size=2, name='MaxPool_2'))\n",
    "    model.add(BatchNormalization())\n",
    "    model.add(Conv1D(filters=32, kernel_size=2, activation='relu', name=\"Conv_3\"))\n",
    "    #model.add(MaxPooling1D(pool_size=2, name='MaxPool_3'))\n",
    "    model.add(BatchNormalization())\n",
    "    model.add(Flatten())    \n",
    "    #model.add(Dropout(0.2))\n",
    "    model.add(Dense(16, activation='elu', name='Dense_1'))\n",
    "    #model.add(Dense(8, activation='elu', name='Dense_2'))\n",
    "    model.add(Dense(horizon, activation='linear', name=\"CNN_output\"))\n",
    "    \n",
    "    model.compile(loss='mean_squared_error', optimizer='adam', metrics=[r2_keras])\n",
    "    model.summary()\n",
    "    model.fit(trainX, trainY, validation_split=0.2, epochs=250, batch_size=8, verbose=1, callbacks=[es])\n",
    "    # Estimate model performance\n",
    "    trainScore = model.evaluate(trainX, trainY, verbose=0)\n",
    "    print('Train Score: %.2f MSE (%.2f RMSE)' % (trainScore[0], math.sqrt(trainScore[0])))\n",
    "    testScore = model.evaluate(testX, testY, verbose=0)\n",
    "    print('Test Score: %.2f MSE (%.2f RMSE)' % (testScore[0], math.sqrt(testScore[0])))\n",
    "\n",
    "    # Generate predictions for training\n",
    "    trainPredict = model.predict(trainX)\n",
    "    testPredict = model.predict(testX)\n",
    "\n",
    "    return model, trainPredict, testPredict"
   ]
  },
  {
   "cell_type": "code",
   "execution_count": 869,
   "metadata": {
    "colab": {},
    "colab_type": "code",
    "id": "s88tS5soly1n"
   },
   "outputs": [],
   "source": [
    "# Features as input\n",
    "trainX, trainY = sliding_window(feature_data[0:train_size,:],\n",
    "                                emission_data[0:train_size],\n",
    "                                look_back,\n",
    "                                horizon)\n",
    "testX, testY = sliding_window(feature_data[train_size:len(feature_data),:],\n",
    "                              emission_data[train_size:len(emission_data)],\n",
    "                              look_back,\n",
    "                              horizon)"
   ]
  },
  {
   "cell_type": "code",
   "execution_count": 870,
   "metadata": {
    "colab": {
     "base_uri": "https://localhost:8080/",
     "height": 104
    },
    "colab_type": "code",
    "id": "NYIyKo0etM9u",
    "outputId": "4035e0de-d88d-4e37-c035-0fb051dd9b1c"
   },
   "outputs": [
    {
     "name": "stdout",
     "output_type": "stream",
     "text": [
      "Shape of data:\n",
      "(59, 12, 40)\n",
      "(59, 6)\n",
      "(16, 12, 40)\n",
      "(16, 6)\n"
     ]
    }
   ],
   "source": [
    "print(\"Shape of data:\")\n",
    "print(trainX.shape)\n",
    "print(trainY.shape)\n",
    "print(testX.shape)\n",
    "print(testY.shape)"
   ]
  },
  {
   "cell_type": "markdown",
   "metadata": {
    "colab_type": "text",
    "id": "a2J5EuMttN83"
   },
   "source": [
    "### Train Model"
   ]
  },
  {
   "cell_type": "code",
   "execution_count": 871,
   "metadata": {},
   "outputs": [
    {
     "data": {
      "text/plain": [
       "[28, 25, 26, 0, 31, 37, 33, 18, 16, 13, 27, 38, 6, 1, 8]"
      ]
     },
     "execution_count": 871,
     "metadata": {},
     "output_type": "execute_result"
    }
   ],
   "source": [
    "#Varying number of features\n",
    "\n",
    "num_of_feats = 15\n",
    "random_list = []\n",
    "\n",
    "for i in range(num_of_feats):\n",
    "        value = random.randint(0, 39)\n",
    "        \n",
    "        while value in random_list:\n",
    "            value = random.randint(0, 39)\n",
    "            \n",
    "        random_list.append(value)        \n",
    "        \n",
    "random_list"
   ]
  },
  {
   "cell_type": "code",
   "execution_count": 872,
   "metadata": {},
   "outputs": [
    {
     "name": "stdout",
     "output_type": "stream",
     "text": [
      "(59, 12, 15)\n",
      "(16, 12, 15)\n"
     ]
    }
   ],
   "source": [
    "trainX = trainX[:, :, random_list]\n",
    "print(trainX.shape)\n",
    "testX = testX[:, :, random_list]\n",
    "print(testX.shape)"
   ]
  },
  {
   "cell_type": "code",
   "execution_count": 873,
   "metadata": {
    "colab": {
     "base_uri": "https://localhost:8080/",
     "height": 1000
    },
    "colab_type": "code",
    "id": "NWAYXAyKtWeD",
    "outputId": "01a4db26-a030-48a0-9626-e0f48ae909c3"
   },
   "outputs": [
    {
     "name": "stdout",
     "output_type": "stream",
     "text": [
      "Model: \"CNN\"\n",
      "_________________________________________________________________\n",
      "Layer (type)                 Output Shape              Param #   \n",
      "=================================================================\n",
      "Conv_1 (Conv1D)              (None, 8, 128)            9728      \n",
      "_________________________________________________________________\n",
      "batch_normalization_164 (Bat (None, 8, 128)            512       \n",
      "_________________________________________________________________\n",
      "Conv_2 (Conv1D)              (None, 6, 64)             24640     \n",
      "_________________________________________________________________\n",
      "batch_normalization_165 (Bat (None, 6, 64)             256       \n",
      "_________________________________________________________________\n",
      "Conv_3 (Conv1D)              (None, 5, 32)             4128      \n",
      "_________________________________________________________________\n",
      "batch_normalization_166 (Bat (None, 5, 32)             128       \n",
      "_________________________________________________________________\n",
      "flatten_58 (Flatten)         (None, 160)               0         \n",
      "_________________________________________________________________\n",
      "Dense_1 (Dense)              (None, 16)                2576      \n",
      "_________________________________________________________________\n",
      "CNN_output (Dense)           (None, 6)                 102       \n",
      "=================================================================\n",
      "Total params: 42,070\n",
      "Trainable params: 41,622\n",
      "Non-trainable params: 448\n",
      "_________________________________________________________________\n",
      "Train on 47 samples, validate on 12 samples\n",
      "Epoch 1/250\n",
      "47/47 [==============================] - 0s 10ms/step - loss: 4821.5169 - r2_keras: -186.5004 - val_loss: 4740.3571 - val_r2_keras: -217.8186\n",
      "Epoch 2/250\n",
      "47/47 [==============================] - 0s 511us/step - loss: 4763.2401 - r2_keras: -183.6438 - val_loss: 4738.9876 - val_r2_keras: -217.7512\n",
      "Epoch 3/250\n",
      "47/47 [==============================] - 0s 681us/step - loss: 4734.7501 - r2_keras: -199.7299 - val_loss: 4740.5920 - val_r2_keras: -217.7853\n",
      "Epoch 4/250\n",
      "47/47 [==============================] - 0s 681us/step - loss: 4709.6937 - r2_keras: -179.1862 - val_loss: 4744.0334 - val_r2_keras: -217.9428\n",
      "Epoch 5/250\n",
      "47/47 [==============================] - 0s 511us/step - loss: 4683.7504 - r2_keras: -189.7863 - val_loss: 4747.0641 - val_r2_keras: -218.0900\n",
      "Epoch 6/250\n",
      "47/47 [==============================] - 0s 511us/step - loss: 4648.7123 - r2_keras: -178.2535 - val_loss: 4736.7233 - val_r2_keras: -217.6635\n",
      "Epoch 7/250\n",
      "47/47 [==============================] - 0s 484us/step - loss: 4611.8750 - r2_keras: -175.5216 - val_loss: 4715.4608 - val_r2_keras: -216.7922\n",
      "Epoch 8/250\n",
      "47/47 [==============================] - 0s 681us/step - loss: 4570.3263 - r2_keras: -181.9321 - val_loss: 4675.7786 - val_r2_keras: -215.1151\n",
      "Epoch 9/250\n",
      "47/47 [==============================] - 0s 510us/step - loss: 4526.1191 - r2_keras: -171.4207 - val_loss: 4606.7591 - val_r2_keras: -212.2390\n",
      "Epoch 10/250\n",
      "47/47 [==============================] - 0s 681us/step - loss: 4464.0704 - r2_keras: -168.8284 - val_loss: 4541.9854 - val_r2_keras: -209.3684\n",
      "Epoch 11/250\n",
      "47/47 [==============================] - 0s 511us/step - loss: 4423.1310 - r2_keras: -195.6799 - val_loss: 4473.0732 - val_r2_keras: -206.3351\n",
      "Epoch 12/250\n",
      "47/47 [==============================] - 0s 546us/step - loss: 4324.0119 - r2_keras: -166.9277 - val_loss: 4422.5788 - val_r2_keras: -203.9669\n",
      "Epoch 13/250\n",
      "47/47 [==============================] - 0s 511us/step - loss: 4233.1679 - r2_keras: -157.4457 - val_loss: 4320.5962 - val_r2_keras: -199.4219\n",
      "Epoch 14/250\n",
      "47/47 [==============================] - 0s 511us/step - loss: 4133.7121 - r2_keras: -158.9496 - val_loss: 4236.4834 - val_r2_keras: -195.5802\n",
      "Epoch 15/250\n",
      "47/47 [==============================] - 0s 511us/step - loss: 4029.2138 - r2_keras: -158.4079 - val_loss: 4161.9021 - val_r2_keras: -192.4148\n",
      "Epoch 16/250\n",
      "47/47 [==============================] - 0s 340us/step - loss: 3929.1775 - r2_keras: -148.1114 - val_loss: 4108.8175 - val_r2_keras: -189.9856\n",
      "Epoch 17/250\n",
      "47/47 [==============================] - 0s 510us/step - loss: 3811.7064 - r2_keras: -148.4137 - val_loss: 3952.9178 - val_r2_keras: -183.1316\n",
      "Epoch 18/250\n",
      "47/47 [==============================] - 0s 539us/step - loss: 3658.6977 - r2_keras: -140.5796 - val_loss: 3804.1693 - val_r2_keras: -176.2621\n",
      "Epoch 19/250\n",
      "47/47 [==============================] - 0s 511us/step - loss: 3524.1826 - r2_keras: -128.6999 - val_loss: 3678.0765 - val_r2_keras: -170.6671\n",
      "Epoch 20/250\n",
      "47/47 [==============================] - 0s 511us/step - loss: 3388.4500 - r2_keras: -130.7747 - val_loss: 3527.5277 - val_r2_keras: -164.3379\n",
      "Epoch 21/250\n",
      "47/47 [==============================] - 0s 511us/step - loss: 3254.2334 - r2_keras: -126.0765 - val_loss: 3411.5958 - val_r2_keras: -159.9468\n",
      "Epoch 22/250\n",
      "47/47 [==============================] - 0s 511us/step - loss: 3149.2944 - r2_keras: -127.5706 - val_loss: 3302.0053 - val_r2_keras: -155.8154\n",
      "Epoch 23/250\n",
      "47/47 [==============================] - 0s 511us/step - loss: 2968.0969 - r2_keras: -119.1890 - val_loss: 3145.2131 - val_r2_keras: -148.2576\n",
      "Epoch 24/250\n",
      "47/47 [==============================] - 0s 511us/step - loss: 2757.7002 - r2_keras: -105.2298 - val_loss: 2993.5924 - val_r2_keras: -141.9019\n",
      "Epoch 25/250\n",
      "47/47 [==============================] - 0s 432us/step - loss: 2602.0958 - r2_keras: -104.8351 - val_loss: 2704.4246 - val_r2_keras: -128.6422\n",
      "Epoch 26/250\n",
      "47/47 [==============================] - 0s 373us/step - loss: 2418.8756 - r2_keras: -92.0975 - val_loss: 2549.9343 - val_r2_keras: -121.1968\n",
      "Epoch 27/250\n",
      "47/47 [==============================] - 0s 447us/step - loss: 2267.0022 - r2_keras: -85.9461 - val_loss: 2443.9364 - val_r2_keras: -116.4296\n",
      "Epoch 28/250\n",
      "47/47 [==============================] - 0s 394us/step - loss: 2133.6827 - r2_keras: -90.0664 - val_loss: 2338.0704 - val_r2_keras: -112.0165\n",
      "Epoch 29/250\n",
      "47/47 [==============================] - 0s 434us/step - loss: 1940.0682 - r2_keras: -73.5159 - val_loss: 2284.8904 - val_r2_keras: -109.7495\n",
      "Epoch 30/250\n",
      "47/47 [==============================] - 0s 318us/step - loss: 1789.4511 - r2_keras: -65.1984 - val_loss: 2133.5193 - val_r2_keras: -104.1241\n",
      "Epoch 31/250\n",
      "47/47 [==============================] - 0s 511us/step - loss: 1631.0223 - r2_keras: -64.6355 - val_loss: 1934.2744 - val_r2_keras: -94.6687\n",
      "Epoch 32/250\n",
      "47/47 [==============================] - 0s 511us/step - loss: 1498.9379 - r2_keras: -55.2042 - val_loss: 1832.7216 - val_r2_keras: -88.5709\n",
      "Epoch 33/250\n",
      "47/47 [==============================] - 0s 440us/step - loss: 1391.6362 - r2_keras: -52.5487 - val_loss: 1698.2057 - val_r2_keras: -82.1565\n",
      "Epoch 34/250\n",
      "47/47 [==============================] - 0s 422us/step - loss: 1243.4309 - r2_keras: -49.8115 - val_loss: 1522.6247 - val_r2_keras: -74.3286\n",
      "Epoch 35/250\n",
      "47/47 [==============================] - 0s 511us/step - loss: 1131.0918 - r2_keras: -42.9382 - val_loss: 1446.6301 - val_r2_keras: -70.9466\n",
      "Epoch 36/250\n",
      "47/47 [==============================] - 0s 340us/step - loss: 1064.0148 - r2_keras: -41.0820 - val_loss: 1407.0654 - val_r2_keras: -69.9881\n",
      "Epoch 37/250\n",
      "47/47 [==============================] - 0s 247us/step - loss: 952.5738 - r2_keras: -36.8422 - val_loss: 1272.7084 - val_r2_keras: -64.6299\n",
      "Epoch 38/250\n",
      "47/47 [==============================] - 0s 373us/step - loss: 867.1119 - r2_keras: -32.9443 - val_loss: 1200.2169 - val_r2_keras: -61.5309\n",
      "Epoch 39/250\n",
      "47/47 [==============================] - 0s 340us/step - loss: 794.5653 - r2_keras: -32.0088 - val_loss: 1118.5834 - val_r2_keras: -58.2886\n",
      "Epoch 40/250\n",
      "47/47 [==============================] - 0s 511us/step - loss: 699.0108 - r2_keras: -25.3776 - val_loss: 1018.8245 - val_r2_keras: -53.5412\n",
      "Epoch 41/250\n",
      "47/47 [==============================] - 0s 410us/step - loss: 629.8604 - r2_keras: -23.1649 - val_loss: 992.0859 - val_r2_keras: -51.2297\n",
      "Epoch 42/250\n",
      "47/47 [==============================] - 0s 511us/step - loss: 568.8745 - r2_keras: -20.8883 - val_loss: 926.7095 - val_r2_keras: -47.9230\n",
      "Epoch 43/250\n",
      "47/47 [==============================] - 0s 511us/step - loss: 517.6827 - r2_keras: -18.4428 - val_loss: 862.2756 - val_r2_keras: -44.7174\n"
     ]
    },
    {
     "name": "stdout",
     "output_type": "stream",
     "text": [
      "Epoch 44/250\n",
      "47/47 [==============================] - 0s 467us/step - loss: 469.8069 - r2_keras: -17.0921 - val_loss: 809.6077 - val_r2_keras: -42.0460\n",
      "Epoch 45/250\n",
      "47/47 [==============================] - 0s 410us/step - loss: 467.9161 - r2_keras: -18.9533 - val_loss: 714.9394 - val_r2_keras: -36.9756\n",
      "Epoch 46/250\n",
      "47/47 [==============================] - 0s 511us/step - loss: 401.0523 - r2_keras: -14.7860 - val_loss: 651.8838 - val_r2_keras: -33.4895\n",
      "Epoch 47/250\n",
      "47/47 [==============================] - 0s 302us/step - loss: 389.9196 - r2_keras: -14.2326 - val_loss: 652.7164 - val_r2_keras: -33.0704\n",
      "Epoch 48/250\n",
      "47/47 [==============================] - 0s 340us/step - loss: 344.1077 - r2_keras: -12.1678 - val_loss: 613.4447 - val_r2_keras: -30.4195\n",
      "Epoch 49/250\n",
      "47/47 [==============================] - 0s 511us/step - loss: 292.2708 - r2_keras: -9.9886 - val_loss: 541.3457 - val_r2_keras: -26.7576\n",
      "Epoch 50/250\n",
      "47/47 [==============================] - 0s 373us/step - loss: 301.4284 - r2_keras: -11.6814 - val_loss: 486.1628 - val_r2_keras: -24.7770\n",
      "Epoch 51/250\n",
      "47/47 [==============================] - 0s 340us/step - loss: 276.1046 - r2_keras: -9.5524 - val_loss: 456.7505 - val_r2_keras: -24.0814\n",
      "Epoch 52/250\n",
      "47/47 [==============================] - 0s 511us/step - loss: 239.1684 - r2_keras: -8.3120 - val_loss: 442.5933 - val_r2_keras: -23.5267\n",
      "Epoch 53/250\n",
      "47/47 [==============================] - 0s 511us/step - loss: 248.3948 - r2_keras: -8.9496 - val_loss: 395.7896 - val_r2_keras: -20.8695\n",
      "Epoch 54/250\n",
      "47/47 [==============================] - 0s 280us/step - loss: 221.9996 - r2_keras: -7.8385 - val_loss: 360.5427 - val_r2_keras: -18.3229\n",
      "Epoch 55/250\n",
      "47/47 [==============================] - 0s 251us/step - loss: 187.7100 - r2_keras: -6.0530 - val_loss: 353.4837 - val_r2_keras: -17.2951\n",
      "Epoch 56/250\n",
      "47/47 [==============================] - 0s 340us/step - loss: 169.6845 - r2_keras: -5.3173 - val_loss: 320.2311 - val_r2_keras: -15.3842\n",
      "Epoch 57/250\n",
      "47/47 [==============================] - 0s 340us/step - loss: 165.8767 - r2_keras: -5.2227 - val_loss: 284.4193 - val_r2_keras: -13.5652\n",
      "Epoch 58/250\n",
      "47/47 [==============================] - 0s 511us/step - loss: 167.4709 - r2_keras: -5.4635 - val_loss: 273.5755 - val_r2_keras: -13.2513\n",
      "Epoch 59/250\n",
      "47/47 [==============================] - 0s 340us/step - loss: 146.1781 - r2_keras: -4.5241 - val_loss: 275.6098 - val_r2_keras: -13.3640\n",
      "Epoch 60/250\n",
      "47/47 [==============================] - 0s 340us/step - loss: 136.6848 - r2_keras: -4.0964 - val_loss: 252.7345 - val_r2_keras: -12.0990\n",
      "Epoch 61/250\n",
      "47/47 [==============================] - 0s 511us/step - loss: 132.0828 - r2_keras: -3.8838 - val_loss: 226.2209 - val_r2_keras: -10.8332\n",
      "Epoch 62/250\n",
      "47/47 [==============================] - 0s 340us/step - loss: 136.3003 - r2_keras: -4.4605 - val_loss: 206.0130 - val_r2_keras: -9.8289\n",
      "Epoch 63/250\n",
      "47/47 [==============================] - 0s 342us/step - loss: 119.9137 - r2_keras: -3.7115 - val_loss: 185.5212 - val_r2_keras: -8.8389\n",
      "Epoch 64/250\n",
      "47/47 [==============================] - 0s 448us/step - loss: 104.4632 - r2_keras: -3.0580 - val_loss: 180.9710 - val_r2_keras: -8.3329\n",
      "Epoch 65/250\n",
      "47/47 [==============================] - 0s 384us/step - loss: 93.2384 - r2_keras: -2.5477 - val_loss: 184.3766 - val_r2_keras: -8.2148\n",
      "Epoch 66/250\n",
      "47/47 [==============================] - 0s 404us/step - loss: 90.9905 - r2_keras: -2.7004 - val_loss: 165.0043 - val_r2_keras: -7.1807\n",
      "Epoch 67/250\n",
      "47/47 [==============================] - 0s 403us/step - loss: 94.7467 - r2_keras: -2.7244 - val_loss: 146.0586 - val_r2_keras: -6.2959\n",
      "Epoch 68/250\n",
      "47/47 [==============================] - 0s 340us/step - loss: 77.3895 - r2_keras: -1.9266 - val_loss: 152.8348 - val_r2_keras: -6.3982\n",
      "Epoch 69/250\n",
      "47/47 [==============================] - 0s 340us/step - loss: 65.9165 - r2_keras: -1.5198 - val_loss: 135.1813 - val_r2_keras: -5.6685\n",
      "Epoch 70/250\n",
      "47/47 [==============================] - 0s 340us/step - loss: 68.5167 - r2_keras: -1.6292 - val_loss: 120.5127 - val_r2_keras: -4.8833\n",
      "Epoch 71/250\n",
      "47/47 [==============================] - 0s 340us/step - loss: 81.7630 - r2_keras: -2.2481 - val_loss: 121.5311 - val_r2_keras: -4.8136\n",
      "Epoch 72/250\n",
      "47/47 [==============================] - 0s 576us/step - loss: 60.5124 - r2_keras: -1.3692 - val_loss: 109.5891 - val_r2_keras: -4.2494\n",
      "Epoch 73/250\n",
      "47/47 [==============================] - 0s 341us/step - loss: 56.0144 - r2_keras: -1.2401 - val_loss: 87.8912 - val_r2_keras: -3.4155\n",
      "Epoch 74/250\n",
      "47/47 [==============================] - 0s 229us/step - loss: 55.8666 - r2_keras: -1.1993 - val_loss: 85.8269 - val_r2_keras: -3.2642\n",
      "Epoch 75/250\n",
      "47/47 [==============================] - 0s 292us/step - loss: 45.5745 - r2_keras: -0.7531 - val_loss: 97.9650 - val_r2_keras: -3.5902\n",
      "Epoch 76/250\n",
      "47/47 [==============================] - 0s 340us/step - loss: 49.6745 - r2_keras: -0.9144 - val_loss: 81.9045 - val_r2_keras: -3.0538\n",
      "Epoch 77/250\n",
      "47/47 [==============================] - 0s 404us/step - loss: 44.8658 - r2_keras: -0.6984 - val_loss: 68.0660 - val_r2_keras: -2.5057\n",
      "Epoch 78/250\n",
      "47/47 [==============================] - 0s 302us/step - loss: 43.9423 - r2_keras: -0.7669 - val_loss: 64.6900 - val_r2_keras: -2.2052\n",
      "Epoch 79/250\n",
      "47/47 [==============================] - 0s 341us/step - loss: 38.4303 - r2_keras: -0.5067 - val_loss: 64.0124 - val_r2_keras: -2.1761\n",
      "Epoch 80/250\n",
      "47/47 [==============================] - 0s 340us/step - loss: 38.0985 - r2_keras: -0.4784 - val_loss: 62.1061 - val_r2_keras: -2.0632\n",
      "Epoch 81/250\n",
      "47/47 [==============================] - 0s 511us/step - loss: 57.6803 - r2_keras: -1.6454 - val_loss: 65.3697 - val_r2_keras: -2.2158\n",
      "Epoch 82/250\n",
      "47/47 [==============================] - 0s 511us/step - loss: 35.0806 - r2_keras: -0.4263 - val_loss: 67.2012 - val_r2_keras: -2.1730\n",
      "Epoch 83/250\n",
      "47/47 [==============================] - 0s 340us/step - loss: 45.3752 - r2_keras: -0.8483 - val_loss: 55.1116 - val_r2_keras: -1.6318\n",
      "Epoch 84/250\n",
      "47/47 [==============================] - 0s 340us/step - loss: 43.2296 - r2_keras: -1.0923 - val_loss: 48.7047 - val_r2_keras: -1.3477\n",
      "Epoch 85/250\n",
      "47/47 [==============================] - 0s 341us/step - loss: 33.9589 - r2_keras: -0.2551 - val_loss: 51.1019 - val_r2_keras: -1.3387\n",
      "Epoch 86/250\n",
      "47/47 [==============================] - 0s 269us/step - loss: 34.6716 - r2_keras: -0.3748 - val_loss: 58.9714 - val_r2_keras: -1.5263\n",
      "Epoch 87/250\n",
      "47/47 [==============================] - 0s 367us/step - loss: 35.9057 - r2_keras: -0.5653 - val_loss: 51.9107 - val_r2_keras: -1.3477\n",
      "Epoch 88/250\n",
      "47/47 [==============================] - 0s 511us/step - loss: 41.2682 - r2_keras: -0.7093 - val_loss: 54.4581 - val_r2_keras: -1.3647\n",
      "Epoch 89/250\n",
      "47/47 [==============================] - 0s 363us/step - loss: 31.6656 - r2_keras: -0.3348 - val_loss: 56.6042 - val_r2_keras: -1.2681\n",
      "Epoch 90/250\n",
      "47/47 [==============================] - 0s 340us/step - loss: 33.6133 - r2_keras: -0.4118 - val_loss: 46.9598 - val_r2_keras: -0.9655\n",
      "Epoch 91/250\n",
      "47/47 [==============================] - 0s 340us/step - loss: 27.0624 - r2_keras: -0.0253 - val_loss: 38.3374 - val_r2_keras: -0.7885\n",
      "Epoch 92/250\n",
      "47/47 [==============================] - 0s 511us/step - loss: 33.9141 - r2_keras: -0.3320 - val_loss: 53.9915 - val_r2_keras: -1.2593\n",
      "Epoch 93/250\n",
      "47/47 [==============================] - 0s 340us/step - loss: 27.0100 - r2_keras: 6.9303e-04 - val_loss: 59.6664 - val_r2_keras: -1.4182\n",
      "Epoch 94/250\n",
      "47/47 [==============================] - 0s 398us/step - loss: 25.6072 - r2_keras: 0.0436 - val_loss: 40.0883 - val_r2_keras: -0.7492\n",
      "Epoch 95/250\n",
      "47/47 [==============================] - 0s 341us/step - loss: 29.0742 - r2_keras: -0.1972 - val_loss: 42.3762 - val_r2_keras: -0.8663\n",
      "Epoch 96/250\n",
      "47/47 [==============================] - 0s 558us/step - loss: 31.1256 - r2_keras: -0.2098 - val_loss: 45.2414 - val_r2_keras: -0.8884\n",
      "Epoch 97/250\n",
      "47/47 [==============================] - 0s 340us/step - loss: 25.0476 - r2_keras: -0.0091 - val_loss: 37.5717 - val_r2_keras: -0.6086\n",
      "Epoch 98/250\n",
      "47/47 [==============================] - 0s 197us/step - loss: 20.1455 - r2_keras: 0.1970 - val_loss: 25.1290 - val_r2_keras: -0.1749\n"
     ]
    },
    {
     "name": "stdout",
     "output_type": "stream",
     "text": [
      "Epoch 99/250\n",
      "47/47 [==============================] - 0s 441us/step - loss: 21.7460 - r2_keras: 0.1913 - val_loss: 30.9900 - val_r2_keras: -0.3956\n",
      "Epoch 100/250\n",
      "47/47 [==============================] - 0s 270us/step - loss: 19.9109 - r2_keras: 0.2345 - val_loss: 22.5816 - val_r2_keras: -0.0373\n",
      "Epoch 101/250\n",
      "47/47 [==============================] - 0s 277us/step - loss: 24.0209 - r2_keras: 0.0747 - val_loss: 22.9998 - val_r2_keras: -0.0550\n",
      "Epoch 102/250\n",
      "47/47 [==============================] - 0s 340us/step - loss: 16.9942 - r2_keras: 0.3623 - val_loss: 29.5854 - val_r2_keras: -0.3076\n",
      "Epoch 103/250\n",
      "47/47 [==============================] - 0s 391us/step - loss: 15.8620 - r2_keras: 0.3947 - val_loss: 39.9590 - val_r2_keras: -0.7374\n",
      "Epoch 104/250\n",
      "47/47 [==============================] - 0s 516us/step - loss: 20.2031 - r2_keras: 0.2384 - val_loss: 36.1025 - val_r2_keras: -0.6553\n",
      "Epoch 105/250\n",
      "47/47 [==============================] - 0s 340us/step - loss: 23.1407 - r2_keras: 0.0625 - val_loss: 38.0285 - val_r2_keras: -0.7112\n",
      "Epoch 106/250\n",
      "47/47 [==============================] - 0s 382us/step - loss: 20.1849 - r2_keras: 0.2154 - val_loss: 37.5318 - val_r2_keras: -0.8033\n",
      "Epoch 107/250\n",
      "47/47 [==============================] - 0s 341us/step - loss: 13.7936 - r2_keras: 0.4859 - val_loss: 41.7460 - val_r2_keras: -1.1104\n",
      "Epoch 108/250\n",
      "47/47 [==============================] - 0s 340us/step - loss: 19.4256 - r2_keras: 0.2537 - val_loss: 52.1373 - val_r2_keras: -1.4505\n",
      "Epoch 109/250\n",
      "47/47 [==============================] - 0s 340us/step - loss: 16.3666 - r2_keras: 0.3831 - val_loss: 34.9950 - val_r2_keras: -0.7748\n",
      "Epoch 110/250\n",
      "47/47 [==============================] - 0s 340us/step - loss: 20.0012 - r2_keras: 0.1904 - val_loss: 30.8708 - val_r2_keras: -0.5078\n",
      "Epoch 111/250\n",
      "47/47 [==============================] - 0s 343us/step - loss: 15.9354 - r2_keras: 0.4251 - val_loss: 24.0583 - val_r2_keras: -0.1616\n",
      "Epoch 112/250\n",
      "47/47 [==============================] - 0s 511us/step - loss: 16.7524 - r2_keras: 0.3337 - val_loss: 30.2111 - val_r2_keras: -0.3782\n",
      "Epoch 113/250\n",
      "47/47 [==============================] - 0s 340us/step - loss: 18.1552 - r2_keras: 0.3041 - val_loss: 30.5901 - val_r2_keras: -0.4158\n",
      "Epoch 114/250\n",
      "47/47 [==============================] - 0s 340us/step - loss: 17.7392 - r2_keras: 0.3583 - val_loss: 38.2133 - val_r2_keras: -0.6832\n",
      "Epoch 115/250\n",
      "47/47 [==============================] - 0s 511us/step - loss: 13.4122 - r2_keras: 0.4844 - val_loss: 42.4332 - val_r2_keras: -0.8694\n",
      "Epoch 116/250\n",
      "47/47 [==============================] - 0s 511us/step - loss: 17.3863 - r2_keras: 0.3857 - val_loss: 42.4049 - val_r2_keras: -1.0261\n",
      "Epoch 117/250\n",
      "47/47 [==============================] - 0s 340us/step - loss: 17.2727 - r2_keras: 0.2993 - val_loss: 37.8255 - val_r2_keras: -0.8278\n",
      "Epoch 118/250\n",
      "47/47 [==============================] - 0s 511us/step - loss: 24.5968 - r2_keras: -0.0284 - val_loss: 31.9971 - val_r2_keras: -0.6592\n",
      "Epoch 119/250\n",
      "47/47 [==============================] - 0s 340us/step - loss: 16.5365 - r2_keras: 0.3055 - val_loss: 31.3198 - val_r2_keras: -0.4872\n",
      "Epoch 120/250\n",
      "47/47 [==============================] - 0s 340us/step - loss: 14.2993 - r2_keras: 0.4674 - val_loss: 21.4036 - val_r2_keras: -0.0259\n",
      "Epoch 121/250\n",
      "47/47 [==============================] - 0s 340us/step - loss: 12.0342 - r2_keras: 0.5372 - val_loss: 21.4213 - val_r2_keras: 0.0822\n",
      "Epoch 122/250\n",
      "47/47 [==============================] - 0s 511us/step - loss: 14.4919 - r2_keras: 0.4310 - val_loss: 21.6208 - val_r2_keras: 0.1085\n",
      "Epoch 123/250\n",
      "47/47 [==============================] - 0s 511us/step - loss: 15.4749 - r2_keras: 0.3762 - val_loss: 29.7843 - val_r2_keras: -0.1928\n",
      "Epoch 124/250\n",
      "47/47 [==============================] - 0s 340us/step - loss: 16.4397 - r2_keras: 0.3962 - val_loss: 18.0307 - val_r2_keras: 0.2506\n",
      "Epoch 125/250\n",
      "47/47 [==============================] - 0s 340us/step - loss: 27.1759 - r2_keras: -0.2340 - val_loss: 14.0103 - val_r2_keras: 0.4187\n",
      "Epoch 126/250\n",
      "47/47 [==============================] - 0s 511us/step - loss: 14.9176 - r2_keras: 0.4498 - val_loss: 18.2557 - val_r2_keras: 0.2381\n",
      "Epoch 127/250\n",
      "47/47 [==============================] - 0s 519us/step - loss: 17.3550 - r2_keras: 0.3074 - val_loss: 20.3313 - val_r2_keras: 0.1187\n",
      "Epoch 128/250\n",
      "47/47 [==============================] - 0s 344us/step - loss: 9.5220 - r2_keras: 0.6207 - val_loss: 30.2493 - val_r2_keras: -0.1795\n",
      "Epoch 129/250\n",
      "47/47 [==============================] - 0s 340us/step - loss: 22.7001 - r2_keras: 0.0823 - val_loss: 16.1741 - val_r2_keras: 0.3164\n",
      "Epoch 130/250\n",
      "47/47 [==============================] - 0s 543us/step - loss: 16.3777 - r2_keras: 0.3250 - val_loss: 21.1348 - val_r2_keras: 0.2376\n",
      "Epoch 131/250\n",
      "47/47 [==============================] - 0s 406us/step - loss: 21.8943 - r2_keras: 0.1149 - val_loss: 15.3201 - val_r2_keras: 0.3538\n",
      "Epoch 132/250\n",
      "47/47 [==============================] - 0s 341us/step - loss: 15.0554 - r2_keras: 0.4003 - val_loss: 16.5474 - val_r2_keras: 0.2658\n",
      "Epoch 133/250\n",
      "47/47 [==============================] - 0s 340us/step - loss: 18.0123 - r2_keras: 0.1192 - val_loss: 15.4265 - val_r2_keras: 0.3009\n",
      "Epoch 134/250\n",
      "47/47 [==============================] - 0s 511us/step - loss: 8.9941 - r2_keras: 0.6636 - val_loss: 13.3609 - val_r2_keras: 0.4803\n",
      "Epoch 135/250\n",
      "47/47 [==============================] - 0s 511us/step - loss: 16.1995 - r2_keras: 0.3811 - val_loss: 12.4596 - val_r2_keras: 0.5123\n",
      "Epoch 136/250\n",
      "47/47 [==============================] - 0s 491us/step - loss: 14.9284 - r2_keras: 0.3158 - val_loss: 25.4053 - val_r2_keras: 0.0119\n",
      "Epoch 137/250\n",
      "47/47 [==============================] - 0s 511us/step - loss: 10.6457 - r2_keras: 0.5983 - val_loss: 25.9183 - val_r2_keras: 0.0720\n",
      "Epoch 138/250\n",
      "47/47 [==============================] - 0s 340us/step - loss: 12.1197 - r2_keras: 0.5310 - val_loss: 8.0755 - val_r2_keras: 0.6631\n",
      "Epoch 139/250\n",
      "47/47 [==============================] - 0s 340us/step - loss: 14.7210 - r2_keras: 0.4148 - val_loss: 12.4036 - val_r2_keras: 0.5359\n",
      "Epoch 140/250\n",
      "47/47 [==============================] - 0s 511us/step - loss: 8.1254 - r2_keras: 0.6893 - val_loss: 16.3464 - val_r2_keras: 0.3759\n",
      "Epoch 141/250\n",
      "47/47 [==============================] - 0s 511us/step - loss: 10.8317 - r2_keras: 0.5736 - val_loss: 27.1806 - val_r2_keras: -0.0404\n",
      "Epoch 142/250\n",
      "47/47 [==============================] - 0s 340us/step - loss: 12.8606 - r2_keras: 0.4692 - val_loss: 34.9901 - val_r2_keras: -0.3698\n",
      "Epoch 143/250\n",
      "47/47 [==============================] - 0s 511us/step - loss: 7.6384 - r2_keras: 0.6587 - val_loss: 27.0437 - val_r2_keras: -0.1137\n",
      "Epoch 144/250\n",
      "47/47 [==============================] - 0s 511us/step - loss: 8.9005 - r2_keras: 0.6604 - val_loss: 26.0587 - val_r2_keras: -0.0730\n",
      "Epoch 145/250\n",
      "47/47 [==============================] - 0s 340us/step - loss: 10.4843 - r2_keras: 0.5855 - val_loss: 30.4642 - val_r2_keras: -0.3007\n",
      "Epoch 146/250\n",
      "47/47 [==============================] - 0s 340us/step - loss: 13.1063 - r2_keras: 0.4859 - val_loss: 24.2119 - val_r2_keras: -0.0809\n",
      "Epoch 147/250\n",
      "47/47 [==============================] - 0s 511us/step - loss: 10.3557 - r2_keras: 0.6000 - val_loss: 14.9193 - val_r2_keras: 0.2354\n",
      "Epoch 148/250\n",
      "47/47 [==============================] - 0s 340us/step - loss: 7.1730 - r2_keras: 0.7244 - val_loss: 19.9394 - val_r2_keras: 0.0867\n",
      "Epoch 149/250\n",
      "47/47 [==============================] - 0s 340us/step - loss: 5.8076 - r2_keras: 0.7706 - val_loss: 14.8542 - val_r2_keras: 0.2729\n",
      "Epoch 150/250\n",
      "47/47 [==============================] - 0s 340us/step - loss: 10.3959 - r2_keras: 0.5988 - val_loss: 13.3572 - val_r2_keras: 0.3254\n",
      "Epoch 151/250\n",
      "47/47 [==============================] - 0s 511us/step - loss: 20.6308 - r2_keras: 0.0372 - val_loss: 17.0900 - val_r2_keras: 0.3011\n",
      "Epoch 152/250\n",
      "47/47 [==============================] - 0s 340us/step - loss: 13.4314 - r2_keras: 0.4625 - val_loss: 11.1570 - val_r2_keras: 0.4847\n",
      "Epoch 153/250\n",
      "47/47 [==============================] - 0s 340us/step - loss: 11.5302 - r2_keras: 0.5552 - val_loss: 11.1030 - val_r2_keras: 0.5235\n",
      "Epoch 154/250\n"
     ]
    },
    {
     "name": "stdout",
     "output_type": "stream",
     "text": [
      "47/47 [==============================] - 0s 518us/step - loss: 8.7314 - r2_keras: 0.6620 - val_loss: 11.4539 - val_r2_keras: 0.5177\n",
      "Epoch 155/250\n",
      "47/47 [==============================] - 0s 426us/step - loss: 10.8389 - r2_keras: 0.5778 - val_loss: 11.6396 - val_r2_keras: 0.4648\n",
      "Epoch 156/250\n",
      "47/47 [==============================] - 0s 341us/step - loss: 6.3760 - r2_keras: 0.7530 - val_loss: 7.4103 - val_r2_keras: 0.6862\n",
      "Epoch 157/250\n",
      "47/47 [==============================] - 0s 340us/step - loss: 9.5605 - r2_keras: 0.6192 - val_loss: 8.3920 - val_r2_keras: 0.6206\n",
      "Epoch 158/250\n",
      "47/47 [==============================] - 0s 511us/step - loss: 7.6368 - r2_keras: 0.7089 - val_loss: 6.9400 - val_r2_keras: 0.6807\n",
      "Epoch 159/250\n",
      "47/47 [==============================] - 0s 511us/step - loss: 10.8745 - r2_keras: 0.5703 - val_loss: 10.3260 - val_r2_keras: 0.5561\n",
      "Epoch 160/250\n",
      "47/47 [==============================] - 0s 429us/step - loss: 7.0933 - r2_keras: 0.7317 - val_loss: 9.4397 - val_r2_keras: 0.5946\n",
      "Epoch 161/250\n",
      "47/47 [==============================] - 0s 352us/step - loss: 11.3119 - r2_keras: 0.5826 - val_loss: 9.9173 - val_r2_keras: 0.5831\n",
      "Epoch 162/250\n",
      "47/47 [==============================] - 0s 511us/step - loss: 8.1756 - r2_keras: 0.6781 - val_loss: 8.4533 - val_r2_keras: 0.6708\n",
      "Epoch 163/250\n",
      "47/47 [==============================] - 0s 397us/step - loss: 7.7555 - r2_keras: 0.7054 - val_loss: 15.1124 - val_r2_keras: 0.4603\n",
      "Epoch 164/250\n",
      "47/47 [==============================] - 0s 394us/step - loss: 7.9497 - r2_keras: 0.6809 - val_loss: 9.6483 - val_r2_keras: 0.6265\n",
      "Epoch 165/250\n",
      "47/47 [==============================] - 0s 298us/step - loss: 5.3818 - r2_keras: 0.7976 - val_loss: 8.9892 - val_r2_keras: 0.6553\n",
      "Epoch 166/250\n",
      "47/47 [==============================] - 0s 341us/step - loss: 4.9288 - r2_keras: 0.8108 - val_loss: 9.5163 - val_r2_keras: 0.6362\n",
      "Epoch 167/250\n",
      "47/47 [==============================] - 0s 387us/step - loss: 8.8202 - r2_keras: 0.6484 - val_loss: 7.4358 - val_r2_keras: 0.7111\n",
      "Epoch 168/250\n",
      "47/47 [==============================] - 0s 352us/step - loss: 6.4493 - r2_keras: 0.7571 - val_loss: 9.1874 - val_r2_keras: 0.6503\n",
      "Epoch 169/250\n",
      "47/47 [==============================] - 0s 541us/step - loss: 7.8333 - r2_keras: 0.6838 - val_loss: 18.2644 - val_r2_keras: 0.3615\n",
      "Epoch 170/250\n",
      "47/47 [==============================] - 0s 354us/step - loss: 11.1063 - r2_keras: 0.5091 - val_loss: 8.3712 - val_r2_keras: 0.6909\n",
      "Epoch 171/250\n",
      "47/47 [==============================] - 0s 356us/step - loss: 5.1933 - r2_keras: 0.8056 - val_loss: 11.7367 - val_r2_keras: 0.5537\n",
      "Epoch 172/250\n",
      "47/47 [==============================] - 0s 534us/step - loss: 9.9652 - r2_keras: 0.5873 - val_loss: 10.4928 - val_r2_keras: 0.5345\n",
      "Epoch 173/250\n",
      "47/47 [==============================] - 0s 356us/step - loss: 5.2709 - r2_keras: 0.7981 - val_loss: 9.5537 - val_r2_keras: 0.6102\n",
      "Epoch 174/250\n",
      "47/47 [==============================] - 0s 356us/step - loss: 5.9454 - r2_keras: 0.7722 - val_loss: 17.0628 - val_r2_keras: 0.4135\n",
      "Epoch 175/250\n",
      "47/47 [==============================] - 0s 432us/step - loss: 6.6488 - r2_keras: 0.7516 - val_loss: 14.1669 - val_r2_keras: 0.5014\n",
      "Epoch 176/250\n",
      "47/47 [==============================] - 0s 465us/step - loss: 5.3661 - r2_keras: 0.7931 - val_loss: 20.1802 - val_r2_keras: 0.1959\n",
      "Epoch 177/250\n",
      "47/47 [==============================] - 0s 518us/step - loss: 5.8433 - r2_keras: 0.7731 - val_loss: 14.3943 - val_r2_keras: 0.4725\n",
      "Epoch 178/250\n",
      "47/47 [==============================] - 0s 355us/step - loss: 5.2237 - r2_keras: 0.8023 - val_loss: 16.8871 - val_r2_keras: 0.3982\n",
      "Epoch 179/250\n",
      "47/47 [==============================] - 0s 340us/step - loss: 6.2158 - r2_keras: 0.7584 - val_loss: 14.3600 - val_r2_keras: 0.4703\n",
      "Epoch 180/250\n",
      "47/47 [==============================] - 0s 511us/step - loss: 5.6458 - r2_keras: 0.7814 - val_loss: 28.2412 - val_r2_keras: 0.0186\n",
      "Epoch 181/250\n",
      "47/47 [==============================] - 0s 528us/step - loss: 8.3804 - r2_keras: 0.6834 - val_loss: 19.3967 - val_r2_keras: 0.3359\n",
      "Epoch 182/250\n",
      "47/47 [==============================] - 0s 433us/step - loss: 5.5484 - r2_keras: 0.7809 - val_loss: 11.2937 - val_r2_keras: 0.5754\n",
      "Epoch 183/250\n",
      "47/47 [==============================] - 0s 432us/step - loss: 12.4696 - r2_keras: 0.5354 - val_loss: 12.2552 - val_r2_keras: 0.5307\n",
      "Restoring model weights from the end of the best epoch\n",
      "Epoch 00183: early stopping\n",
      "Train Score: 5.60 MSE (2.37 RMSE)\n",
      "Test Score: 22.25 MSE (4.72 RMSE)\n"
     ]
    }
   ],
   "source": [
    "# Create and fit Multilayer Perceptron model for every indicator\n",
    "trainPredictPlot = np.empty_like(emission_data)\n",
    "trainPredictPlot[:] = np.nan\n",
    "testPredictPlot = np.empty_like(emission_data)\n",
    "testPredictPlot[:] = np.nan\n",
    "\n",
    "\n",
    "\n",
    "# Train model and generate predictions\n",
    "model, trainPredict, testPredict = train_cnn(trainX, trainY, testX, testY,\n",
    "                                               look_back, horizon)\n",
    "\n",
    "# Shift train predictions for plotting\n",
    "for t in range(len(trainPredict)):\n",
    "    trainPredictPlot[t+look_back:t+look_back+horizon] = trainPredict[t, :]\n",
    "for t in range(len(testPredict)):\n",
    "    testPredictPlot[len(trainPredict)+t+look_back+horizon:len(trainPredict)+\n",
    "                    t+look_back+(horizon*2)] = testPredict[t, :]"
   ]
  },
  {
   "cell_type": "markdown",
   "metadata": {
    "colab_type": "text",
    "id": "IabXsSAwtcbo"
   },
   "source": [
    "### Prediction and Plot"
   ]
  },
  {
   "cell_type": "code",
   "execution_count": 874,
   "metadata": {
    "colab": {
     "base_uri": "https://localhost:8080/",
     "height": 282
    },
    "colab_type": "code",
    "id": "PQ713lkVlfy1",
    "outputId": "de044196-f0bb-41f3-84a4-85694368c636"
   },
   "outputs": [
    {
     "name": "stdout",
     "output_type": "stream",
     "text": [
      "Forecast: [[75.37651  72.63509  72.68591  63.697987 58.265923 56.467224]]\n"
     ]
    },
    {
     "data": {
      "image/png": "[encoded data removed]",
      "text/plain": [
       "<Figure size 432x288 with 1 Axes>"
      ]
     },
     "metadata": {
      "needs_background": "light"
     },
     "output_type": "display_data"
    }
   ],
   "source": [
    "# Forecast predictions\n",
    "forecastPlot = np.zeros((len(emission_data) + horizon))\n",
    "forecastPlot[:] = np.nan\n",
    "\n",
    "# Features\n",
    "#X = np.zeros((1, look_back, feature_data.shape[1]))\n",
    "X = np.zeros((1, look_back, num_of_feats))\n",
    "#X[0] = feature_data[len(feature_data)-look_back:, :]\n",
    "X[0] = feature_data[len(feature_data)-look_back:, :num_of_feats]\n",
    "predict = model.predict(X)\n",
    "forecastPlot[len(feature_data):len(feature_data)+horizon] = predict[:]\n",
    "\n",
    "print(f\"Forecast: {predict}\")\n",
    "\n",
    "# Plot baseline, training, test and forecast\n",
    "plt.plot(emission_data[:])\n",
    "plt.plot(trainPredictPlot[:])\n",
    "plt.plot(testPredictPlot[:])\n",
    "plt.plot(forecastPlot[:])\n",
    "plt.show()"
   ]
  }
 ],
 "metadata": {
  "colab": {
   "collapsed_sections": [],
   "name": "MultilayerPerceptron.ipynb",
   "provenance": [],
   "toc_visible": true
  },
  "kernelspec": {
   "display_name": "Python 3",
   "language": "python",
   "name": "python3"
  },
  "language_info": {
   "codemirror_mode": {
    "name": "ipython",
    "version": 3
   },
   "file_extension": ".py",
   "mimetype": "text/x-python",
   "name": "python",
   "nbconvert_exporter": "python",
   "pygments_lexer": "ipython3",
   "version": "3.7.7"
  }
 },
 "nbformat": 4,
 "nbformat_minor": 1
}
