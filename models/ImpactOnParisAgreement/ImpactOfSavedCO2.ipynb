{
 "cells": [
  {
   "cell_type": "code",
   "execution_count": 51,
   "metadata": {},
   "outputs": [],
   "source": [
    "import pandas as pd\n",
    "import numpy as np\n",
    "import matplotlib.pyplot as plt\n",
    "import seaborn as sns\n",
    "import fair\n",
    "\n",
    "plt.rcParams.update({'font.size':16})"
   ]
  },
  {
   "cell_type": "code",
   "execution_count": 80,
   "metadata": {},
   "outputs": [],
   "source": [
    "def ImpactOfReduction(df_co2_Cor, df_co2_noCor):\n",
    "    \n",
    "    #yearly sums\n",
    "    \n",
    "    #convert to datetime if needed\n",
    "    try: \n",
    "        df_co2_noCor.index = pd.to_datetime(df_co2_noCor.index) \n",
    "    except: \n",
    "        pass\n",
    "    try: \n",
    "        df_co2_Cor.index = pd.to_datetime(df_co2_Cor.index) \n",
    "    except: \n",
    "        pass\n",
    "\n",
    "    df_co2_noCor['year'] = df_co2_noCor.index.year\n",
    "    df_co2_Cor['year'] = df_co2_Cor.index.year\n",
    "\n",
    "    df_co2_noCor = df_co2_noCor.groupby('year').sum()\n",
    "    df_co2_Cor = df_co2_Cor.groupby('year').sum()\n",
    "\n",
    "    #impact on concentration and temperature increase\n",
    "    emissions_noCor = df_co2_noCor.co2_noCor.to_numpy() #in MtC\n",
    "    emissions_Cor = df_co2_Cor.co2_Cor.to_numpy() #in MtC\n",
    "    \n",
    "    #saved CO2 emissions in Mio tons and days of emissions\n",
    "    delta_CO2 = (np.sum(emissions_noCor) - np.sum(emissions_Cor))\n",
    "    dailyEmissions2019 = emissions_noCor[-2]/365\n",
    "    savedEmissionInDays = delta_CO2/dailyEmissions2019\n",
    "    \n",
    "    emissions_noCor = emissions_noCor / 1000 #in GtCO2\n",
    "    emissions_Cor = emissions_Cor / 1000 #in GtCO2\n",
    "    \n",
    "    #co2 mass must be converted to carbon mass using the molar mass of CO2 (44g/mol) and of Carbon (12g/mol)\n",
    "    emissions_noCor = (emissions_noCor/44)*12 #in GtC\n",
    "    emissions_Cor = (emissions_Cor/44)*12 #in GtC\n",
    "    \n",
    "    #usage of library FAIR to calculate the impact on global CO2 concentration and temperature increase\n",
    "    #https://gmd.copernicus.org/articles/11/2273/2018/\n",
    "    other_rf = np.zeros(emissions_noCor.size)\n",
    "    for x in range(0, emissions_noCor.size):\n",
    "        other_rf[x] = 0.5 * np.sin(2 * np.pi * (x) / 14.0)\n",
    "\n",
    "\n",
    "    #running the fair simulator for the case of corona and no corona to get the difference\n",
    "    C_noCor,F_noCor,T_noCor = fair.forward.fair_scm(\n",
    "        emissions=emissions_noCor,\n",
    "        other_rf=other_rf,\n",
    "        useMultigas=False\n",
    "    )\n",
    "\n",
    "    C_Cor,F_Cor,T_Cor = fair.forward.fair_scm(\n",
    "        emissions=emissions_Cor,\n",
    "        other_rf=other_rf,\n",
    "        useMultigas=False\n",
    "    )\n",
    "    \n",
    "\n",
    "    \n",
    "    delta_T = np.sum(T_noCor) - np.sum(T_Cor) #impact on global temperature\n",
    "    delta_C = np.sum(C_noCor) - np.sum(C_Cor) #impact on global CO2 concentration\n",
    "    \n",
    "    \n",
    "    dic_ret = {'delta_CO2_in_MioTons': delta_CO2,\n",
    "               'savedEmission_in_Days': savedEmissionInDays,\n",
    "               'delta_T_in_GradK': delta_T,\n",
    "               'delta_C_in_ppm': delta_C\n",
    "              }\n",
    "    \n",
    "    return dic_ret\n",
    "    "
   ]
  },
  {
   "cell_type": "markdown",
   "metadata": {},
   "source": [
    "# Test call"
   ]
  },
  {
   "cell_type": "code",
   "execution_count": 82,
   "metadata": {},
   "outputs": [
    {
     "data": {
      "text/plain": [
       "{'delta_CO2_in_MioTons': 48.38112762210585,\n",
       " 'savedEmission_in_Days': 102.95049230760361,\n",
       " 'delta_T_in_GradK': 1.0789296096991308e-05,\n",
       " 'delta_C_in_ppm': 0.006198015827976633}"
      ]
     },
     "execution_count": 82,
     "metadata": {},
     "output_type": "execute_result"
    }
   ],
   "source": [
    "#no corona co2\n",
    "df_co2_noCor = pd.read_csv('../../data/greenhouse_emissions/oeko-institut_sektorale_abgrenzung_treibhausgasemissionen_daten_sektor_monthly.csv', index_col='date')\n",
    "df_co2_noCor = df_co2_noCor[['M_Mio.tonnes_CO2']]\n",
    "df_co2_noCor = df_co2_noCor.rename(columns={'M_Mio.tonnes_CO2': 'co2_noCor'})\n",
    "\n",
    "\n",
    "#corona co2\n",
    "df_co2_Cor = pd.read_csv('CO2_mobility_lockdown.csv', index_col='Unnamed: 0')\n",
    "df_co2_Cor.index.name = 'date'\n",
    "df_co2_Cor = df_co2_Cor.rename(columns={'co2': 'co2_Cor'})\n",
    "df_co2_Cor = df_co2_Cor.loc['2020-01':]\n",
    "df_co2_Cor = df_co2_noCor.loc[:'2019-12'].rename(columns={'co2_noCor':'co2_Cor'}).append(df_co2_Cor)\n",
    "\n",
    "#df_co2_noCor.index = pd.to_datetime(df_co2_noCor.index) \n",
    "dic_ret = ImpactOfReduction(df_co2_Cor, df_co2_noCor)\n",
    "\n",
    "\n",
    "dic_ret\n"
   ]
  },
  {
   "cell_type": "code",
   "execution_count": null,
   "metadata": {},
   "outputs": [],
   "source": []
  }
 ],
 "metadata": {
  "kernelspec": {
   "display_name": "Python 3",
   "language": "python",
   "name": "python3"
  },
  "language_info": {
   "codemirror_mode": {
    "name": "ipython",
    "version": 3
   },
   "file_extension": ".py",
   "mimetype": "text/x-python",
   "name": "python",
   "nbconvert_exporter": "python",
   "pygments_lexer": "ipython3",
   "version": "3.7.5"
  }
 },
 "nbformat": 4,
 "nbformat_minor": 4
}
